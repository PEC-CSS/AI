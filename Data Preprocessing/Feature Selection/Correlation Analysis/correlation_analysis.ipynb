{
 "cells": [
  {
   "cell_type": "markdown",
   "id": "66cd55c7-1a34-486b-bbc0-789d82de9bac",
   "metadata": {},
   "source": [
    "## Feature Seelction using Correlation Ananlysis"
   ]
  },
  {
   "cell_type": "code",
   "execution_count": 103,
   "id": "41e2f83d-41de-4e19-b6e3-8032b0d6c864",
   "metadata": {},
   "outputs": [],
   "source": [
    "#import required libraries\n",
    "import numpy as np\n",
    "import pandas as pd\n",
    "import seaborn as sns\n",
    "import matplotlib.pyplot as plt"
   ]
  },
  {
   "cell_type": "code",
   "execution_count": 104,
   "id": "b548ff73-2f89-4202-be66-a803545a22bf",
   "metadata": {},
   "outputs": [],
   "source": [
    "#read the csv file\n",
    "df=pd.read_csv(\"anaemia.csv\")"
   ]
  },
  {
   "cell_type": "code",
   "execution_count": 105,
   "id": "ed4592d3-199c-41bf-ad88-64ac074fba63",
   "metadata": {},
   "outputs": [
    {
     "data": {
      "text/html": [
       "<div>\n",
       "<style scoped>\n",
       "    .dataframe tbody tr th:only-of-type {\n",
       "        vertical-align: middle;\n",
       "    }\n",
       "\n",
       "    .dataframe tbody tr th {\n",
       "        vertical-align: top;\n",
       "    }\n",
       "\n",
       "    .dataframe thead th {\n",
       "        text-align: right;\n",
       "    }\n",
       "</style>\n",
       "<table border=\"1\" class=\"dataframe\">\n",
       "  <thead>\n",
       "    <tr style=\"text-align: right;\">\n",
       "      <th></th>\n",
       "      <th>Number</th>\n",
       "      <th>Sex</th>\n",
       "      <th>%Red Pixel</th>\n",
       "      <th>%Green pixel</th>\n",
       "      <th>%Blue pixel</th>\n",
       "      <th>Hb</th>\n",
       "      <th>Anaemic</th>\n",
       "    </tr>\n",
       "  </thead>\n",
       "  <tbody>\n",
       "    <tr>\n",
       "      <th>0</th>\n",
       "      <td>1</td>\n",
       "      <td>M</td>\n",
       "      <td>43.2555</td>\n",
       "      <td>30.8421</td>\n",
       "      <td>25.9025</td>\n",
       "      <td>6.3</td>\n",
       "      <td>Yes</td>\n",
       "    </tr>\n",
       "    <tr>\n",
       "      <th>1</th>\n",
       "      <td>2</td>\n",
       "      <td>F</td>\n",
       "      <td>45.6033</td>\n",
       "      <td>28.1900</td>\n",
       "      <td>26.2067</td>\n",
       "      <td>13.5</td>\n",
       "      <td>No</td>\n",
       "    </tr>\n",
       "    <tr>\n",
       "      <th>2</th>\n",
       "      <td>3</td>\n",
       "      <td>F</td>\n",
       "      <td>45.0107</td>\n",
       "      <td>28.9677</td>\n",
       "      <td>26.0215</td>\n",
       "      <td>11.7</td>\n",
       "      <td>No</td>\n",
       "    </tr>\n",
       "    <tr>\n",
       "      <th>3</th>\n",
       "      <td>4</td>\n",
       "      <td>F</td>\n",
       "      <td>44.5398</td>\n",
       "      <td>28.9899</td>\n",
       "      <td>26.4703</td>\n",
       "      <td>13.5</td>\n",
       "      <td>No</td>\n",
       "    </tr>\n",
       "    <tr>\n",
       "      <th>4</th>\n",
       "      <td>5</td>\n",
       "      <td>M</td>\n",
       "      <td>43.2870</td>\n",
       "      <td>30.6972</td>\n",
       "      <td>26.0158</td>\n",
       "      <td>12.4</td>\n",
       "      <td>No</td>\n",
       "    </tr>\n",
       "  </tbody>\n",
       "</table>\n",
       "</div>"
      ],
      "text/plain": [
       "   Number Sex  %Red Pixel  %Green pixel  %Blue pixel    Hb Anaemic\n",
       "0       1   M     43.2555       30.8421      25.9025   6.3     Yes\n",
       "1       2   F     45.6033       28.1900      26.2067  13.5      No\n",
       "2       3  F      45.0107       28.9677      26.0215  11.7      No\n",
       "3       4   F     44.5398       28.9899      26.4703  13.5      No\n",
       "4       5  M      43.2870       30.6972      26.0158  12.4      No"
      ]
     },
     "execution_count": 105,
     "metadata": {},
     "output_type": "execute_result"
    }
   ],
   "source": [
    "df.head()"
   ]
  },
  {
   "cell_type": "code",
   "execution_count": 106,
   "id": "41793a41-b7cc-4d86-8581-9b3a3bad6ee7",
   "metadata": {},
   "outputs": [
    {
     "data": {
      "text/plain": [
       "Number            int64\n",
       "Sex              object\n",
       "%Red Pixel      float64\n",
       "%Green pixel    float64\n",
       "%Blue pixel     float64\n",
       "Hb              float64\n",
       "Anaemic          object\n",
       "dtype: object"
      ]
     },
     "execution_count": 106,
     "metadata": {},
     "output_type": "execute_result"
    }
   ],
   "source": [
    "df.dtypes"
   ]
  },
  {
   "cell_type": "code",
   "execution_count": 107,
   "id": "fb1bcd45-489f-4a99-a84a-c218ebc97769",
   "metadata": {},
   "outputs": [
    {
     "data": {
      "text/plain": [
       "Number          0\n",
       "Sex             0\n",
       "%Red Pixel      0\n",
       "%Green pixel    0\n",
       "%Blue pixel     0\n",
       "Hb              0\n",
       "Anaemic         0\n",
       "dtype: int64"
      ]
     },
     "execution_count": 107,
     "metadata": {},
     "output_type": "execute_result"
    }
   ],
   "source": [
    "#check if dataset has any null values\n",
    "df.isnull().sum()"
   ]
  },
  {
   "cell_type": "markdown",
   "id": "1ef1a339-f992-47fb-bfc5-d95d3d5d4618",
   "metadata": {},
   "source": [
    "Since Anaemic column is of object data type so convert it in integer type so that correlation matrix can be formed"
   ]
  },
  {
   "cell_type": "code",
   "execution_count": 108,
   "id": "9fcef0a9-93a2-4e5c-8fbc-e6dce55c2f0f",
   "metadata": {},
   "outputs": [
    {
     "data": {
      "text/html": [
       "<div>\n",
       "<style scoped>\n",
       "    .dataframe tbody tr th:only-of-type {\n",
       "        vertical-align: middle;\n",
       "    }\n",
       "\n",
       "    .dataframe tbody tr th {\n",
       "        vertical-align: top;\n",
       "    }\n",
       "\n",
       "    .dataframe thead th {\n",
       "        text-align: right;\n",
       "    }\n",
       "</style>\n",
       "<table border=\"1\" class=\"dataframe\">\n",
       "  <thead>\n",
       "    <tr style=\"text-align: right;\">\n",
       "      <th></th>\n",
       "      <th>Number</th>\n",
       "      <th>Sex</th>\n",
       "      <th>%Red Pixel</th>\n",
       "      <th>%Green pixel</th>\n",
       "      <th>%Blue pixel</th>\n",
       "      <th>Hb</th>\n",
       "      <th>Anaemic</th>\n",
       "    </tr>\n",
       "  </thead>\n",
       "  <tbody>\n",
       "    <tr>\n",
       "      <th>0</th>\n",
       "      <td>1</td>\n",
       "      <td>M</td>\n",
       "      <td>43.2555</td>\n",
       "      <td>30.8421</td>\n",
       "      <td>25.9025</td>\n",
       "      <td>6.3</td>\n",
       "      <td>1</td>\n",
       "    </tr>\n",
       "    <tr>\n",
       "      <th>1</th>\n",
       "      <td>2</td>\n",
       "      <td>F</td>\n",
       "      <td>45.6033</td>\n",
       "      <td>28.1900</td>\n",
       "      <td>26.2067</td>\n",
       "      <td>13.5</td>\n",
       "      <td>0</td>\n",
       "    </tr>\n",
       "    <tr>\n",
       "      <th>2</th>\n",
       "      <td>3</td>\n",
       "      <td>F</td>\n",
       "      <td>45.0107</td>\n",
       "      <td>28.9677</td>\n",
       "      <td>26.0215</td>\n",
       "      <td>11.7</td>\n",
       "      <td>0</td>\n",
       "    </tr>\n",
       "    <tr>\n",
       "      <th>3</th>\n",
       "      <td>4</td>\n",
       "      <td>F</td>\n",
       "      <td>44.5398</td>\n",
       "      <td>28.9899</td>\n",
       "      <td>26.4703</td>\n",
       "      <td>13.5</td>\n",
       "      <td>0</td>\n",
       "    </tr>\n",
       "    <tr>\n",
       "      <th>4</th>\n",
       "      <td>5</td>\n",
       "      <td>M</td>\n",
       "      <td>43.2870</td>\n",
       "      <td>30.6972</td>\n",
       "      <td>26.0158</td>\n",
       "      <td>12.4</td>\n",
       "      <td>0</td>\n",
       "    </tr>\n",
       "  </tbody>\n",
       "</table>\n",
       "</div>"
      ],
      "text/plain": [
       "   Number Sex  %Red Pixel  %Green pixel  %Blue pixel    Hb  Anaemic\n",
       "0       1   M     43.2555       30.8421      25.9025   6.3        1\n",
       "1       2   F     45.6033       28.1900      26.2067  13.5        0\n",
       "2       3  F      45.0107       28.9677      26.0215  11.7        0\n",
       "3       4   F     44.5398       28.9899      26.4703  13.5        0\n",
       "4       5  M      43.2870       30.6972      26.0158  12.4        0"
      ]
     },
     "execution_count": 108,
     "metadata": {},
     "output_type": "execute_result"
    }
   ],
   "source": [
    "def foo(x):\n",
    "    if x == 'No':\n",
    "        return 0\n",
    "    elif x == 'Yes':\n",
    "        return 1\n",
    "    else:\n",
    "        return x\n",
    "df['Anaemic']=df['Anaemic'].map(lambda x: foo(x))\n",
    "df.head()"
   ]
  },
  {
   "cell_type": "code",
   "execution_count": 109,
   "id": "f98c1723-1438-4bc7-8665-c87dc7d8e288",
   "metadata": {},
   "outputs": [
    {
     "data": {
      "text/plain": [
       "Anaemic\n",
       "0    78\n",
       "1    26\n",
       "Name: count, dtype: int64"
      ]
     },
     "execution_count": 109,
     "metadata": {},
     "output_type": "execute_result"
    }
   ],
   "source": [
    "df['Anaemic'].value_counts()"
   ]
  },
  {
   "cell_type": "markdown",
   "id": "1c3250d8-a5e4-4253-bece-2bcaf23f48d8",
   "metadata": {},
   "source": [
    "In dataset we see that Sex column usually has 2 values ('M' and 'F') but here due to some input error it is showing 4 different values in Sex column "
   ]
  },
  {
   "cell_type": "code",
   "execution_count": 114,
   "id": "2bf32e3e-5c68-4d84-95d5-90d53c7fc981",
   "metadata": {},
   "outputs": [],
   "source": [
    "df.Sex = df['Sex'].str.replace('M ','M')\n",
    "df.Sex = df['Sex'].str.replace('F ','F')"
   ]
  },
  {
   "cell_type": "code",
   "execution_count": 115,
   "id": "7b6e52b8-3156-426b-8501-62378996610d",
   "metadata": {},
   "outputs": [
    {
     "data": {
      "text/plain": [
       "Sex\n",
       "M    55\n",
       "F    49\n",
       "Name: count, dtype: int64"
      ]
     },
     "execution_count": 115,
     "metadata": {},
     "output_type": "execute_result"
    }
   ],
   "source": [
    "df.Sex.value_counts()"
   ]
  },
  {
   "cell_type": "markdown",
   "id": "c2ee4916-c95a-466c-98d5-36ed55526005",
   "metadata": {},
   "source": [
    "Sex can have some correlation with the target variable but it is a categorical column. So convert categorical column into numerical column by Dummy Encoding."
   ]
  },
  {
   "cell_type": "code",
   "execution_count": 135,
   "id": "5bf0e22d-31f1-446b-a623-393d5c986460",
   "metadata": {},
   "outputs": [
    {
     "data": {
      "text/html": [
       "<div>\n",
       "<style scoped>\n",
       "    .dataframe tbody tr th:only-of-type {\n",
       "        vertical-align: middle;\n",
       "    }\n",
       "\n",
       "    .dataframe tbody tr th {\n",
       "        vertical-align: top;\n",
       "    }\n",
       "\n",
       "    .dataframe thead th {\n",
       "        text-align: right;\n",
       "    }\n",
       "</style>\n",
       "<table border=\"1\" class=\"dataframe\">\n",
       "  <thead>\n",
       "    <tr style=\"text-align: right;\">\n",
       "      <th></th>\n",
       "      <th>Number</th>\n",
       "      <th>%Red Pixel</th>\n",
       "      <th>%Green pixel</th>\n",
       "      <th>%Blue pixel</th>\n",
       "      <th>Hb</th>\n",
       "      <th>Anaemic</th>\n",
       "      <th>Sex_F</th>\n",
       "      <th>Sex_M</th>\n",
       "    </tr>\n",
       "  </thead>\n",
       "  <tbody>\n",
       "    <tr>\n",
       "      <th>0</th>\n",
       "      <td>1</td>\n",
       "      <td>43.2555</td>\n",
       "      <td>30.8421</td>\n",
       "      <td>25.9025</td>\n",
       "      <td>6.3</td>\n",
       "      <td>1</td>\n",
       "      <td>False</td>\n",
       "      <td>True</td>\n",
       "    </tr>\n",
       "    <tr>\n",
       "      <th>1</th>\n",
       "      <td>2</td>\n",
       "      <td>45.6033</td>\n",
       "      <td>28.1900</td>\n",
       "      <td>26.2067</td>\n",
       "      <td>13.5</td>\n",
       "      <td>0</td>\n",
       "      <td>True</td>\n",
       "      <td>False</td>\n",
       "    </tr>\n",
       "    <tr>\n",
       "      <th>2</th>\n",
       "      <td>3</td>\n",
       "      <td>45.0107</td>\n",
       "      <td>28.9677</td>\n",
       "      <td>26.0215</td>\n",
       "      <td>11.7</td>\n",
       "      <td>0</td>\n",
       "      <td>True</td>\n",
       "      <td>False</td>\n",
       "    </tr>\n",
       "    <tr>\n",
       "      <th>3</th>\n",
       "      <td>4</td>\n",
       "      <td>44.5398</td>\n",
       "      <td>28.9899</td>\n",
       "      <td>26.4703</td>\n",
       "      <td>13.5</td>\n",
       "      <td>0</td>\n",
       "      <td>True</td>\n",
       "      <td>False</td>\n",
       "    </tr>\n",
       "    <tr>\n",
       "      <th>4</th>\n",
       "      <td>5</td>\n",
       "      <td>43.2870</td>\n",
       "      <td>30.6972</td>\n",
       "      <td>26.0158</td>\n",
       "      <td>12.4</td>\n",
       "      <td>0</td>\n",
       "      <td>False</td>\n",
       "      <td>True</td>\n",
       "    </tr>\n",
       "  </tbody>\n",
       "</table>\n",
       "</div>"
      ],
      "text/plain": [
       "   Number  %Red Pixel  %Green pixel  %Blue pixel    Hb  Anaemic  Sex_F  Sex_M\n",
       "0       1     43.2555       30.8421      25.9025   6.3        1  False   True\n",
       "1       2     45.6033       28.1900      26.2067  13.5        0   True  False\n",
       "2       3     45.0107       28.9677      26.0215  11.7        0   True  False\n",
       "3       4     44.5398       28.9899      26.4703  13.5        0   True  False\n",
       "4       5     43.2870       30.6972      26.0158  12.4        0  False   True"
      ]
     },
     "execution_count": 135,
     "metadata": {},
     "output_type": "execute_result"
    }
   ],
   "source": [
    "new_df1=pd.get_dummies(df)\n",
    "new_df1.head()"
   ]
  },
  {
   "cell_type": "markdown",
   "id": "6190d76c-58d9-4f09-8a1f-c13121919d6d",
   "metadata": {},
   "source": [
    "### Using correlation analysis features are selected based on their correlation with each other or target variable\n",
    "1. Based on correlation with each other: When two or more features are highly correlated with each other then it is better to remove all correlated featurs and have only 1 of them for futher processing\n",
    "2. Based on correlation with target variable: When a feature is not correlated with target variable then it is better to remove it "
   ]
  },
  {
   "cell_type": "code",
   "execution_count": 136,
   "id": "6ba4f560-4dd3-43cf-9012-fa2a2ab4fd82",
   "metadata": {},
   "outputs": [
    {
     "data": {
      "text/html": [
       "<div>\n",
       "<style scoped>\n",
       "    .dataframe tbody tr th:only-of-type {\n",
       "        vertical-align: middle;\n",
       "    }\n",
       "\n",
       "    .dataframe tbody tr th {\n",
       "        vertical-align: top;\n",
       "    }\n",
       "\n",
       "    .dataframe thead th {\n",
       "        text-align: right;\n",
       "    }\n",
       "</style>\n",
       "<table border=\"1\" class=\"dataframe\">\n",
       "  <thead>\n",
       "    <tr style=\"text-align: right;\">\n",
       "      <th></th>\n",
       "      <th>Number</th>\n",
       "      <th>%Red Pixel</th>\n",
       "      <th>%Green pixel</th>\n",
       "      <th>%Blue pixel</th>\n",
       "      <th>Hb</th>\n",
       "      <th>Anaemic</th>\n",
       "      <th>Sex_F</th>\n",
       "      <th>Sex_M</th>\n",
       "    </tr>\n",
       "  </thead>\n",
       "  <tbody>\n",
       "    <tr>\n",
       "      <th>Number</th>\n",
       "      <td>1.000000</td>\n",
       "      <td>0.286166</td>\n",
       "      <td>-0.077089</td>\n",
       "      <td>-0.345707</td>\n",
       "      <td>-0.019768</td>\n",
       "      <td>0.053997</td>\n",
       "      <td>-0.057428</td>\n",
       "      <td>0.057428</td>\n",
       "    </tr>\n",
       "    <tr>\n",
       "      <th>%Red Pixel</th>\n",
       "      <td>0.286166</td>\n",
       "      <td>1.000000</td>\n",
       "      <td>-0.732003</td>\n",
       "      <td>-0.845764</td>\n",
       "      <td>0.424586</td>\n",
       "      <td>-0.353376</td>\n",
       "      <td>-0.137778</td>\n",
       "      <td>0.137778</td>\n",
       "    </tr>\n",
       "    <tr>\n",
       "      <th>%Green pixel</th>\n",
       "      <td>-0.077089</td>\n",
       "      <td>-0.732003</td>\n",
       "      <td>1.000000</td>\n",
       "      <td>0.255589</td>\n",
       "      <td>-0.637340</td>\n",
       "      <td>0.566447</td>\n",
       "      <td>0.234813</td>\n",
       "      <td>-0.234813</td>\n",
       "    </tr>\n",
       "    <tr>\n",
       "      <th>%Blue pixel</th>\n",
       "      <td>-0.345707</td>\n",
       "      <td>-0.845764</td>\n",
       "      <td>0.255589</td>\n",
       "      <td>1.000000</td>\n",
       "      <td>-0.103373</td>\n",
       "      <td>0.057844</td>\n",
       "      <td>0.011616</td>\n",
       "      <td>-0.011616</td>\n",
       "    </tr>\n",
       "    <tr>\n",
       "      <th>Hb</th>\n",
       "      <td>-0.019768</td>\n",
       "      <td>0.424586</td>\n",
       "      <td>-0.637340</td>\n",
       "      <td>-0.103373</td>\n",
       "      <td>1.000000</td>\n",
       "      <td>-0.766506</td>\n",
       "      <td>-0.254932</td>\n",
       "      <td>0.254932</td>\n",
       "    </tr>\n",
       "    <tr>\n",
       "      <th>Anaemic</th>\n",
       "      <td>0.053997</td>\n",
       "      <td>-0.353376</td>\n",
       "      <td>0.566447</td>\n",
       "      <td>0.057844</td>\n",
       "      <td>-0.766506</td>\n",
       "      <td>1.000000</td>\n",
       "      <td>0.211307</td>\n",
       "      <td>-0.211307</td>\n",
       "    </tr>\n",
       "    <tr>\n",
       "      <th>Sex_F</th>\n",
       "      <td>-0.057428</td>\n",
       "      <td>-0.137778</td>\n",
       "      <td>0.234813</td>\n",
       "      <td>0.011616</td>\n",
       "      <td>-0.254932</td>\n",
       "      <td>0.211307</td>\n",
       "      <td>1.000000</td>\n",
       "      <td>-1.000000</td>\n",
       "    </tr>\n",
       "    <tr>\n",
       "      <th>Sex_M</th>\n",
       "      <td>0.057428</td>\n",
       "      <td>0.137778</td>\n",
       "      <td>-0.234813</td>\n",
       "      <td>-0.011616</td>\n",
       "      <td>0.254932</td>\n",
       "      <td>-0.211307</td>\n",
       "      <td>-1.000000</td>\n",
       "      <td>1.000000</td>\n",
       "    </tr>\n",
       "  </tbody>\n",
       "</table>\n",
       "</div>"
      ],
      "text/plain": [
       "                Number  %Red Pixel  %Green pixel  %Blue pixel        Hb  \\\n",
       "Number        1.000000    0.286166     -0.077089    -0.345707 -0.019768   \n",
       "%Red Pixel    0.286166    1.000000     -0.732003    -0.845764  0.424586   \n",
       "%Green pixel -0.077089   -0.732003      1.000000     0.255589 -0.637340   \n",
       "%Blue pixel  -0.345707   -0.845764      0.255589     1.000000 -0.103373   \n",
       "Hb           -0.019768    0.424586     -0.637340    -0.103373  1.000000   \n",
       "Anaemic       0.053997   -0.353376      0.566447     0.057844 -0.766506   \n",
       "Sex_F        -0.057428   -0.137778      0.234813     0.011616 -0.254932   \n",
       "Sex_M         0.057428    0.137778     -0.234813    -0.011616  0.254932   \n",
       "\n",
       "               Anaemic     Sex_F     Sex_M  \n",
       "Number        0.053997 -0.057428  0.057428  \n",
       "%Red Pixel   -0.353376 -0.137778  0.137778  \n",
       "%Green pixel  0.566447  0.234813 -0.234813  \n",
       "%Blue pixel   0.057844  0.011616 -0.011616  \n",
       "Hb           -0.766506 -0.254932  0.254932  \n",
       "Anaemic       1.000000  0.211307 -0.211307  \n",
       "Sex_F         0.211307  1.000000 -1.000000  \n",
       "Sex_M        -0.211307 -1.000000  1.000000  "
      ]
     },
     "execution_count": 136,
     "metadata": {},
     "output_type": "execute_result"
    }
   ],
   "source": [
    "corr=new_df1.corr(numeric_only=False)\n",
    "corr"
   ]
  },
  {
   "cell_type": "markdown",
   "id": "030893c1-7931-4be6-a418-fabc6218b627",
   "metadata": {},
   "source": [
    "Visual Representation of correlation matrix using heatmap"
   ]
  },
  {
   "cell_type": "code",
   "execution_count": 137,
   "id": "144b6e7d-5491-44b3-a862-444414d6b515",
   "metadata": {},
   "outputs": [
    {
     "data": {
      "image/png": "[encoded data removed]",
      "text/plain": [
       "<Figure size 640x480 with 2 Axes>"
      ]
     },
     "metadata": {},
     "output_type": "display_data"
    },
    {
     "data": {
      "text/plain": [
       "<Figure size 3000x2000 with 0 Axes>"
      ]
     },
     "metadata": {},
     "output_type": "display_data"
    }
   ],
   "source": [
    "sns.heatmap(corr,cmap=\"coolwarm\",annot=True)\n",
    "plt.figure(figsize=(30,20))\n",
    "plt.show()"
   ]
  },
  {
   "cell_type": "markdown",
   "id": "f4eb2b3d-fa78-402b-8c2d-c6a8f530e9e0",
   "metadata": {},
   "source": [
    "## Insights:\n",
    "1. Number has -0.02 correlation with target variable i.e. Anaemic\n",
    "2. Blue pixels and Red pixels have correlation of -0.85 hence one of these features can be removed\n",
    "3. Green pixels and Hb are highly correlated with target variable\n",
    "4. Sex_F and Sex_M are highly correlated so we can remove any one of them\n",
    "   "
   ]
  },
  {
   "cell_type": "code",
   "execution_count": 138,
   "id": "790ce516-4145-40c6-a6a1-fb721fa76e58",
   "metadata": {},
   "outputs": [],
   "source": [
    "new_df=new_df1.drop(labels=['%Blue pixel','Sex_M','Number'] , axis=1)"
   ]
  },
  {
   "cell_type": "code",
   "execution_count": 139,
   "id": "98618811-f98c-4a43-a92e-84c2125b809e",
   "metadata": {},
   "outputs": [
    {
     "data": {
      "text/html": [
       "<div>\n",
       "<style scoped>\n",
       "    .dataframe tbody tr th:only-of-type {\n",
       "        vertical-align: middle;\n",
       "    }\n",
       "\n",
       "    .dataframe tbody tr th {\n",
       "        vertical-align: top;\n",
       "    }\n",
       "\n",
       "    .dataframe thead th {\n",
       "        text-align: right;\n",
       "    }\n",
       "</style>\n",
       "<table border=\"1\" class=\"dataframe\">\n",
       "  <thead>\n",
       "    <tr style=\"text-align: right;\">\n",
       "      <th></th>\n",
       "      <th>%Red Pixel</th>\n",
       "      <th>%Green pixel</th>\n",
       "      <th>Hb</th>\n",
       "      <th>Anaemic</th>\n",
       "      <th>Sex_F</th>\n",
       "    </tr>\n",
       "  </thead>\n",
       "  <tbody>\n",
       "    <tr>\n",
       "      <th>0</th>\n",
       "      <td>43.2555</td>\n",
       "      <td>30.8421</td>\n",
       "      <td>6.3</td>\n",
       "      <td>1</td>\n",
       "      <td>False</td>\n",
       "    </tr>\n",
       "    <tr>\n",
       "      <th>1</th>\n",
       "      <td>45.6033</td>\n",
       "      <td>28.1900</td>\n",
       "      <td>13.5</td>\n",
       "      <td>0</td>\n",
       "      <td>True</td>\n",
       "    </tr>\n",
       "    <tr>\n",
       "      <th>2</th>\n",
       "      <td>45.0107</td>\n",
       "      <td>28.9677</td>\n",
       "      <td>11.7</td>\n",
       "      <td>0</td>\n",
       "      <td>True</td>\n",
       "    </tr>\n",
       "    <tr>\n",
       "      <th>3</th>\n",
       "      <td>44.5398</td>\n",
       "      <td>28.9899</td>\n",
       "      <td>13.5</td>\n",
       "      <td>0</td>\n",
       "      <td>True</td>\n",
       "    </tr>\n",
       "    <tr>\n",
       "      <th>4</th>\n",
       "      <td>43.2870</td>\n",
       "      <td>30.6972</td>\n",
       "      <td>12.4</td>\n",
       "      <td>0</td>\n",
       "      <td>False</td>\n",
       "    </tr>\n",
       "  </tbody>\n",
       "</table>\n",
       "</div>"
      ],
      "text/plain": [
       "   %Red Pixel  %Green pixel    Hb  Anaemic  Sex_F\n",
       "0     43.2555       30.8421   6.3        1  False\n",
       "1     45.6033       28.1900  13.5        0   True\n",
       "2     45.0107       28.9677  11.7        0   True\n",
       "3     44.5398       28.9899  13.5        0   True\n",
       "4     43.2870       30.6972  12.4        0  False"
      ]
     },
     "execution_count": 139,
     "metadata": {},
     "output_type": "execute_result"
    }
   ],
   "source": [
    "new_df.head()"
   ]
  },
  {
   "cell_type": "code",
   "execution_count": null,
   "id": "0d58e93d-1eda-4626-866b-f5f5f9e547e0",
   "metadata": {},
   "outputs": [],
   "source": []
  }
 ],
 "metadata": {
  "kernelspec": {
   "display_name": "Python 3 (ipykernel)",
   "language": "python",
   "name": "python3"
  },
  "language_info": {
   "codemirror_mode": {
    "name": "ipython",
    "version": 3
   },
   "file_extension": ".py",
   "mimetype": "text/x-python",
   "name": "python",
   "nbconvert_exporter": "python",
   "pygments_lexer": "ipython3",
   "version": "3.11.5"
  }
 },
 "nbformat": 4,
 "nbformat_minor": 5
}

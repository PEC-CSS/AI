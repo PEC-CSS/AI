{
 "cells": [
  {
   "cell_type": "code",
   "execution_count": 1,
   "id": "9037c8e1-e1e8-4664-9703-4035b9dc3e51",
   "metadata": {},
   "outputs": [],
   "source": [
    "# Note: This notebook was created by Guntaas Kapoor (guntaaskapoor.bt23cseds@pec.edu.in)"
   ]
  },
  {
   "cell_type": "markdown",
   "id": "dd5aee78-68e3-46ef-a56a-c44a739efa30",
   "metadata": {},
   "source": [
    "# **Autoencoders for Unsupervised Machine Learning**"
   ]
  },
  {
   "cell_type": "markdown",
   "id": "634e4cae-7640-4a81-a972-8d56e2290026",
   "metadata": {},
   "source": [
    "1. Autoencoders are a type of Neural Network that are used to learn efficient lower dimension representations of the data\n",
    "\n",
    "2. Autoencoders can be used for dimensionality reduction or anomaly detection\n",
    "\n",
    "3. They are used in higher dimensional data like image data, text embeddings etc\n",
    "- Encoder - Compresses the input into a lower dimensional data\n",
    "- Decoder - Reconstructs the input from the lower dimensional data\n",
    "- During training - minimize reconstruction loss (Mean Squared Error)"
   ]
  },
  {
   "cell_type": "markdown",
   "id": "0560d34c-d31f-4e7d-b7d8-e589dca28623",
   "metadata": {},
   "source": [
    "# Different types of Autoencoders:\n",
    "\n",
    "- **Vanilla Autoencoder:** Uses fully connected layers to compress and reconstruct data.\n",
    "  \n",
    "- **Convolutional Autoencoder (CAE)**: Uses convolutional layers, effective for image data.\n",
    "\n",
    "- **Variational Autoencoder (VAE)**: Learns a probabilistic distribution of the latent space, useful for generative modeling.\n",
    "\n",
    "- **Denoising Autoencoder (DAE)**: Trained to reconstruct data from noisy inputs, enhancing robustness.\n"
   ]
  },
  {
   "cell_type": "markdown",
   "id": "c602289c-d928-4146-a781-dc7b2668fe76",
   "metadata": {},
   "source": [
    "# 1. **Dimensionality Reduction for Images**\n",
    "\n",
    "Unlike traditional autoencoders, CAEs retain spatial information, making them better for high-dimensional images.\n",
    "Can be used as a feature extractor for clustering or classification tasks."
   ]
  },
  {
   "cell_type": "markdown",
   "id": "a8f3ffaf-55eb-46bc-95ad-8dcfa01b7e4e",
   "metadata": {},
   "source": [
    "## Convolutional Autoencoder (CAE) - Used for image data"
   ]
  },
  {
   "cell_type": "markdown",
   "id": "bb9c7d52-89de-4d8c-a6b4-acef375ad86f",
   "metadata": {},
   "source": [
    "## **1.1 Importing the libraries**"
   ]
  },
  {
   "cell_type": "code",
   "execution_count": 2,
   "id": "4050e544-40da-4a17-bd77-592bd2d85344",
   "metadata": {},
   "outputs": [],
   "source": [
    "import numpy as np\n",
    "import pandas as pd\n",
    "import matplotlib.pyplot as plt\n",
    "import seaborn as sns\n",
    "import sklearn\n",
    "import tensorflow\n",
    "from tensorflow import keras\n",
    "from tensorflow.keras.layers import Input, Dense\n",
    "from tensorflow.keras.models import Model"
   ]
  },
  {
   "cell_type": "markdown",
   "id": "605b7ef7-b4bb-4cc9-926b-8d31c6de105d",
   "metadata": {},
   "source": [
    "## **1.2 Importing the digits dataset (handwritten digits from 0-9)**"
   ]
  },
  {
   "cell_type": "code",
   "execution_count": 3,
   "id": "dff448c3-f77b-489a-b34b-14bab5050fb1",
   "metadata": {},
   "outputs": [],
   "source": [
    "from sklearn.datasets import load_digits"
   ]
  },
  {
   "cell_type": "code",
   "execution_count": 4,
   "id": "fdb186a0-6e69-469f-b261-4d36ce1b69d4",
   "metadata": {},
   "outputs": [],
   "source": [
    "data = load_digits() #Loading the data\n",
    "X = data.data"
   ]
  },
  {
   "cell_type": "code",
   "execution_count": 5,
   "id": "48cb05a1-e166-4471-9728-296245c9118e",
   "metadata": {},
   "outputs": [
    {
     "data": {
      "text/plain": [
       "(1797, 64)"
      ]
     },
     "execution_count": 5,
     "metadata": {},
     "output_type": "execute_result"
    }
   ],
   "source": [
    "X.shape #(1797 rows of images with 64 columns)"
   ]
  },
  {
   "cell_type": "code",
   "execution_count": 6,
   "id": "fb0d346f-8041-4025-93e0-8d746064ce32",
   "metadata": {},
   "outputs": [
    {
     "data": {
      "text/plain": [
       "64"
      ]
     },
     "execution_count": 6,
     "metadata": {},
     "output_type": "execute_result"
    }
   ],
   "source": [
    "X[0].size # Size of each image (8x8=64)"
   ]
  },
  {
   "cell_type": "markdown",
   "id": "97c2eca5-6159-48d6-a7a5-4da45a4dad35",
   "metadata": {},
   "source": [
    "## **1.3 Scaling each image to from 0-255 to 0-1 values**"
   ]
  },
  {
   "cell_type": "markdown",
   "id": "a49dc0b9-8ec6-495c-8f67-16956c65f581",
   "metadata": {},
   "source": [
    "To facilitate easier processing, the pixel values are **scaled to a range of 0 to 1**. This is done using **Min-Max Scaling**, which is particularly useful when the **minimum and maximum values are known**.\r\n",
    "\r\n",
    "The formula for Min-Max Scaling is:\r\n",
    "\r\n",
    "$$\r\n",
    "\\text{new value} = \\frac{\\text{old value} - \\min}{\\max - \\min}\r\n",
    "$$\r\n",
    "\r\n",
    "For grayscale images:\r\n",
    "\r\n",
    "- **min = 0** (black)\r\n",
    "- **max = 255** (white)\r\n",
    "\r\n",
    "Thus, the transformation becomes:\r\n",
    "\r\n",
    "$$\r\n",
    "\\text{new value} = \\frac{\\text{old value} - 0}{255 - 0} = \\frac{\\text{old value}}{255}\r\n",
    "$$\r\n",
    "\r\n",
    "After normalization:\r\n",
    "\r\n",
    "- **0** remains **0** (black)\r\n",
    "- **255** becomes **1** (white)\r\n",
    "- Intermediate values are proportionally scaled between **0 and 1**\r\n",
    "ed between **0 and 1**\r\n",
    "onally scaled between **0 and 1**  \r\n"
   ]
  },
  {
   "cell_type": "code",
   "execution_count": 7,
   "id": "2df5ba28-8107-44ce-826f-f005018ce273",
   "metadata": {},
   "outputs": [],
   "source": [
    "from sklearn.preprocessing import MinMaxScaler\n",
    "scaler1 = MinMaxScaler()\n",
    "X_scaled = scaler1.fit_transform(X)"
   ]
  },
  {
   "cell_type": "code",
   "execution_count": 8,
   "id": "ad12a8ba-b0aa-4958-9d70-154c008280d5",
   "metadata": {},
   "outputs": [
    {
     "data": {
      "text/plain": [
       "array([0.        , 0.        , 0.3125    , 0.8125    , 0.5625    ,\n",
       "       0.0625    , 0.        , 0.        , 0.        , 0.        ,\n",
       "       0.8125    , 0.9375    , 0.625     , 0.9375    , 0.3125    ,\n",
       "       0.        , 0.        , 0.1875    , 0.9375    , 0.125     ,\n",
       "       0.        , 0.6875    , 0.5       , 0.        , 0.        ,\n",
       "       0.26666667, 0.75      , 0.        , 0.        , 0.5       ,\n",
       "       0.53333333, 0.        , 0.        , 0.35714286, 0.5       ,\n",
       "       0.        , 0.        , 0.5625    , 0.57142857, 0.        ,\n",
       "       0.        , 0.25      , 0.6875    , 0.        , 0.0625    ,\n",
       "       0.75      , 0.4375    , 0.        , 0.        , 0.125     ,\n",
       "       0.875     , 0.3125    , 0.625     , 0.75      , 0.        ,\n",
       "       0.        , 0.        , 0.        , 0.375     , 0.8125    ,\n",
       "       0.625     , 0.        , 0.        , 0.        ])"
      ]
     },
     "execution_count": 8,
     "metadata": {},
     "output_type": "execute_result"
    }
   ],
   "source": [
    "X_scaled[0]  # This represents the scaled down values.Note that each pixel now has values in the range of 0-1"
   ]
  },
  {
   "cell_type": "markdown",
   "id": "6bc2137c-fab3-4730-af0f-8162e48bb45b",
   "metadata": {},
   "source": [
    "## **1.4 Structure of the Autoencoder**"
   ]
  },
  {
   "cell_type": "code",
   "execution_count": 35,
   "id": "1efd24cc-adb0-471e-8b30-0ffa4adb6474",
   "metadata": {},
   "outputs": [
    {
     "data": {
      "text/plain": [
       "64"
      ]
     },
     "execution_count": 35,
     "metadata": {},
     "output_type": "execute_result"
    }
   ],
   "source": [
    "# The input dimension represents the size of each image. Here it is 8x8=64\n",
    "input_dimension = X_scaled.shape[1]\n",
    "input_dimension"
   ]
  },
  {
   "cell_type": "code",
   "execution_count": 36,
   "id": "a25ac31e-ed93-44c3-82a4-1e2fcf821367",
   "metadata": {},
   "outputs": [],
   "source": [
    "# Define the encoding dimension (size of the compressed representation)\n",
    "# This reduces the images to a lower dimension (here dimension is 16)\n",
    "encoding_dimension = 16"
   ]
  },
  {
   "cell_type": "code",
   "execution_count": 37,
   "id": "0ac07101-ad26-4428-9484-2c093593093b",
   "metadata": {},
   "outputs": [],
   "source": [
    "# Define the input layer\n",
    "input_layer = Input(shape = (input_dimension,))"
   ]
  },
  {
   "cell_type": "markdown",
   "id": "59b05a98-e331-4f52-91e9-88e577574fde",
   "metadata": {},
   "source": [
    "## **1.4.1 Build the Encoder**"
   ]
  },
  {
   "cell_type": "code",
   "execution_count": 31,
   "id": "ccef1068-f1f9-4fc3-988c-248dcec0adb9",
   "metadata": {},
   "outputs": [],
   "source": [
    "# Build the encoder part (to compress the data into a lower dimension)\n",
    "# Activation function = 'relu' \n",
    "# The code below forms the Dense (fully connected layer) layer for the input\n",
    "\n",
    "encoded = Dense(encoding_dimension, activation = 'relu')(input_layer)"
   ]
  },
  {
   "cell_type": "markdown",
   "id": "53385998-79c5-466a-b9c8-9e8cb1ebcfe9",
   "metadata": {},
   "source": [
    "### Why Use ReLU in the Encoder?\r\n",
    "\r\n",
    "In the encoder, **ReLU (Rectified Linear Unit)** is used as the activation function:\r\n",
    "\r\n",
    "$$\r\n",
    "f(x) = \\max(0, x)\r\n",
    "$$\r\n",
    "\r\n",
    "#### Reasons for Using ReLU:\r\n",
    "- **Introduces Non-Linearity**: Helps the encoder learn complex patterns.\r\n",
    "- **Prevents Vanishing Gradient**: Unlike sigmoid/tanh, it does not squash values to a small range.\r\n",
    "- **Encourages Sparse Representations**: Neurons output **0** for negative values, making the representation more efficient.\r\n",
    "- **Computational Efficiency**: Faster and more efficient than sigmoid or tanh.\r\n",
    "\r\n",
    "Since the encoder is compressing the input, ReLU helps extract meaningful features effectively.\r\n"
   ]
  },
  {
   "cell_type": "markdown",
   "id": "bf008b95-273f-46fc-8bec-66a0dde5638c",
   "metadata": {},
   "source": [
    "## **1.4.2 Build the Decoder**"
   ]
  },
  {
   "cell_type": "code",
   "execution_count": 33,
   "id": "0f322778-7a1f-4c25-bf6f-f203fdb9ffbf",
   "metadata": {},
   "outputs": [],
   "source": [
    "# Build the decoder part (to reconstruct the input from the reduced dimension inputs)\n",
    "# Activation function = 'sigmoid' (The sigmoid function gives a value between 0 and 1 )\n",
    "# The code below forms the Dense (fully connected layer) layer for the output\n",
    "\n",
    "decoded = Dense(input_dimension, activation = 'sigmoid')(encoded)"
   ]
  },
  {
   "cell_type": "markdown",
   "id": "ca1d2f47-c441-4be4-a679-422af5ebb97d",
   "metadata": {},
   "source": [
    "### Why Use Sigmoid in the Decoder?\n",
    "\n",
    "In the decoder, **Sigmoid** is used as the activation function:\n",
    "\n",
    "$$\n",
    "f(x) = \\frac{1}{1 + e^{-x}}\n",
    "$$\n",
    "\n",
    "#### Reasons for Using Sigmoid:\n",
    "- **Output Range [0,1]**: Ensures the reconstructed pixel values remain within the valid grayscale range.\n",
    "- **Smooth and Differentiable**: Helps the network learn gradual changes in pixel intensities.\n",
    "- **Probability Interpretation**: Can be interpreted as the likelihood of a pixel being active (white).\n",
    "- **Works Well for Binary Data**: Suitable for grayscale images where pixel values are normalized between 0 and 1.\n",
    "\n",
    "Since the decoder reconstructs the input image, **sigmoid ensures that the output is a valid grayscale representation**.\n"
   ]
  },
  {
   "cell_type": "code",
   "execution_count": 25,
   "id": "a5fee4ab-b558-4e98-9d49-6cc05b73ccc9",
   "metadata": {},
   "outputs": [],
   "source": [
    "# Create the autoencoder model (maps input -> encoded -> decoded)\n",
    "autoencoder = Model(input_layer, decoded)"
   ]
  },
  {
   "cell_type": "code",
   "execution_count": 26,
   "id": "a51bb4b5-ccbf-4c96-b8c4-31d766bb8205",
   "metadata": {},
   "outputs": [],
   "source": [
    "# Compile the model using Adam optimizer and Mean Squared Error (MSE) loss\n",
    "autoencoder.compile(optimizer = 'adam', loss = 'mse')"
   ]
  },
  {
   "cell_type": "markdown",
   "id": "f2853f4f-946e-4dee-a6aa-8a4c45b1d45c",
   "metadata": {},
   "source": [
    "## **1.5 Train the Autoencoder**"
   ]
  },
  {
   "cell_type": "code",
   "execution_count": 27,
   "id": "983d8131-8a98-4159-b8a6-3d46c1a55756",
   "metadata": {},
   "outputs": [
    {
     "name": "stdout",
     "output_type": "stream",
     "text": [
      "Epoch 1/50\n",
      "\u001b[1m45/45\u001b[0m \u001b[32m━━━━━━━━━━━━━━━━━━━━\u001b[0m\u001b[37m\u001b[0m \u001b[1m2s\u001b[0m 11ms/step - loss: 0.0134 - val_loss: 0.0148\n",
      "Epoch 2/50\n",
      "\u001b[1m45/45\u001b[0m \u001b[32m━━━━━━━━━━━━━━━━━━━━\u001b[0m\u001b[37m\u001b[0m \u001b[1m0s\u001b[0m 6ms/step - loss: 0.0135 - val_loss: 0.0145\n",
      "Epoch 3/50\n",
      "\u001b[1m45/45\u001b[0m \u001b[32m━━━━━━━━━━━━━━━━━━━━\u001b[0m\u001b[37m\u001b[0m \u001b[1m0s\u001b[0m 6ms/step - loss: 0.0129 - val_loss: 0.0145\n",
      "Epoch 4/50\n",
      "\u001b[1m45/45\u001b[0m \u001b[32m━━━━━━━━━━━━━━━━━━━━\u001b[0m\u001b[37m\u001b[0m \u001b[1m0s\u001b[0m 6ms/step - loss: 0.0127 - val_loss: 0.0142\n",
      "Epoch 5/50\n",
      "\u001b[1m45/45\u001b[0m \u001b[32m━━━━━━━━━━━━━━━━━━━━\u001b[0m\u001b[37m\u001b[0m \u001b[1m0s\u001b[0m 6ms/step - loss: 0.0128 - val_loss: 0.0140\n",
      "Epoch 6/50\n",
      "\u001b[1m45/45\u001b[0m \u001b[32m━━━━━━━━━━━━━━━━━━━━\u001b[0m\u001b[37m\u001b[0m \u001b[1m0s\u001b[0m 6ms/step - loss: 0.0127 - val_loss: 0.0139\n",
      "Epoch 7/50\n",
      "\u001b[1m45/45\u001b[0m \u001b[32m━━━━━━━━━━━━━━━━━━━━\u001b[0m\u001b[37m\u001b[0m \u001b[1m0s\u001b[0m 5ms/step - loss: 0.0122 - val_loss: 0.0138\n",
      "Epoch 8/50\n",
      "\u001b[1m45/45\u001b[0m \u001b[32m━━━━━━━━━━━━━━━━━━━━\u001b[0m\u001b[37m\u001b[0m \u001b[1m0s\u001b[0m 6ms/step - loss: 0.0123 - val_loss: 0.0136\n",
      "Epoch 9/50\n",
      "\u001b[1m45/45\u001b[0m \u001b[32m━━━━━━━━━━━━━━━━━━━━\u001b[0m\u001b[37m\u001b[0m \u001b[1m0s\u001b[0m 6ms/step - loss: 0.0121 - val_loss: 0.0135\n",
      "Epoch 10/50\n",
      "\u001b[1m45/45\u001b[0m \u001b[32m━━━━━━━━━━━━━━━━━━━━\u001b[0m\u001b[37m\u001b[0m \u001b[1m0s\u001b[0m 6ms/step - loss: 0.0119 - val_loss: 0.0134\n",
      "Epoch 11/50\n",
      "\u001b[1m45/45\u001b[0m \u001b[32m━━━━━━━━━━━━━━━━━━━━\u001b[0m\u001b[37m\u001b[0m \u001b[1m0s\u001b[0m 5ms/step - loss: 0.0117 - val_loss: 0.0133\n",
      "Epoch 12/50\n",
      "\u001b[1m45/45\u001b[0m \u001b[32m━━━━━━━━━━━━━━━━━━━━\u001b[0m\u001b[37m\u001b[0m \u001b[1m0s\u001b[0m 5ms/step - loss: 0.0116 - val_loss: 0.0131\n",
      "Epoch 13/50\n",
      "\u001b[1m45/45\u001b[0m \u001b[32m━━━━━━━━━━━━━━━━━━━━\u001b[0m\u001b[37m\u001b[0m \u001b[1m0s\u001b[0m 6ms/step - loss: 0.0116 - val_loss: 0.0131\n",
      "Epoch 14/50\n",
      "\u001b[1m45/45\u001b[0m \u001b[32m━━━━━━━━━━━━━━━━━━━━\u001b[0m\u001b[37m\u001b[0m \u001b[1m0s\u001b[0m 5ms/step - loss: 0.0115 - val_loss: 0.0130\n",
      "Epoch 15/50\n",
      "\u001b[1m45/45\u001b[0m \u001b[32m━━━━━━━━━━━━━━━━━━━━\u001b[0m\u001b[37m\u001b[0m \u001b[1m0s\u001b[0m 6ms/step - loss: 0.0113 - val_loss: 0.0129\n",
      "Epoch 16/50\n",
      "\u001b[1m45/45\u001b[0m \u001b[32m━━━━━━━━━━━━━━━━━━━━\u001b[0m\u001b[37m\u001b[0m \u001b[1m0s\u001b[0m 6ms/step - loss: 0.0112 - val_loss: 0.0128\n",
      "Epoch 17/50\n",
      "\u001b[1m45/45\u001b[0m \u001b[32m━━━━━━━━━━━━━━━━━━━━\u001b[0m\u001b[37m\u001b[0m \u001b[1m1s\u001b[0m 6ms/step - loss: 0.0112 - val_loss: 0.0128\n",
      "Epoch 18/50\n",
      "\u001b[1m45/45\u001b[0m \u001b[32m━━━━━━━━━━━━━━━━━━━━\u001b[0m\u001b[37m\u001b[0m \u001b[1m0s\u001b[0m 6ms/step - loss: 0.0112 - val_loss: 0.0127\n",
      "Epoch 19/50\n",
      "\u001b[1m45/45\u001b[0m \u001b[32m━━━━━━━━━━━━━━━━━━━━\u001b[0m\u001b[37m\u001b[0m \u001b[1m0s\u001b[0m 5ms/step - loss: 0.0111 - val_loss: 0.0126\n",
      "Epoch 20/50\n",
      "\u001b[1m45/45\u001b[0m \u001b[32m━━━━━━━━━━━━━━━━━━━━\u001b[0m\u001b[37m\u001b[0m \u001b[1m0s\u001b[0m 5ms/step - loss: 0.0112 - val_loss: 0.0125\n",
      "Epoch 21/50\n",
      "\u001b[1m45/45\u001b[0m \u001b[32m━━━━━━━━━━━━━━━━━━━━\u001b[0m\u001b[37m\u001b[0m \u001b[1m0s\u001b[0m 6ms/step - loss: 0.0109 - val_loss: 0.0125\n",
      "Epoch 22/50\n",
      "\u001b[1m45/45\u001b[0m \u001b[32m━━━━━━━━━━━━━━━━━━━━\u001b[0m\u001b[37m\u001b[0m \u001b[1m0s\u001b[0m 6ms/step - loss: 0.0108 - val_loss: 0.0124\n",
      "Epoch 23/50\n",
      "\u001b[1m45/45\u001b[0m \u001b[32m━━━━━━━━━━━━━━━━━━━━\u001b[0m\u001b[37m\u001b[0m \u001b[1m0s\u001b[0m 6ms/step - loss: 0.0107 - val_loss: 0.0124\n",
      "Epoch 24/50\n",
      "\u001b[1m45/45\u001b[0m \u001b[32m━━━━━━━━━━━━━━━━━━━━\u001b[0m\u001b[37m\u001b[0m \u001b[1m0s\u001b[0m 6ms/step - loss: 0.0109 - val_loss: 0.0124\n",
      "Epoch 25/50\n",
      "\u001b[1m45/45\u001b[0m \u001b[32m━━━━━━━━━━━━━━━━━━━━\u001b[0m\u001b[37m\u001b[0m \u001b[1m0s\u001b[0m 5ms/step - loss: 0.0110 - val_loss: 0.0122\n",
      "Epoch 26/50\n",
      "\u001b[1m45/45\u001b[0m \u001b[32m━━━━━━━━━━━━━━━━━━━━\u001b[0m\u001b[37m\u001b[0m \u001b[1m0s\u001b[0m 5ms/step - loss: 0.0105 - val_loss: 0.0123\n",
      "Epoch 27/50\n",
      "\u001b[1m45/45\u001b[0m \u001b[32m━━━━━━━━━━━━━━━━━━━━\u001b[0m\u001b[37m\u001b[0m \u001b[1m0s\u001b[0m 5ms/step - loss: 0.0108 - val_loss: 0.0122\n",
      "Epoch 28/50\n",
      "\u001b[1m45/45\u001b[0m \u001b[32m━━━━━━━━━━━━━━━━━━━━\u001b[0m\u001b[37m\u001b[0m \u001b[1m0s\u001b[0m 5ms/step - loss: 0.0105 - val_loss: 0.0121\n",
      "Epoch 29/50\n",
      "\u001b[1m45/45\u001b[0m \u001b[32m━━━━━━━━━━━━━━━━━━━━\u001b[0m\u001b[37m\u001b[0m \u001b[1m0s\u001b[0m 5ms/step - loss: 0.0107 - val_loss: 0.0122\n",
      "Epoch 30/50\n",
      "\u001b[1m45/45\u001b[0m \u001b[32m━━━━━━━━━━━━━━━━━━━━\u001b[0m\u001b[37m\u001b[0m \u001b[1m0s\u001b[0m 5ms/step - loss: 0.0104 - val_loss: 0.0121\n",
      "Epoch 31/50\n",
      "\u001b[1m45/45\u001b[0m \u001b[32m━━━━━━━━━━━━━━━━━━━━\u001b[0m\u001b[37m\u001b[0m \u001b[1m0s\u001b[0m 6ms/step - loss: 0.0105 - val_loss: 0.0120\n",
      "Epoch 32/50\n",
      "\u001b[1m45/45\u001b[0m \u001b[32m━━━━━━━━━━━━━━━━━━━━\u001b[0m\u001b[37m\u001b[0m \u001b[1m0s\u001b[0m 5ms/step - loss: 0.0104 - val_loss: 0.0121\n",
      "Epoch 33/50\n",
      "\u001b[1m45/45\u001b[0m \u001b[32m━━━━━━━━━━━━━━━━━━━━\u001b[0m\u001b[37m\u001b[0m \u001b[1m0s\u001b[0m 5ms/step - loss: 0.0102 - val_loss: 0.0120\n",
      "Epoch 34/50\n",
      "\u001b[1m45/45\u001b[0m \u001b[32m━━━━━━━━━━━━━━━━━━━━\u001b[0m\u001b[37m\u001b[0m \u001b[1m0s\u001b[0m 6ms/step - loss: 0.0106 - val_loss: 0.0120\n",
      "Epoch 35/50\n",
      "\u001b[1m45/45\u001b[0m \u001b[32m━━━━━━━━━━━━━━━━━━━━\u001b[0m\u001b[37m\u001b[0m \u001b[1m0s\u001b[0m 5ms/step - loss: 0.0103 - val_loss: 0.0119\n",
      "Epoch 36/50\n",
      "\u001b[1m45/45\u001b[0m \u001b[32m━━━━━━━━━━━━━━━━━━━━\u001b[0m\u001b[37m\u001b[0m \u001b[1m0s\u001b[0m 6ms/step - loss: 0.0102 - val_loss: 0.0119\n",
      "Epoch 37/50\n",
      "\u001b[1m45/45\u001b[0m \u001b[32m━━━━━━━━━━━━━━━━━━━━\u001b[0m\u001b[37m\u001b[0m \u001b[1m0s\u001b[0m 6ms/step - loss: 0.0103 - val_loss: 0.0118\n",
      "Epoch 38/50\n",
      "\u001b[1m45/45\u001b[0m \u001b[32m━━━━━━━━━━━━━━━━━━━━\u001b[0m\u001b[37m\u001b[0m \u001b[1m0s\u001b[0m 6ms/step - loss: 0.0102 - val_loss: 0.0118\n",
      "Epoch 39/50\n",
      "\u001b[1m45/45\u001b[0m \u001b[32m━━━━━━━━━━━━━━━━━━━━\u001b[0m\u001b[37m\u001b[0m \u001b[1m0s\u001b[0m 6ms/step - loss: 0.0099 - val_loss: 0.0118\n",
      "Epoch 40/50\n",
      "\u001b[1m45/45\u001b[0m \u001b[32m━━━━━━━━━━━━━━━━━━━━\u001b[0m\u001b[37m\u001b[0m \u001b[1m0s\u001b[0m 6ms/step - loss: 0.0103 - val_loss: 0.0118\n",
      "Epoch 41/50\n",
      "\u001b[1m45/45\u001b[0m \u001b[32m━━━━━━━━━━━━━━━━━━━━\u001b[0m\u001b[37m\u001b[0m \u001b[1m0s\u001b[0m 5ms/step - loss: 0.0101 - val_loss: 0.0117\n",
      "Epoch 42/50\n",
      "\u001b[1m45/45\u001b[0m \u001b[32m━━━━━━━━━━━━━━━━━━━━\u001b[0m\u001b[37m\u001b[0m \u001b[1m0s\u001b[0m 6ms/step - loss: 0.0100 - val_loss: 0.0117\n",
      "Epoch 43/50\n",
      "\u001b[1m45/45\u001b[0m \u001b[32m━━━━━━━━━━━━━━━━━━━━\u001b[0m\u001b[37m\u001b[0m \u001b[1m0s\u001b[0m 5ms/step - loss: 0.0101 - val_loss: 0.0117\n",
      "Epoch 44/50\n",
      "\u001b[1m45/45\u001b[0m \u001b[32m━━━━━━━━━━━━━━━━━━━━\u001b[0m\u001b[37m\u001b[0m \u001b[1m0s\u001b[0m 5ms/step - loss: 0.0102 - val_loss: 0.0117\n",
      "Epoch 45/50\n",
      "\u001b[1m45/45\u001b[0m \u001b[32m━━━━━━━━━━━━━━━━━━━━\u001b[0m\u001b[37m\u001b[0m \u001b[1m0s\u001b[0m 5ms/step - loss: 0.0101 - val_loss: 0.0116\n",
      "Epoch 46/50\n",
      "\u001b[1m45/45\u001b[0m \u001b[32m━━━━━━━━━━━━━━━━━━━━\u001b[0m\u001b[37m\u001b[0m \u001b[1m0s\u001b[0m 6ms/step - loss: 0.0101 - val_loss: 0.0116\n",
      "Epoch 47/50\n",
      "\u001b[1m45/45\u001b[0m \u001b[32m━━━━━━━━━━━━━━━━━━━━\u001b[0m\u001b[37m\u001b[0m \u001b[1m0s\u001b[0m 5ms/step - loss: 0.0103 - val_loss: 0.0116\n",
      "Epoch 48/50\n",
      "\u001b[1m45/45\u001b[0m \u001b[32m━━━━━━━━━━━━━━━━━━━━\u001b[0m\u001b[37m\u001b[0m \u001b[1m0s\u001b[0m 6ms/step - loss: 0.0099 - val_loss: 0.0115\n",
      "Epoch 49/50\n",
      "\u001b[1m45/45\u001b[0m \u001b[32m━━━━━━━━━━━━━━━━━━━━\u001b[0m\u001b[37m\u001b[0m \u001b[1m0s\u001b[0m 6ms/step - loss: 0.0100 - val_loss: 0.0116\n",
      "Epoch 50/50\n",
      "\u001b[1m45/45\u001b[0m \u001b[32m━━━━━━━━━━━━━━━━━━━━\u001b[0m\u001b[37m\u001b[0m \u001b[1m0s\u001b[0m 6ms/step - loss: 0.0100 - val_loss: 0.0116\n"
     ]
    },
    {
     "data": {
      "text/plain": [
       "<keras.src.callbacks.history.History at 0x279204b0800>"
      ]
     },
     "execution_count": 27,
     "metadata": {},
     "output_type": "execute_result"
    }
   ],
   "source": [
    "autoencoder.fit(X_scaled, X_scaled, epochs=50, batch_size=32, shuffle=True, validation_split=0.2)\n",
    "# batch size = Number of images loaded at once\n",
    "# shuffle = shuffle the order images to be used as input\n",
    "# Epochs = number of iterations\n",
    "# validation_split = The amount of data used for validating the model while training (here 0.2 = 20% of the input data is used for validation)"
   ]
  },
  {
   "cell_type": "markdown",
   "id": "b6b5e166-d8c7-4f75-a277-eb7f49e79365",
   "metadata": {},
   "source": [
    "## **1.6 Extract the compressed features**"
   ]
  },
  {
   "cell_type": "code",
   "execution_count": 17,
   "id": "e00a660c-1ec1-4f28-9af1-d0bf1da2145e",
   "metadata": {},
   "outputs": [
    {
     "name": "stdout",
     "output_type": "stream",
     "text": [
      "\u001b[1m57/57\u001b[0m \u001b[32m━━━━━━━━━━━━━━━━━━━━\u001b[0m\u001b[37m\u001b[0m \u001b[1m0s\u001b[0m 2ms/step\n",
      "\u001b[1m57/57\u001b[0m \u001b[32m━━━━━━━━━━━━━━━━━━━━\u001b[0m\u001b[37m\u001b[0m \u001b[1m0s\u001b[0m 4ms/step\n"
     ]
    }
   ],
   "source": [
    "encoder = Model(input_layer, encoded)\n",
    "X_compressed = encoder.predict(X_scaled)\n",
    "X_reconstructed = autoencoder.predict(X_scaled)"
   ]
  },
  {
   "cell_type": "markdown",
   "id": "c567c360-55c2-41d9-a5a7-9cef463021b1",
   "metadata": {},
   "source": [
    "### **Explanantion**\n",
    "The **encoder model** extracts the compressed (latent) representation from the trained autoencoder. \n",
    "\n",
    "**X_compressed = encoder.predict(X_scaled)** generates a lower-dimensional representation of X_scaled.\n",
    "\n",
    "Meanwhile, **X_reconstructed = autoencoder.predict(X_scaled)** reconstructs the input using the full autoencoder, allowing comparison between original and reconstructed data for tasks like dimensionality reduction and anomaly detection."
   ]
  },
  {
   "cell_type": "markdown",
   "id": "cd02f834-c777-442f-8a40-f67f6bf3d21c",
   "metadata": {},
   "source": [
    "## **1.7 Visualize the original and reconstructed images**"
   ]
  },
  {
   "cell_type": "code",
   "execution_count": 18,
   "id": "ea19ed63-4163-4f4f-9e07-7cbb39cc63b0",
   "metadata": {},
   "outputs": [],
   "source": [
    "n = 10\n",
    "indices = np.random.randint(0, len(X_scaled), n)\n",
    "originals = X_scaled[indices]\n",
    "reconstructions = X_reconstructed[indices]"
   ]
  },
  {
   "cell_type": "markdown",
   "id": "d6546940-65f8-4c55-9802-e9e3205d4bc3",
   "metadata": {},
   "source": [
    "### **Explanantion**\n",
    "This snippet **n = 10** selects random samples from X_scaled and their corresponding reconstructions from X_reconstructed:\n",
    "\n",
    "- **indices = np.random.randint(0, len(X_scaled), n):** Randomly selects n indices from X_scaled.\n",
    "- **originals = X_scaled[indices]:** Retrieves the original input samples at those indices.\n",
    "- **reconstructions = X_reconstructed[indices]:** Retrieves the corresponding reconstructed samples.\n",
    " \n",
    "This helps in visually comparing original vs. reconstructed data to evaluate the autoencoder’s performance."
   ]
  },
  {
   "cell_type": "markdown",
   "id": "4bb8acb7-d907-434f-98ca-de180910803b",
   "metadata": {},
   "source": [
    "## **1.8 Displaying the images**"
   ]
  },
  {
   "cell_type": "code",
   "execution_count": 34,
   "id": "694dd27d-0dab-4fcf-9360-227e5f181198",
   "metadata": {},
   "outputs": [
    {
     "data": {
      "text/plain": [
       "Text(0.5, 1.0, 'Reconstructed Images')"
      ]
     },
     "execution_count": 34,
     "metadata": {},
     "output_type": "execute_result"
    },
    {
     "data": {
      "image/png": "[encoded data removed]",
      "text/plain": [
       "<Figure size 1200x400 with 20 Axes>"
      ]
     },
     "metadata": {},
     "output_type": "display_data"
    }
   ],
   "source": [
    "# Display the original input images in the first row and display the reconstructed images in the second row\n",
    "\n",
    "fig, axes = plt.subplots(2, n, figsize=(12, 4))\n",
    "for i in range(n):\n",
    "    # Original Image\n",
    "    axes[0, i].imshow(originals[i].reshape(8, 8), cmap='gray')\n",
    "    axes[0, i].axis('off')\n",
    "\n",
    "    # Reconstructed Image\n",
    "    axes[1, i].imshow(reconstructions[i].reshape(8, 8), cmap='gray')\n",
    "    axes[1, i].axis('off')\n",
    "\n",
    "axes[0, 0].set_title(\"Original Images\")\n",
    "axes[1, 0].set_title(\"Reconstructed Images\")"
   ]
  },
  {
   "cell_type": "markdown",
   "id": "e95f7409-f098-4fc5-bc31-dbd69cbbca7e",
   "metadata": {},
   "source": [
    "# 2. **Anomaly Detection using CAEs**"
   ]
  },
  {
   "cell_type": "markdown",
   "id": "93869f86-2e8d-451d-a171-d1780a6dfa3e",
   "metadata": {},
   "source": [
    "Anomaly Detection in Images\n",
    "CAEs can detect anomalies by learning normal patterns and flagging unusual reconstructions.\n",
    "Used in fraud detection (e.g., fake currency), defect detection (manufacturing), and medical anomaly detection.\n",
    "Autoencoders can be used for anomaly detection by comparing reconstruction errors between normal and anomalous data. Since an autoencoder learns to reconstruct normal data well, anomalous data will have higher reconstruction errors."
   ]
  },
  {
   "cell_type": "markdown",
   "id": "a05ad6ae-e6b4-47f7-9273-b6b6d2a96db2",
   "metadata": {},
   "source": [
    "## Steps to Compare Reconstruction Errors:\n",
    "\n",
    "- Train an Autoencoder on Normal Data\n",
    "- Compute Reconstruction Errors for normal and anomalous samples.\n",
    "- Visualize Error Distribution to detect anomalies."
   ]
  },
  {
   "cell_type": "markdown",
   "id": "57d86dc0-9a76-49ba-98a9-503242cf0fc5",
   "metadata": {},
   "source": [
    "## **2.1 Create normal and anomalous data**"
   ]
  },
  {
   "cell_type": "code",
   "execution_count": 20,
   "id": "9b9795ad-466f-46ce-9f16-5e7bde9202b8",
   "metadata": {},
   "outputs": [],
   "source": [
    "num_anomalies = 200\n",
    "X_anomalies = X_scaled[:num_anomalies] + np.random.normal(0, 0.5, X_scaled[:num_anomalies].shape)\n",
    "X_anomalies = np.clip(X_anomalies, 0, 1)  # Keep values in [0,1]\n",
    "\n",
    "# Normal data (rest of the dataset)\n",
    "X_normal = X_scaled[num_anomalies:]"
   ]
  },
  {
   "cell_type": "markdown",
   "id": "7f902323-f19d-44f3-a0ee-f3bed54450bc",
   "metadata": {},
   "source": [
    "### **Explanation**\n",
    "This code artificially creates anomalies by adding **Gaussian noise (mean=0, std=0.5)** to the first 200 samples of X_scaled, ensuring values remain within [0,1] using np.clip(). The remaining data (X_normal) is treated as normal. This setup helps evaluate an autoencoder’s ability to distinguish normal data from anomalies."
   ]
  },
  {
   "cell_type": "markdown",
   "id": "a35cd755-ef4b-46de-babc-6bb45cbbe9c4",
   "metadata": {},
   "source": [
    "## **2.2 Train the autoencoder**"
   ]
  },
  {
   "cell_type": "code",
   "execution_count": 21,
   "id": "caa44a60-f6fe-4feb-82e2-6456f2594e63",
   "metadata": {},
   "outputs": [
    {
     "name": "stdout",
     "output_type": "stream",
     "text": [
      "Epoch 1/50\n",
      "\u001b[1m40/40\u001b[0m \u001b[32m━━━━━━━━━━━━━━━━━━━━\u001b[0m\u001b[37m\u001b[0m \u001b[1m2s\u001b[0m 11ms/step - loss: 0.1824 - val_loss: 0.1588\n",
      "Epoch 2/50\n",
      "\u001b[1m40/40\u001b[0m \u001b[32m━━━━━━━━━━━━━━━━━━━━\u001b[0m\u001b[37m\u001b[0m \u001b[1m0s\u001b[0m 6ms/step - loss: 0.1413 - val_loss: 0.1043\n",
      "Epoch 3/50\n",
      "\u001b[1m40/40\u001b[0m \u001b[32m━━━━━━━━━━━━━━━━━━━━\u001b[0m\u001b[37m\u001b[0m \u001b[1m0s\u001b[0m 6ms/step - loss: 0.0918 - val_loss: 0.0770\n",
      "Epoch 4/50\n",
      "\u001b[1m40/40\u001b[0m \u001b[32m━━━━━━━━━━━━━━━━━━━━\u001b[0m\u001b[37m\u001b[0m \u001b[1m0s\u001b[0m 6ms/step - loss: 0.0733 - val_loss: 0.0689\n",
      "Epoch 5/50\n",
      "\u001b[1m40/40\u001b[0m \u001b[32m━━━━━━━━━━━━━━━━━━━━\u001b[0m\u001b[37m\u001b[0m \u001b[1m0s\u001b[0m 5ms/step - loss: 0.0667 - val_loss: 0.0636\n",
      "Epoch 6/50\n",
      "\u001b[1m40/40\u001b[0m \u001b[32m━━━━━━━━━━━━━━━━━━━━\u001b[0m\u001b[37m\u001b[0m \u001b[1m0s\u001b[0m 6ms/step - loss: 0.0618 - val_loss: 0.0584\n",
      "Epoch 7/50\n",
      "\u001b[1m40/40\u001b[0m \u001b[32m━━━━━━━━━━━━━━━━━━━━\u001b[0m\u001b[37m\u001b[0m \u001b[1m0s\u001b[0m 7ms/step - loss: 0.0567 - val_loss: 0.0528\n",
      "Epoch 8/50\n",
      "\u001b[1m40/40\u001b[0m \u001b[32m━━━━━━━━━━━━━━━━━━━━\u001b[0m\u001b[37m\u001b[0m \u001b[1m1s\u001b[0m 6ms/step - loss: 0.0511 - val_loss: 0.0475\n",
      "Epoch 9/50\n",
      "\u001b[1m40/40\u001b[0m \u001b[32m━━━━━━━━━━━━━━━━━━━━\u001b[0m\u001b[37m\u001b[0m \u001b[1m0s\u001b[0m 6ms/step - loss: 0.0461 - val_loss: 0.0430\n",
      "Epoch 10/50\n",
      "\u001b[1m40/40\u001b[0m \u001b[32m━━━━━━━━━━━━━━━━━━━━\u001b[0m\u001b[37m\u001b[0m \u001b[1m0s\u001b[0m 6ms/step - loss: 0.0414 - val_loss: 0.0397\n",
      "Epoch 11/50\n",
      "\u001b[1m40/40\u001b[0m \u001b[32m━━━━━━━━━━━━━━━━━━━━\u001b[0m\u001b[37m\u001b[0m \u001b[1m0s\u001b[0m 6ms/step - loss: 0.0383 - val_loss: 0.0375\n",
      "Epoch 12/50\n",
      "\u001b[1m40/40\u001b[0m \u001b[32m━━━━━━━━━━━━━━━━━━━━\u001b[0m\u001b[37m\u001b[0m \u001b[1m0s\u001b[0m 5ms/step - loss: 0.0364 - val_loss: 0.0359\n",
      "Epoch 13/50\n",
      "\u001b[1m40/40\u001b[0m \u001b[32m━━━━━━━━━━━━━━━━━━━━\u001b[0m\u001b[37m\u001b[0m \u001b[1m0s\u001b[0m 8ms/step - loss: 0.0342 - val_loss: 0.0343\n",
      "Epoch 14/50\n",
      "\u001b[1m40/40\u001b[0m \u001b[32m━━━━━━━━━━━━━━━━━━━━\u001b[0m\u001b[37m\u001b[0m \u001b[1m0s\u001b[0m 6ms/step - loss: 0.0328 - val_loss: 0.0329\n",
      "Epoch 15/50\n",
      "\u001b[1m40/40\u001b[0m \u001b[32m━━━━━━━━━━━━━━━━━━━━\u001b[0m\u001b[37m\u001b[0m \u001b[1m0s\u001b[0m 7ms/step - loss: 0.0312 - val_loss: 0.0315\n",
      "Epoch 16/50\n",
      "\u001b[1m40/40\u001b[0m \u001b[32m━━━━━━━━━━━━━━━━━━━━\u001b[0m\u001b[37m\u001b[0m \u001b[1m0s\u001b[0m 6ms/step - loss: 0.0294 - val_loss: 0.0303\n",
      "Epoch 17/50\n",
      "\u001b[1m40/40\u001b[0m \u001b[32m━━━━━━━━━━━━━━━━━━━━\u001b[0m\u001b[37m\u001b[0m \u001b[1m0s\u001b[0m 7ms/step - loss: 0.0285 - val_loss: 0.0290\n",
      "Epoch 18/50\n",
      "\u001b[1m40/40\u001b[0m \u001b[32m━━━━━━━━━━━━━━━━━━━━\u001b[0m\u001b[37m\u001b[0m \u001b[1m0s\u001b[0m 5ms/step - loss: 0.0270 - val_loss: 0.0283\n",
      "Epoch 19/50\n",
      "\u001b[1m40/40\u001b[0m \u001b[32m━━━━━━━━━━━━━━━━━━━━\u001b[0m\u001b[37m\u001b[0m \u001b[1m0s\u001b[0m 5ms/step - loss: 0.0265 - val_loss: 0.0272\n",
      "Epoch 20/50\n",
      "\u001b[1m40/40\u001b[0m \u001b[32m━━━━━━━━━━━━━━━━━━━━\u001b[0m\u001b[37m\u001b[0m \u001b[1m0s\u001b[0m 5ms/step - loss: 0.0249 - val_loss: 0.0266\n",
      "Epoch 21/50\n",
      "\u001b[1m40/40\u001b[0m \u001b[32m━━━━━━━━━━━━━━━━━━━━\u001b[0m\u001b[37m\u001b[0m \u001b[1m0s\u001b[0m 6ms/step - loss: 0.0243 - val_loss: 0.0256\n",
      "Epoch 22/50\n",
      "\u001b[1m40/40\u001b[0m \u001b[32m━━━━━━━━━━━━━━━━━━━━\u001b[0m\u001b[37m\u001b[0m \u001b[1m0s\u001b[0m 6ms/step - loss: 0.0238 - val_loss: 0.0250\n",
      "Epoch 23/50\n",
      "\u001b[1m40/40\u001b[0m \u001b[32m━━━━━━━━━━━━━━━━━━━━\u001b[0m\u001b[37m\u001b[0m \u001b[1m0s\u001b[0m 6ms/step - loss: 0.0234 - val_loss: 0.0243\n",
      "Epoch 24/50\n",
      "\u001b[1m40/40\u001b[0m \u001b[32m━━━━━━━━━━━━━━━━━━━━\u001b[0m\u001b[37m\u001b[0m \u001b[1m0s\u001b[0m 6ms/step - loss: 0.0223 - val_loss: 0.0238\n",
      "Epoch 25/50\n",
      "\u001b[1m40/40\u001b[0m \u001b[32m━━━━━━━━━━━━━━━━━━━━\u001b[0m\u001b[37m\u001b[0m \u001b[1m0s\u001b[0m 6ms/step - loss: 0.0221 - val_loss: 0.0232\n",
      "Epoch 26/50\n",
      "\u001b[1m40/40\u001b[0m \u001b[32m━━━━━━━━━━━━━━━━━━━━\u001b[0m\u001b[37m\u001b[0m \u001b[1m0s\u001b[0m 5ms/step - loss: 0.0215 - val_loss: 0.0227\n",
      "Epoch 27/50\n",
      "\u001b[1m40/40\u001b[0m \u001b[32m━━━━━━━━━━━━━━━━━━━━\u001b[0m\u001b[37m\u001b[0m \u001b[1m0s\u001b[0m 7ms/step - loss: 0.0208 - val_loss: 0.0222\n",
      "Epoch 28/50\n",
      "\u001b[1m40/40\u001b[0m \u001b[32m━━━━━━━━━━━━━━━━━━━━\u001b[0m\u001b[37m\u001b[0m \u001b[1m0s\u001b[0m 6ms/step - loss: 0.0201 - val_loss: 0.0218\n",
      "Epoch 29/50\n",
      "\u001b[1m40/40\u001b[0m \u001b[32m━━━━━━━━━━━━━━━━━━━━\u001b[0m\u001b[37m\u001b[0m \u001b[1m0s\u001b[0m 5ms/step - loss: 0.0197 - val_loss: 0.0213\n",
      "Epoch 30/50\n",
      "\u001b[1m40/40\u001b[0m \u001b[32m━━━━━━━━━━━━━━━━━━━━\u001b[0m\u001b[37m\u001b[0m \u001b[1m0s\u001b[0m 5ms/step - loss: 0.0195 - val_loss: 0.0208\n",
      "Epoch 31/50\n",
      "\u001b[1m40/40\u001b[0m \u001b[32m━━━━━━━━━━━━━━━━━━━━\u001b[0m\u001b[37m\u001b[0m \u001b[1m0s\u001b[0m 5ms/step - loss: 0.0188 - val_loss: 0.0203\n",
      "Epoch 32/50\n",
      "\u001b[1m40/40\u001b[0m \u001b[32m━━━━━━━━━━━━━━━━━━━━\u001b[0m\u001b[37m\u001b[0m \u001b[1m0s\u001b[0m 7ms/step - loss: 0.0184 - val_loss: 0.0200\n",
      "Epoch 33/50\n",
      "\u001b[1m40/40\u001b[0m \u001b[32m━━━━━━━━━━━━━━━━━━━━\u001b[0m\u001b[37m\u001b[0m \u001b[1m0s\u001b[0m 6ms/step - loss: 0.0181 - val_loss: 0.0194\n",
      "Epoch 34/50\n",
      "\u001b[1m40/40\u001b[0m \u001b[32m━━━━━━━━━━━━━━━━━━━━\u001b[0m\u001b[37m\u001b[0m \u001b[1m0s\u001b[0m 6ms/step - loss: 0.0178 - val_loss: 0.0192\n",
      "Epoch 35/50\n",
      "\u001b[1m40/40\u001b[0m \u001b[32m━━━━━━━━━━━━━━━━━━━━\u001b[0m\u001b[37m\u001b[0m \u001b[1m0s\u001b[0m 6ms/step - loss: 0.0170 - val_loss: 0.0188\n",
      "Epoch 36/50\n",
      "\u001b[1m40/40\u001b[0m \u001b[32m━━━━━━━━━━━━━━━━━━━━\u001b[0m\u001b[37m\u001b[0m \u001b[1m0s\u001b[0m 6ms/step - loss: 0.0169 - val_loss: 0.0184\n",
      "Epoch 37/50\n",
      "\u001b[1m40/40\u001b[0m \u001b[32m━━━━━━━━━━━━━━━━━━━━\u001b[0m\u001b[37m\u001b[0m \u001b[1m0s\u001b[0m 6ms/step - loss: 0.0168 - val_loss: 0.0182\n",
      "Epoch 38/50\n",
      "\u001b[1m40/40\u001b[0m \u001b[32m━━━━━━━━━━━━━━━━━━━━\u001b[0m\u001b[37m\u001b[0m \u001b[1m0s\u001b[0m 6ms/step - loss: 0.0159 - val_loss: 0.0179\n",
      "Epoch 39/50\n",
      "\u001b[1m40/40\u001b[0m \u001b[32m━━━━━━━━━━━━━━━━━━━━\u001b[0m\u001b[37m\u001b[0m \u001b[1m0s\u001b[0m 6ms/step - loss: 0.0159 - val_loss: 0.0176\n",
      "Epoch 40/50\n",
      "\u001b[1m40/40\u001b[0m \u001b[32m━━━━━━━━━━━━━━━━━━━━\u001b[0m\u001b[37m\u001b[0m \u001b[1m0s\u001b[0m 6ms/step - loss: 0.0157 - val_loss: 0.0173\n",
      "Epoch 41/50\n",
      "\u001b[1m40/40\u001b[0m \u001b[32m━━━━━━━━━━━━━━━━━━━━\u001b[0m\u001b[37m\u001b[0m \u001b[1m0s\u001b[0m 5ms/step - loss: 0.0155 - val_loss: 0.0171\n",
      "Epoch 42/50\n",
      "\u001b[1m40/40\u001b[0m \u001b[32m━━━━━━━━━━━━━━━━━━━━\u001b[0m\u001b[37m\u001b[0m \u001b[1m0s\u001b[0m 6ms/step - loss: 0.0153 - val_loss: 0.0168\n",
      "Epoch 43/50\n",
      "\u001b[1m40/40\u001b[0m \u001b[32m━━━━━━━━━━━━━━━━━━━━\u001b[0m\u001b[37m\u001b[0m \u001b[1m0s\u001b[0m 6ms/step - loss: 0.0147 - val_loss: 0.0166\n",
      "Epoch 44/50\n",
      "\u001b[1m40/40\u001b[0m \u001b[32m━━━━━━━━━━━━━━━━━━━━\u001b[0m\u001b[37m\u001b[0m \u001b[1m0s\u001b[0m 7ms/step - loss: 0.0144 - val_loss: 0.0163\n",
      "Epoch 45/50\n",
      "\u001b[1m40/40\u001b[0m \u001b[32m━━━━━━━━━━━━━━━━━━━━\u001b[0m\u001b[37m\u001b[0m \u001b[1m0s\u001b[0m 6ms/step - loss: 0.0144 - val_loss: 0.0162\n",
      "Epoch 46/50\n",
      "\u001b[1m40/40\u001b[0m \u001b[32m━━━━━━━━━━━━━━━━━━━━\u001b[0m\u001b[37m\u001b[0m \u001b[1m0s\u001b[0m 7ms/step - loss: 0.0145 - val_loss: 0.0159\n",
      "Epoch 47/50\n",
      "\u001b[1m40/40\u001b[0m \u001b[32m━━━━━━━━━━━━━━━━━━━━\u001b[0m\u001b[37m\u001b[0m \u001b[1m0s\u001b[0m 7ms/step - loss: 0.0137 - val_loss: 0.0159\n",
      "Epoch 48/50\n",
      "\u001b[1m40/40\u001b[0m \u001b[32m━━━━━━━━━━━━━━━━━━━━\u001b[0m\u001b[37m\u001b[0m \u001b[1m0s\u001b[0m 8ms/step - loss: 0.0137 - val_loss: 0.0156\n",
      "Epoch 49/50\n",
      "\u001b[1m40/40\u001b[0m \u001b[32m━━━━━━━━━━━━━━━━━━━━\u001b[0m\u001b[37m\u001b[0m \u001b[1m0s\u001b[0m 6ms/step - loss: 0.0134 - val_loss: 0.0156\n",
      "Epoch 50/50\n",
      "\u001b[1m40/40\u001b[0m \u001b[32m━━━━━━━━━━━━━━━━━━━━\u001b[0m\u001b[37m\u001b[0m \u001b[1m0s\u001b[0m 6ms/step - loss: 0.0135 - val_loss: 0.0154\n"
     ]
    },
    {
     "data": {
      "text/plain": [
       "<keras.src.callbacks.history.History at 0x2791ded1640>"
      ]
     },
     "execution_count": 21,
     "metadata": {},
     "output_type": "execute_result"
    }
   ],
   "source": [
    "input_dim = X_scaled.shape[1]\n",
    "encoding_dim = 16  # Compressed size\n",
    "\n",
    "# Encoder\n",
    "input_layer = Input(shape=(input_dim,))\n",
    "encoded = Dense(encoding_dim, activation='relu')(input_layer)\n",
    "\n",
    "# Decoder\n",
    "decoded = Dense(input_dim, activation='sigmoid')(encoded)\n",
    "\n",
    "# Autoencoder model\n",
    "autoencoder = Model(input_layer, decoded)\n",
    "autoencoder.compile(optimizer='adam', loss='mse')\n",
    "\n",
    "# Train only on normal data\n",
    "autoencoder.fit(X_normal, X_normal, epochs=50, batch_size=32, shuffle=True, validation_split=0.2)"
   ]
  },
  {
   "cell_type": "markdown",
   "id": "42d2710f-2fa4-43a3-acc0-384e10f36181",
   "metadata": {},
   "source": [
    "## **2.3 Calculate reconstruction errors**"
   ]
  },
  {
   "cell_type": "code",
   "execution_count": 22,
   "id": "d812bb75-149c-4931-85d9-b1bad7ac25da",
   "metadata": {},
   "outputs": [
    {
     "name": "stdout",
     "output_type": "stream",
     "text": [
      "\u001b[1m50/50\u001b[0m \u001b[32m━━━━━━━━━━━━━━━━━━━━\u001b[0m\u001b[37m\u001b[0m \u001b[1m0s\u001b[0m 3ms/step\n",
      "\u001b[1m7/7\u001b[0m \u001b[32m━━━━━━━━━━━━━━━━━━━━\u001b[0m\u001b[37m\u001b[0m \u001b[1m0s\u001b[0m 6ms/step \n"
     ]
    }
   ],
   "source": [
    "# Get reconstructed data\n",
    "X_normal_reconstructed = autoencoder.predict(X_normal)\n",
    "X_anomalies_reconstructed = autoencoder.predict(X_anomalies)\n",
    "\n",
    "# Compute reconstruction errors (MSE)\n",
    "normal_errors = np.mean(np.square(X_normal - X_normal_reconstructed), axis=1)\n",
    "anomaly_errors = np.mean(np.square(X_anomalies - X_anomalies_reconstructed), axis=1)\n"
   ]
  },
  {
   "cell_type": "markdown",
   "id": "e0f8569e-ce19-4b33-924a-fedf66ee9947",
   "metadata": {},
   "source": [
    "### **Explanation**\n",
    "The above code measures the autoencoder’s ability to reconstruct normal and anomalous data by computing reconstruction errors:\n",
    "\n",
    "**Reconstruction:**\n",
    "\n",
    "**X_normal_reconstructed = autoencoder.predict(X_normal):** Reconstructs normal data.\n",
    "**X_anomalies_reconstructed = autoencoder.predict(X_anomalies):** Reconstructs artificially generated anomalies.\n",
    "\n",
    "**Error Calculation (Mean Squared Error - MSE):**\n",
    "\n",
    "**normal_errors = np.mean(np.square(X_normal - X_normal_reconstructed), axis=1):** Measures how well the autoencoder reconstructs normal data.\n",
    "**anomaly_errors = np.mean(np.square(X_anomalies - X_anomalies_reconstructed), axis=1):** Measures reconstruction errors for anomalies.\n",
    "\n",
    "Since autoencoders are trained on normal data, they usually reconstruct normal samples well (low error) but struggle with anomalies (high error), making reconstruction error a useful anomaly detection metric."
   ]
  },
  {
   "cell_type": "markdown",
   "id": "06c5bae9-586d-4cb9-a841-61b8b71596cc",
   "metadata": {},
   "source": [
    "## **2.4 Visualize reconstruction errors**"
   ]
  },
  {
   "cell_type": "code",
   "execution_count": 23,
   "id": "3f127c1d-fd22-4ff7-9ad5-0cad33155ca0",
   "metadata": {},
   "outputs": [
    {
     "data": {
      "image/png": "[encoded data removed]",
      "text/plain": [
       "<Figure size 800x500 with 1 Axes>"
      ]
     },
     "metadata": {},
     "output_type": "display_data"
    }
   ],
   "source": [
    "plt.figure(figsize=(8, 5))\n",
    "plt.hist(normal_errors, bins=50, alpha=0.6, label=\"Normal Data\", color='blue')\n",
    "plt.hist(anomaly_errors, bins=50, alpha=0.6, label=\"Anomalous Data\", color='red')\n",
    "plt.axvline(np.percentile(normal_errors, 95), color='black', linestyle='dashed', label=\"95% Threshold\")\n",
    "plt.xlabel(\"Reconstruction Error (MSE)\")\n",
    "plt.ylabel(\"Frequency\")\n",
    "plt.legend()\n",
    "plt.title(\"Reconstruction Errors: Normal vs. Anomalous Data\")\n",
    "plt.show()\n"
   ]
  },
  {
   "cell_type": "markdown",
   "id": "49f05f13-6b36-4ab6-a8fe-89e8a3e3d74d",
   "metadata": {},
   "source": [
    "## Interpreting the Results\n",
    "\n",
    "- The blue histogram represents normal data reconstruction errors.\n",
    "\n",
    "- The red histogram represents anomalous data reconstruction errors.\n",
    "    \n",
    "- The black dashed line is the 95th percentile of normal errors, which can be used as a threshold.\n",
    "\n",
    "- Anomalous data has higher reconstruction errors, making it separable from normal data."
   ]
  },
  {
   "cell_type": "code",
   "execution_count": 24,
   "id": "f4c1d6d4-057b-4ecc-87ae-34e561ccc709",
   "metadata": {},
   "outputs": [],
   "source": [
    "# Thank You\n"
   ]
  },
  {
   "cell_type": "code",
   "execution_count": null,
   "id": "d7c68354-96ec-4153-8f86-489e8e02ccba",
   "metadata": {},
   "outputs": [],
   "source": []
  }
 ],
 "metadata": {
  "kernelspec": {
   "display_name": "Python 3 (ipykernel)",
   "language": "python",
   "name": "python3"
  },
  "language_info": {
   "codemirror_mode": {
    "name": "ipython",
    "version": 3
   },
   "file_extension": ".py",
   "mimetype": "text/x-python",
   "name": "python",
   "nbconvert_exporter": "python",
   "pygments_lexer": "ipython3",
   "version": "3.12.0"
  }
 },
 "nbformat": 4,
 "nbformat_minor": 5
}

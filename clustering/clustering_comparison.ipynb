{
 "cells": [
  {
   "cell_type": "markdown",
   "metadata": {},
   "source": [
    "## **COMPARING CLUSTERING ALGORITHMS**\n",
    "##### 1. K-Means\n",
    "##### 2. DBSCAN\n",
    "##### 3. HIERARCHIAL \n",
    "### Learning about there *strength* and *weaknesses*"
   ]
  },
  {
   "cell_type": "markdown",
   "metadata": {},
   "source": [
    "| **Aspect**   | **K-Means** | **Hierarchical Clustering** | **DBSCAN** |\n",
    "| -------- | ------- | ----------------------- | ------ | \n",
    "| **Type of Algorithm**  | Centroid-based clustering    |Connectivity-based clustering | Density-based clustering |               \n",
    "| **Strengths** | Simple and fast for large datasets.Works well with spherical clusters. Scalable to large datasets.     | Produces a dendrogram for visualization. Does not require specifying the number of clusters initially. Can capture nested clusters.| Can find arbitrarily shaped clusters. Handles noise and outliers well. Does not require specifying the number of clusters.        |               \n",
    "| **Weaknesses**    | Requires pre-specifying the number of clusters (k). Sensitive to initial centroids. Struggles with non-spherical clusters.|  Computationally expensive for large datasets. Sensitive to noise and outliers. Once a split or merge is done, it cannot be undone.| Struggles with varying densities. Sensitive to parameters (eps and minPts). Not suitable for high-dimensional data.        |  \n",
    "| **Scalability**   | High (scales well with large datasets) | Low (computationally expensive for large datasets) | Moderate (struggles with very large datasets)\n",
    "| **Noise Handling** | Poor (noise points can distort centroids) | Poor (noise points can affect the hierarchy) | Excellent (explicitly identifies noise) |\n",
    "| **Use Cases** | Large datasets. Spherical clusters. Predefined number of clusters. |   Small datasets. Hierarchical relationships. Nested clusters. | Anomaly detection. Clustering with noise. Arbitrary-shaped clusters.|     "
   ]
  },
  {
   "cell_type": "markdown",
   "metadata": {},
   "source": [
    "# *Dataset*"
   ]
  },
  {
   "cell_type": "code",
   "execution_count": 2,
   "metadata": {},
   "outputs": [],
   "source": [
    "# Importing iris dataset\n",
    "from sklearn import datasets\n",
    "import matplotlib.pyplot as plt\n",
    "import pandas as pd\n",
    "import numpy as np\n",
    "import time\n",
    "\n",
    "\n",
    "iris = datasets.load_iris()\n",
    "iris.data\n",
    "y=np.random.randint(range(1,5)  , size=(150,1))"
   ]
  },
  {
   "cell_type": "code",
   "execution_count": 3,
   "metadata": {},
   "outputs": [
    {
     "data": {
      "text/html": [
       "<div>\n",
       "<style scoped>\n",
       "    .dataframe tbody tr th:only-of-type {\n",
       "        vertical-align: middle;\n",
       "    }\n",
       "\n",
       "    .dataframe tbody tr th {\n",
       "        vertical-align: top;\n",
       "    }\n",
       "\n",
       "    .dataframe thead th {\n",
       "        text-align: right;\n",
       "    }\n",
       "</style>\n",
       "<table border=\"1\" class=\"dataframe\">\n",
       "  <thead>\n",
       "    <tr style=\"text-align: right;\">\n",
       "      <th></th>\n",
       "      <th>sepal length (cm)</th>\n",
       "      <th>sepal width (cm)</th>\n",
       "      <th>petal length (cm)</th>\n",
       "      <th>petal width (cm)</th>\n",
       "    </tr>\n",
       "  </thead>\n",
       "  <tbody>\n",
       "    <tr>\n",
       "      <th>0</th>\n",
       "      <td>5.1</td>\n",
       "      <td>3.5</td>\n",
       "      <td>1.4</td>\n",
       "      <td>0.2</td>\n",
       "    </tr>\n",
       "    <tr>\n",
       "      <th>1</th>\n",
       "      <td>4.9</td>\n",
       "      <td>3.0</td>\n",
       "      <td>1.4</td>\n",
       "      <td>0.2</td>\n",
       "    </tr>\n",
       "    <tr>\n",
       "      <th>2</th>\n",
       "      <td>4.7</td>\n",
       "      <td>3.2</td>\n",
       "      <td>1.3</td>\n",
       "      <td>0.2</td>\n",
       "    </tr>\n",
       "    <tr>\n",
       "      <th>3</th>\n",
       "      <td>4.6</td>\n",
       "      <td>3.1</td>\n",
       "      <td>1.5</td>\n",
       "      <td>0.2</td>\n",
       "    </tr>\n",
       "    <tr>\n",
       "      <th>4</th>\n",
       "      <td>5.0</td>\n",
       "      <td>3.6</td>\n",
       "      <td>1.4</td>\n",
       "      <td>0.2</td>\n",
       "    </tr>\n",
       "    <tr>\n",
       "      <th>...</th>\n",
       "      <td>...</td>\n",
       "      <td>...</td>\n",
       "      <td>...</td>\n",
       "      <td>...</td>\n",
       "    </tr>\n",
       "    <tr>\n",
       "      <th>145</th>\n",
       "      <td>6.7</td>\n",
       "      <td>3.0</td>\n",
       "      <td>5.2</td>\n",
       "      <td>2.3</td>\n",
       "    </tr>\n",
       "    <tr>\n",
       "      <th>146</th>\n",
       "      <td>6.3</td>\n",
       "      <td>2.5</td>\n",
       "      <td>5.0</td>\n",
       "      <td>1.9</td>\n",
       "    </tr>\n",
       "    <tr>\n",
       "      <th>147</th>\n",
       "      <td>6.5</td>\n",
       "      <td>3.0</td>\n",
       "      <td>5.2</td>\n",
       "      <td>2.0</td>\n",
       "    </tr>\n",
       "    <tr>\n",
       "      <th>148</th>\n",
       "      <td>6.2</td>\n",
       "      <td>3.4</td>\n",
       "      <td>5.4</td>\n",
       "      <td>2.3</td>\n",
       "    </tr>\n",
       "    <tr>\n",
       "      <th>149</th>\n",
       "      <td>5.9</td>\n",
       "      <td>3.0</td>\n",
       "      <td>5.1</td>\n",
       "      <td>1.8</td>\n",
       "    </tr>\n",
       "  </tbody>\n",
       "</table>\n",
       "<p>150 rows × 4 columns</p>\n",
       "</div>"
      ],
      "text/plain": [
       "     sepal length (cm)  sepal width (cm)  petal length (cm)  petal width (cm)\n",
       "0                  5.1               3.5                1.4               0.2\n",
       "1                  4.9               3.0                1.4               0.2\n",
       "2                  4.7               3.2                1.3               0.2\n",
       "3                  4.6               3.1                1.5               0.2\n",
       "4                  5.0               3.6                1.4               0.2\n",
       "..                 ...               ...                ...               ...\n",
       "145                6.7               3.0                5.2               2.3\n",
       "146                6.3               2.5                5.0               1.9\n",
       "147                6.5               3.0                5.2               2.0\n",
       "148                6.2               3.4                5.4               2.3\n",
       "149                5.9               3.0                5.1               1.8\n",
       "\n",
       "[150 rows x 4 columns]"
      ]
     },
     "execution_count": 3,
     "metadata": {},
     "output_type": "execute_result"
    }
   ],
   "source": [
    "X=pd.DataFrame(iris.data , columns=iris.feature_names)\n",
    "X"
   ]
  },
  {
   "cell_type": "code",
   "execution_count": 4,
   "metadata": {},
   "outputs": [
    {
     "data": {
      "text/plain": [
       "array([[-2.68412563,  0.31939725],\n",
       "       [-2.71414169, -0.17700123],\n",
       "       [-2.88899057, -0.14494943],\n",
       "       [-2.74534286, -0.31829898],\n",
       "       [-2.72871654,  0.32675451],\n",
       "       [-2.28085963,  0.74133045],\n",
       "       [-2.82053775, -0.08946138],\n",
       "       [-2.62614497,  0.16338496],\n",
       "       [-2.88638273, -0.57831175],\n",
       "       [-2.6727558 , -0.11377425],\n",
       "       [-2.50694709,  0.6450689 ],\n",
       "       [-2.61275523,  0.01472994],\n",
       "       [-2.78610927, -0.235112  ],\n",
       "       [-3.22380374, -0.51139459],\n",
       "       [-2.64475039,  1.17876464],\n",
       "       [-2.38603903,  1.33806233],\n",
       "       [-2.62352788,  0.81067951],\n",
       "       [-2.64829671,  0.31184914],\n",
       "       [-2.19982032,  0.87283904],\n",
       "       [-2.5879864 ,  0.51356031],\n",
       "       [-2.31025622,  0.39134594],\n",
       "       [-2.54370523,  0.43299606],\n",
       "       [-3.21593942,  0.13346807],\n",
       "       [-2.30273318,  0.09870885],\n",
       "       [-2.35575405, -0.03728186],\n",
       "       [-2.50666891, -0.14601688],\n",
       "       [-2.46882007,  0.13095149],\n",
       "       [-2.56231991,  0.36771886],\n",
       "       [-2.63953472,  0.31203998],\n",
       "       [-2.63198939, -0.19696122],\n",
       "       [-2.58739848, -0.20431849],\n",
       "       [-2.4099325 ,  0.41092426],\n",
       "       [-2.64886233,  0.81336382],\n",
       "       [-2.59873675,  1.09314576],\n",
       "       [-2.63692688, -0.12132235],\n",
       "       [-2.86624165,  0.06936447],\n",
       "       [-2.62523805,  0.59937002],\n",
       "       [-2.80068412,  0.26864374],\n",
       "       [-2.98050204, -0.48795834],\n",
       "       [-2.59000631,  0.22904384],\n",
       "       [-2.77010243,  0.26352753],\n",
       "       [-2.84936871, -0.94096057],\n",
       "       [-2.99740655, -0.34192606],\n",
       "       [-2.40561449,  0.18887143],\n",
       "       [-2.20948924,  0.43666314],\n",
       "       [-2.71445143, -0.2502082 ],\n",
       "       [-2.53814826,  0.50377114],\n",
       "       [-2.83946217, -0.22794557],\n",
       "       [-2.54308575,  0.57941002],\n",
       "       [-2.70335978,  0.10770608],\n",
       "       [ 1.28482569,  0.68516047],\n",
       "       [ 0.93248853,  0.31833364],\n",
       "       [ 1.46430232,  0.50426282],\n",
       "       [ 0.18331772, -0.82795901],\n",
       "       [ 1.08810326,  0.07459068],\n",
       "       [ 0.64166908, -0.41824687],\n",
       "       [ 1.09506066,  0.28346827],\n",
       "       [-0.74912267, -1.00489096],\n",
       "       [ 1.04413183,  0.2283619 ],\n",
       "       [-0.0087454 , -0.72308191],\n",
       "       [-0.50784088, -1.26597119],\n",
       "       [ 0.51169856, -0.10398124],\n",
       "       [ 0.26497651, -0.55003646],\n",
       "       [ 0.98493451, -0.12481785],\n",
       "       [-0.17392537, -0.25485421],\n",
       "       [ 0.92786078,  0.46717949],\n",
       "       [ 0.66028376, -0.35296967],\n",
       "       [ 0.23610499, -0.33361077],\n",
       "       [ 0.94473373, -0.54314555],\n",
       "       [ 0.04522698, -0.58383438],\n",
       "       [ 1.11628318, -0.08461685],\n",
       "       [ 0.35788842, -0.06892503],\n",
       "       [ 1.29818388, -0.32778731],\n",
       "       [ 0.92172892, -0.18273779],\n",
       "       [ 0.71485333,  0.14905594],\n",
       "       [ 0.90017437,  0.32850447],\n",
       "       [ 1.33202444,  0.24444088],\n",
       "       [ 1.55780216,  0.26749545],\n",
       "       [ 0.81329065, -0.1633503 ],\n",
       "       [-0.30558378, -0.36826219],\n",
       "       [-0.06812649, -0.70517213],\n",
       "       [-0.18962247, -0.68028676],\n",
       "       [ 0.13642871, -0.31403244],\n",
       "       [ 1.38002644, -0.42095429],\n",
       "       [ 0.58800644, -0.48428742],\n",
       "       [ 0.80685831,  0.19418231],\n",
       "       [ 1.22069088,  0.40761959],\n",
       "       [ 0.81509524, -0.37203706],\n",
       "       [ 0.24595768, -0.2685244 ],\n",
       "       [ 0.16641322, -0.68192672],\n",
       "       [ 0.46480029, -0.67071154],\n",
       "       [ 0.8908152 , -0.03446444],\n",
       "       [ 0.23054802, -0.40438585],\n",
       "       [-0.70453176, -1.01224823],\n",
       "       [ 0.35698149, -0.50491009],\n",
       "       [ 0.33193448, -0.21265468],\n",
       "       [ 0.37621565, -0.29321893],\n",
       "       [ 0.64257601,  0.01773819],\n",
       "       [-0.90646986, -0.75609337],\n",
       "       [ 0.29900084, -0.34889781],\n",
       "       [ 2.53119273, -0.00984911],\n",
       "       [ 1.41523588, -0.57491635],\n",
       "       [ 2.61667602,  0.34390315],\n",
       "       [ 1.97153105, -0.1797279 ],\n",
       "       [ 2.35000592, -0.04026095],\n",
       "       [ 3.39703874,  0.55083667],\n",
       "       [ 0.52123224, -1.19275873],\n",
       "       [ 2.93258707,  0.3555    ],\n",
       "       [ 2.32122882, -0.2438315 ],\n",
       "       [ 2.91675097,  0.78279195],\n",
       "       [ 1.66177415,  0.24222841],\n",
       "       [ 1.80340195, -0.21563762],\n",
       "       [ 2.1655918 ,  0.21627559],\n",
       "       [ 1.34616358, -0.77681835],\n",
       "       [ 1.58592822, -0.53964071],\n",
       "       [ 1.90445637,  0.11925069],\n",
       "       [ 1.94968906,  0.04194326],\n",
       "       [ 3.48705536,  1.17573933],\n",
       "       [ 3.79564542,  0.25732297],\n",
       "       [ 1.30079171, -0.76114964],\n",
       "       [ 2.42781791,  0.37819601],\n",
       "       [ 1.19900111, -0.60609153],\n",
       "       [ 3.49992004,  0.4606741 ],\n",
       "       [ 1.38876613, -0.20439933],\n",
       "       [ 2.2754305 ,  0.33499061],\n",
       "       [ 2.61409047,  0.56090136],\n",
       "       [ 1.25850816, -0.17970479],\n",
       "       [ 1.29113206, -0.11666865],\n",
       "       [ 2.12360872, -0.20972948],\n",
       "       [ 2.38800302,  0.4646398 ],\n",
       "       [ 2.84167278,  0.37526917],\n",
       "       [ 3.23067366,  1.37416509],\n",
       "       [ 2.15943764, -0.21727758],\n",
       "       [ 1.44416124, -0.14341341],\n",
       "       [ 1.78129481, -0.49990168],\n",
       "       [ 3.07649993,  0.68808568],\n",
       "       [ 2.14424331,  0.1400642 ],\n",
       "       [ 1.90509815,  0.04930053],\n",
       "       [ 1.16932634, -0.16499026],\n",
       "       [ 2.10761114,  0.37228787],\n",
       "       [ 2.31415471,  0.18365128],\n",
       "       [ 1.9222678 ,  0.40920347],\n",
       "       [ 1.41523588, -0.57491635],\n",
       "       [ 2.56301338,  0.2778626 ],\n",
       "       [ 2.41874618,  0.3047982 ],\n",
       "       [ 1.94410979,  0.1875323 ],\n",
       "       [ 1.52716661, -0.37531698],\n",
       "       [ 1.76434572,  0.07885885],\n",
       "       [ 1.90094161,  0.11662796],\n",
       "       [ 1.39018886, -0.28266094]])"
      ]
     },
     "execution_count": 4,
     "metadata": {},
     "output_type": "execute_result"
    }
   ],
   "source": [
    "# Now we will reduce this 4-Dimensinal(as we have 4 features) TO 2-Dimensional so that we can see the clusters\n",
    "from sklearn.decomposition import PCA\n",
    "pca = PCA(n_components=2)\n",
    "X = pca.fit_transform(X)\n",
    "X"
   ]
  },
  {
   "cell_type": "code",
   "execution_count": 5,
   "metadata": {},
   "outputs": [
    {
     "data": {
      "text/plain": [
       "array([[-1.30971087,  0.65054141],\n",
       "       [-1.32435711, -0.36051227],\n",
       "       [-1.40967409, -0.29522986],\n",
       "       [-1.33958163, -0.64830449],\n",
       "       [-1.33146886,  0.66552653],\n",
       "       [-1.11293846,  1.50992585],\n",
       "       [-1.37627274, -0.18221302],\n",
       "       [-1.28141939,  0.33277896],\n",
       "       [-1.4084016 , -1.17789289],\n",
       "       [-1.30416299, -0.23173293],\n",
       "       [-1.22325714,  1.3138624 ],\n",
       "       [-1.2748859 ,  0.03000162],\n",
       "       [-1.35947347, -0.47887104],\n",
       "       [-1.57304515, -1.04159745],\n",
       "       [-1.29049784,  2.40088235],\n",
       "       [-1.16426043,  2.72533645],\n",
       "       [-1.28014238,  1.65117453],\n",
       "       [-1.29222826,  0.6351676 ],\n",
       "       [-1.07339558,  1.7777797 ],\n",
       "       [-1.26280003,  1.04600854],\n",
       "       [-1.12728243,  0.79708495],\n",
       "       [-1.24119316,  0.88191703],\n",
       "       [-1.56920777,  0.27184488],\n",
       "       [-1.12361159,  0.20104806],\n",
       "       [-1.14948296, -0.07593489],\n",
       "       [-1.2231214 , -0.29740403],\n",
       "       [-1.20465318,  0.26671917],\n",
       "       [-1.25027614,  0.74896183],\n",
       "       [-1.28795287,  0.63555629],\n",
       "       [-1.28427115, -0.40116637],\n",
       "       [-1.26251315, -0.41615149],\n",
       "       [-1.17591917,  0.83696167],\n",
       "       [-1.29250425,  1.65664186],\n",
       "       [-1.26804563,  2.22649567],\n",
       "       [-1.28668038, -0.24710674],\n",
       "       [-1.39857382,  0.14128006],\n",
       "       [-1.28097685,  1.22078391],\n",
       "       [-1.36658522,  0.54716776],\n",
       "       [-1.45432683, -0.99386302],\n",
       "       [-1.26378564,  0.46651154],\n",
       "       [-1.35166298,  0.53674719],\n",
       "       [-1.39034072, -1.91652817],\n",
       "       [-1.46257533, -0.69642761],\n",
       "       [-1.17381221,  0.38468925],\n",
       "       [-1.0781135 ,  0.88938606],\n",
       "       [-1.32450825, -0.50961867],\n",
       "       [-1.23848166,  1.02607019],\n",
       "       [-1.38550686, -0.46427461],\n",
       "       [-1.24089089,  1.18012982],\n",
       "       [-1.31909611,  0.21937342],\n",
       "       [ 0.62692675,  1.39552005],\n",
       "       [ 0.45500492,  0.64837508],\n",
       "       [ 0.71450183,  1.02707161],\n",
       "       [ 0.08944932, -1.68636903],\n",
       "       [ 0.53093665,  0.15192468],\n",
       "       [ 0.31310046, -0.85187619],\n",
       "       [ 0.53433149,  0.57736205],\n",
       "       [-0.36553211, -2.04674021],\n",
       "       [ 0.50948092,  0.46512259],\n",
       "       [-0.00426729, -1.47275761],\n",
       "       [-0.2477994 , -2.57850278],\n",
       "       [ 0.24968174, -0.21178673],\n",
       "       [ 0.12929447, -1.12030239],\n",
       "       [ 0.48059577, -0.25422631],\n",
       "       [-0.08486635, -0.51908155],\n",
       "       [ 0.45274682,  0.9515411 ],\n",
       "       [ 0.32218344, -0.71892099],\n",
       "       [ 0.11520671, -0.6794912 ],\n",
       "       [ 0.46097993, -1.10626713],\n",
       "       [ 0.02206836, -1.18914125],\n",
       "       [ 0.54468695, -0.17234578],\n",
       "       [ 0.17463056, -0.14038502],\n",
       "       [ 0.63344484, -0.66763011],\n",
       "       [ 0.4497548 , -0.37219639],\n",
       "       [ 0.34881049,  0.30359393],\n",
       "       [ 0.43923732,  0.66909082],\n",
       "       [ 0.64995724,  0.4978719 ],\n",
       "       [ 0.76012478,  0.54482895],\n",
       "       [ 0.39684268, -0.33270836],\n",
       "       [-0.14910867, -0.75006847],\n",
       "       [-0.03324211, -1.43627937],\n",
       "       [-0.0925257 , -1.38559339],\n",
       "       [ 0.06656997, -0.63961449],\n",
       "       [ 0.67337967, -0.8573906 ],\n",
       "       [ 0.28691594, -0.98638616],\n",
       "       [ 0.39370404,  0.39550634],\n",
       "       [ 0.59563237,  0.83023078],\n",
       "       [ 0.39772322, -0.75775705],\n",
       "       [ 0.1200143 , -0.54692469],\n",
       "       [ 0.08120082, -1.38893362],\n",
       "       [ 0.22679788, -1.36609079],\n",
       "       [ 0.43467054, -0.07019644],\n",
       "       [ 0.1124952 , -0.82364436],\n",
       "       [-0.34377411, -2.06172533],\n",
       "       [ 0.17418803, -1.02838997],\n",
       "       [ 0.16196641, -0.43313047],\n",
       "       [ 0.18357327, -0.59722198],\n",
       "       [ 0.31354299,  0.03612876],\n",
       "       [-0.44230919, -1.53999464],\n",
       "       [ 0.14589654, -0.71062752],\n",
       "       [ 1.23508773, -0.02006045],\n",
       "       [ 0.69056001, -1.1709772 ],\n",
       "       [ 1.27679904,  0.70045451],\n",
       "       [ 0.96200253, -0.36606591],\n",
       "       [ 1.14667818, -0.08200263],\n",
       "       [ 1.65757463,  1.12193224],\n",
       "       [ 0.25433367, -2.42938521],\n",
       "       [ 1.43094687,  0.72407473],\n",
       "       [ 1.13263648, -0.49663074],\n",
       "       [ 1.42321969,  1.59437373],\n",
       "       [ 0.8108576 ,  0.49336559],\n",
       "       [ 0.87996445, -0.43920604],\n",
       "       [ 1.05669387,  0.44050544],\n",
       "       [ 0.65685639, -1.58220683],\n",
       "       [ 0.77384881, -1.09912855],\n",
       "       [ 0.92927365,  0.24288723],\n",
       "       [ 0.9513448 ,  0.08542913],\n",
       "       [ 1.70149797,  2.39472047],\n",
       "       [ 1.85207354,  0.52410987],\n",
       "       [ 0.63471733, -1.55029314],\n",
       "       [ 1.1846463 ,  0.77030147],\n",
       "       [ 0.58504891, -1.23447413],\n",
       "       [ 1.70777525,  0.93829105],\n",
       "       [ 0.67764417, -0.41631614],\n",
       "       [ 1.11028934,  0.68230163],\n",
       "       [ 1.27553743,  1.14243177],\n",
       "       [ 0.6140852 , -0.36601884],\n",
       "       [ 0.63000393, -0.23762819],\n",
       "       [ 1.03620836, -0.42717247],\n",
       "       [ 1.16521875,  0.94636832],\n",
       "       [ 1.38658552,  0.76434013],\n",
       "       [ 1.5763973 ,  2.79886977],\n",
       "       [ 1.05369097, -0.44254628],\n",
       "       [ 0.70467405, -0.29210134],\n",
       "       [ 0.86917734, -1.01818895],\n",
       "       [ 1.50116871,  1.40147805],\n",
       "       [ 1.04627695,  0.28527974],\n",
       "       [ 0.9295868 ,  0.10041425],\n",
       "       [ 0.5705692 , -0.3360486 ],\n",
       "       [ 1.02840239,  0.7582679 ],\n",
       "       [ 1.12918469,  0.37405696],\n",
       "       [ 0.93796468,  0.83345678],\n",
       "       [ 0.69056001, -1.1709772 ],\n",
       "       [ 1.25061452,  0.56594455],\n",
       "       [ 1.18021978,  0.62080639],\n",
       "       [ 0.94862241,  0.38196174],\n",
       "       [ 0.74517627, -0.76443752],\n",
       "       [ 0.86090708,  0.16061801],\n",
       "       [ 0.92755863,  0.23754531],\n",
       "       [ 0.67833839, -0.57571769]])"
      ]
     },
     "execution_count": 5,
     "metadata": {},
     "output_type": "execute_result"
    }
   ],
   "source": [
    "# Scaling down values so that model treat each points equally important\n",
    "from sklearn.preprocessing import StandardScaler\n",
    "scaling = StandardScaler()\n",
    "X = scaling.fit_transform(X)\n",
    "X"
   ]
  },
  {
   "cell_type": "code",
   "execution_count": 6,
   "metadata": {},
   "outputs": [
    {
     "data": {
      "image/png": "[encoded data removed]",
      "text/plain": [
       "<Figure size 640x480 with 1 Axes>"
      ]
     },
     "metadata": {},
     "output_type": "display_data"
    }
   ],
   "source": [
    "plt.scatter(X[:,0],X[:,1])\n",
    "plt.xlabel(\"feature-1\")\n",
    "plt.ylabel(\"feature-2\")\n",
    "plt.show()"
   ]
  },
  {
   "cell_type": "code",
   "execution_count": 7,
   "metadata": {},
   "outputs": [],
   "source": [
    "# Splitting the data into train and test\n",
    "from sklearn.model_selection import train_test_split\n",
    "X_train, X_test, y_train, y_test = train_test_split(\n",
    "    X, y, test_size=0.33, random_state=42)"
   ]
  },
  {
   "cell_type": "markdown",
   "metadata": {},
   "source": [
    "# *K-Mean*"
   ]
  },
  {
   "cell_type": "code",
   "execution_count": 8,
   "metadata": {},
   "outputs": [
    {
     "name": "stdout",
     "output_type": "stream",
     "text": [
      "3\n"
     ]
    }
   ],
   "source": [
    "from sklearn.cluster import KMeans\n",
    "\n",
    "# Finding the value of K by Elbow Method\n",
    "wcss =[]\n",
    "for k in range(1,11):\n",
    "    kmeans = KMeans(n_clusters=k , init='k-means++')\n",
    "    kmeans.fit(X_train)\n",
    "    wcss.append(kmeans.inertia_)\n",
    "\n",
    "from kneed import KneeLocator\n",
    "kl =KneeLocator(range(1,11),wcss , curve='convex' , direction='decreasing')\n",
    "\n",
    "# k1 is the optimum number of clusters for K-means\n",
    "print(kl.elbow)"
   ]
  },
  {
   "cell_type": "code",
   "execution_count": 9,
   "metadata": {},
   "outputs": [
    {
     "name": "stdout",
     "output_type": "stream",
     "text": [
      "Time taken by K-means: 0.0075 seconds\n"
     ]
    }
   ],
   "source": [
    "# implementing k means\n",
    "start_time = time.time()\n",
    "kmeans = KMeans(n_clusters=3 , init=\"k-means++\")\n",
    "y_test_labels = kmeans.fit_predict(X_test)\n",
    "kmeans_time = time.time() - start_time\n",
    "print(f\"Time taken by K-means: {kmeans_time:.4f} seconds\")"
   ]
  },
  {
   "cell_type": "code",
   "execution_count": 10,
   "metadata": {},
   "outputs": [
    {
     "data": {
      "text/plain": [
       "Text(0, 0.5, 'feature-2')"
      ]
     },
     "execution_count": 10,
     "metadata": {},
     "output_type": "execute_result"
    },
    {
     "data": {
      "image/png": "[encoded data removed]",
      "text/plain": [
       "<Figure size 640x480 with 1 Axes>"
      ]
     },
     "metadata": {},
     "output_type": "display_data"
    }
   ],
   "source": [
    "plt.scatter(X_test[:,0] , X_test[:,1],c=y_test_labels)\n",
    "plt.xlabel(\"feature-1\")\n",
    "plt.ylabel(\"feature-2\")"
   ]
  },
  {
   "cell_type": "code",
   "execution_count": 11,
   "metadata": {},
   "outputs": [
    {
     "name": "stdout",
     "output_type": "stream",
     "text": [
      "0.47407890696170063\n"
     ]
    }
   ],
   "source": [
    "# Checking accuracy of model\n",
    "from sklearn.metrics import silhouette_score\n",
    "print(silhouette_score(X_test,y_test_labels))"
   ]
  },
  {
   "cell_type": "markdown",
   "metadata": {},
   "source": [
    ">Key-Takeaways\n",
    ">\n",
    "> - Strengths: Fast, scalable, works for spherical clusters.\n",
    ">\n",
    "> - Weaknesses: Needs predefined k, sensitive to initialization.\n",
    ">\n",
    "> - Use Case: Large datasets, well-separated spherical clusters."
   ]
  },
  {
   "cell_type": "markdown",
   "metadata": {},
   "source": [
    "# *Agglomerative Hierarchical*"
   ]
  },
  {
   "cell_type": "code",
   "execution_count": 12,
   "metadata": {},
   "outputs": [
    {
     "data": {
      "image/png": "[encoded data removed]",
      "text/plain": [
       "<Figure size 1000x700 with 1 Axes>"
      ]
     },
     "metadata": {},
     "output_type": "display_data"
    }
   ],
   "source": [
    "# Plloting dendogram for Hierarchial Clustring\n",
    "plt.figure(figsize=(10,7))\n",
    "import scipy.cluster.hierarchy as sc\n",
    "sc.dendrogram(sc.linkage(X_train,method='ward'))\n",
    "plt.title('DENDOGRAM')\n",
    "plt.xlabel('data points')\n",
    "plt.ylabel('eucledian distance')\n",
    "plt.show()"
   ]
  },
  {
   "cell_type": "code",
   "execution_count": 13,
   "metadata": {},
   "outputs": [
    {
     "name": "stdout",
     "output_type": "stream",
     "text": [
      "Agglomerative Clustering runtime: 0.0053 seconds\n"
     ]
    }
   ],
   "source": [
    "from sklearn.cluster import AgglomerativeClustering\n",
    "start_time = time.time()\n",
    "# From dendogram we can see the optimum number of clusters is 2\n",
    "clusters = AgglomerativeClustering(n_clusters=2, metric='euclidean' , linkage='ward')\n",
    "clusters.fit(X_train)\n",
    "y_test_hierarchial = clusters.fit_predict(X_test)\n",
    "agglomerative_time = time.time() - start_time\n",
    "print(f\"Agglomerative Clustering runtime: {agglomerative_time:.4f} seconds\")"
   ]
  },
  {
   "cell_type": "code",
   "execution_count": 14,
   "metadata": {},
   "outputs": [
    {
     "data": {
      "text/plain": [
       "array([0, 1, 0, 0, 0, 1, 0, 0, 0, 0, 0, 1, 1, 1, 1, 0, 0, 0, 0, 0, 1, 0,\n",
       "       1, 0, 0, 0, 0, 0, 1, 1, 1, 1, 0, 1, 1, 0, 0, 1, 1, 1, 0, 0, 0, 1,\n",
       "       1, 0, 0, 0, 0, 0])"
      ]
     },
     "execution_count": 14,
     "metadata": {},
     "output_type": "execute_result"
    }
   ],
   "source": [
    "clusters.labels_"
   ]
  },
  {
   "cell_type": "code",
   "execution_count": 15,
   "metadata": {},
   "outputs": [
    {
     "data": {
      "text/plain": [
       "Text(0, 0.5, 'feature-2')"
      ]
     },
     "execution_count": 15,
     "metadata": {},
     "output_type": "execute_result"
    },
    {
     "data": {
      "image/png": "[encoded data removed]",
      "text/plain": [
       "<Figure size 640x480 with 1 Axes>"
      ]
     },
     "metadata": {},
     "output_type": "display_data"
    }
   ],
   "source": [
    "plt.scatter(X_test[:,0],X_test[:,1] , c=y_test_hierarchial)\n",
    "plt.xlabel(\"feature-1\")\n",
    "plt.ylabel(\"feature-2\")"
   ]
  },
  {
   "cell_type": "code",
   "execution_count": 16,
   "metadata": {},
   "outputs": [
    {
     "name": "stdout",
     "output_type": "stream",
     "text": [
      "0.5127278972462296\n"
     ]
    }
   ],
   "source": [
    "print(silhouette_score(X_test,y_test_hierarchial))"
   ]
  },
  {
   "cell_type": "markdown",
   "metadata": {},
   "source": [
    ">Key-Takeaways\n",
    ">\n",
    "> - Strengths: Dendrogram visualization, no need for k, captures hierarchies.\n",
    ">\n",
    "> - Weaknesses: Slow for large datasets, sensitive to noise.\n",
    ">\n",
    "> - Use Case: Small datasets, hierarchical relationships."
   ]
  },
  {
   "cell_type": "markdown",
   "metadata": {},
   "source": [
    "# *DB-SCAN*"
   ]
  },
  {
   "cell_type": "code",
   "execution_count": 17,
   "metadata": {},
   "outputs": [],
   "source": [
    "from sklearn.cluster import DBSCAN"
   ]
  },
  {
   "cell_type": "code",
   "execution_count": null,
   "metadata": {},
   "outputs": [
    {
     "name": "stdout",
     "output_type": "stream",
     "text": [
      "DBSCAN runtime: 0.0149 seconds\n"
     ]
    }
   ],
   "source": [
    "start_time = time.time()\n",
    "dbcan = DBSCAN(eps=0.5 , min_samples=5)\n",
    "# dbcan.fit(X)\n",
    "\n",
    "y_test_dbscan = dbcan.fit_predict(X)\n",
    "print(dbcan.labels_)\n",
    "dbscan_time = time.time() - start_time\n",
    "print(f\"DBSCAN runtime: {dbscan_time:.4f} seconds\")"
   ]
  },
  {
   "cell_type": "code",
   "execution_count": 19,
   "metadata": {},
   "outputs": [
    {
     "data": {
      "text/plain": [
       "array([[-1.30971087,  0.65054141],\n",
       "       [-1.32435711, -0.36051227],\n",
       "       [-1.40967409, -0.29522986],\n",
       "       [-1.33958163, -0.64830449],\n",
       "       [-1.33146886,  0.66552653],\n",
       "       [-1.11293846,  1.50992585],\n",
       "       [-1.37627274, -0.18221302],\n",
       "       [-1.28141939,  0.33277896],\n",
       "       [-1.4084016 , -1.17789289],\n",
       "       [-1.30416299, -0.23173293],\n",
       "       [-1.22325714,  1.3138624 ],\n",
       "       [-1.2748859 ,  0.03000162],\n",
       "       [-1.35947347, -0.47887104],\n",
       "       [-1.57304515, -1.04159745],\n",
       "       [-1.29049784,  2.40088235],\n",
       "       [-1.16426043,  2.72533645],\n",
       "       [-1.28014238,  1.65117453],\n",
       "       [-1.29222826,  0.6351676 ],\n",
       "       [-1.07339558,  1.7777797 ],\n",
       "       [-1.26280003,  1.04600854],\n",
       "       [-1.12728243,  0.79708495],\n",
       "       [-1.24119316,  0.88191703],\n",
       "       [-1.56920777,  0.27184488],\n",
       "       [-1.12361159,  0.20104806],\n",
       "       [-1.14948296, -0.07593489],\n",
       "       [-1.2231214 , -0.29740403],\n",
       "       [-1.20465318,  0.26671917],\n",
       "       [-1.25027614,  0.74896183],\n",
       "       [-1.28795287,  0.63555629],\n",
       "       [-1.28427115, -0.40116637],\n",
       "       [-1.26251315, -0.41615149],\n",
       "       [-1.17591917,  0.83696167],\n",
       "       [-1.29250425,  1.65664186],\n",
       "       [-1.26804563,  2.22649567],\n",
       "       [-1.28668038, -0.24710674],\n",
       "       [-1.39857382,  0.14128006],\n",
       "       [-1.28097685,  1.22078391],\n",
       "       [-1.36658522,  0.54716776],\n",
       "       [-1.45432683, -0.99386302],\n",
       "       [-1.26378564,  0.46651154],\n",
       "       [-1.35166298,  0.53674719],\n",
       "       [-1.39034072, -1.91652817],\n",
       "       [-1.46257533, -0.69642761],\n",
       "       [-1.17381221,  0.38468925],\n",
       "       [-1.0781135 ,  0.88938606],\n",
       "       [-1.32450825, -0.50961867],\n",
       "       [-1.23848166,  1.02607019],\n",
       "       [-1.38550686, -0.46427461],\n",
       "       [-1.24089089,  1.18012982],\n",
       "       [-1.31909611,  0.21937342],\n",
       "       [ 0.62692675,  1.39552005],\n",
       "       [ 0.45500492,  0.64837508],\n",
       "       [ 0.71450183,  1.02707161],\n",
       "       [ 0.08944932, -1.68636903],\n",
       "       [ 0.53093665,  0.15192468],\n",
       "       [ 0.31310046, -0.85187619],\n",
       "       [ 0.53433149,  0.57736205],\n",
       "       [-0.36553211, -2.04674021],\n",
       "       [ 0.50948092,  0.46512259],\n",
       "       [-0.00426729, -1.47275761],\n",
       "       [-0.2477994 , -2.57850278],\n",
       "       [ 0.24968174, -0.21178673],\n",
       "       [ 0.12929447, -1.12030239],\n",
       "       [ 0.48059577, -0.25422631],\n",
       "       [-0.08486635, -0.51908155],\n",
       "       [ 0.45274682,  0.9515411 ],\n",
       "       [ 0.32218344, -0.71892099],\n",
       "       [ 0.11520671, -0.6794912 ],\n",
       "       [ 0.46097993, -1.10626713],\n",
       "       [ 0.02206836, -1.18914125],\n",
       "       [ 0.54468695, -0.17234578],\n",
       "       [ 0.17463056, -0.14038502],\n",
       "       [ 0.63344484, -0.66763011],\n",
       "       [ 0.4497548 , -0.37219639],\n",
       "       [ 0.34881049,  0.30359393],\n",
       "       [ 0.43923732,  0.66909082],\n",
       "       [ 0.64995724,  0.4978719 ],\n",
       "       [ 0.76012478,  0.54482895],\n",
       "       [ 0.39684268, -0.33270836],\n",
       "       [-0.14910867, -0.75006847],\n",
       "       [-0.03324211, -1.43627937],\n",
       "       [-0.0925257 , -1.38559339],\n",
       "       [ 0.06656997, -0.63961449],\n",
       "       [ 0.67337967, -0.8573906 ],\n",
       "       [ 0.28691594, -0.98638616],\n",
       "       [ 0.39370404,  0.39550634],\n",
       "       [ 0.59563237,  0.83023078],\n",
       "       [ 0.39772322, -0.75775705],\n",
       "       [ 0.1200143 , -0.54692469],\n",
       "       [ 0.08120082, -1.38893362],\n",
       "       [ 0.22679788, -1.36609079],\n",
       "       [ 0.43467054, -0.07019644],\n",
       "       [ 0.1124952 , -0.82364436],\n",
       "       [-0.34377411, -2.06172533],\n",
       "       [ 0.17418803, -1.02838997],\n",
       "       [ 0.16196641, -0.43313047],\n",
       "       [ 0.18357327, -0.59722198],\n",
       "       [ 0.31354299,  0.03612876],\n",
       "       [-0.44230919, -1.53999464],\n",
       "       [ 0.14589654, -0.71062752],\n",
       "       [ 1.23508773, -0.02006045],\n",
       "       [ 0.69056001, -1.1709772 ],\n",
       "       [ 1.27679904,  0.70045451],\n",
       "       [ 0.96200253, -0.36606591],\n",
       "       [ 1.14667818, -0.08200263],\n",
       "       [ 1.65757463,  1.12193224],\n",
       "       [ 0.25433367, -2.42938521],\n",
       "       [ 1.43094687,  0.72407473],\n",
       "       [ 1.13263648, -0.49663074],\n",
       "       [ 1.42321969,  1.59437373],\n",
       "       [ 0.8108576 ,  0.49336559],\n",
       "       [ 0.87996445, -0.43920604],\n",
       "       [ 1.05669387,  0.44050544],\n",
       "       [ 0.65685639, -1.58220683],\n",
       "       [ 0.77384881, -1.09912855],\n",
       "       [ 0.92927365,  0.24288723],\n",
       "       [ 0.9513448 ,  0.08542913],\n",
       "       [ 1.70149797,  2.39472047],\n",
       "       [ 1.85207354,  0.52410987],\n",
       "       [ 0.63471733, -1.55029314],\n",
       "       [ 1.1846463 ,  0.77030147],\n",
       "       [ 0.58504891, -1.23447413],\n",
       "       [ 1.70777525,  0.93829105],\n",
       "       [ 0.67764417, -0.41631614],\n",
       "       [ 1.11028934,  0.68230163],\n",
       "       [ 1.27553743,  1.14243177],\n",
       "       [ 0.6140852 , -0.36601884],\n",
       "       [ 0.63000393, -0.23762819],\n",
       "       [ 1.03620836, -0.42717247],\n",
       "       [ 1.16521875,  0.94636832],\n",
       "       [ 1.38658552,  0.76434013],\n",
       "       [ 1.5763973 ,  2.79886977],\n",
       "       [ 1.05369097, -0.44254628],\n",
       "       [ 0.70467405, -0.29210134],\n",
       "       [ 0.86917734, -1.01818895],\n",
       "       [ 1.50116871,  1.40147805],\n",
       "       [ 1.04627695,  0.28527974],\n",
       "       [ 0.9295868 ,  0.10041425],\n",
       "       [ 0.5705692 , -0.3360486 ],\n",
       "       [ 1.02840239,  0.7582679 ],\n",
       "       [ 1.12918469,  0.37405696],\n",
       "       [ 0.93796468,  0.83345678],\n",
       "       [ 0.69056001, -1.1709772 ],\n",
       "       [ 1.25061452,  0.56594455],\n",
       "       [ 1.18021978,  0.62080639],\n",
       "       [ 0.94862241,  0.38196174],\n",
       "       [ 0.74517627, -0.76443752],\n",
       "       [ 0.86090708,  0.16061801],\n",
       "       [ 0.92755863,  0.23754531],\n",
       "       [ 0.67833839, -0.57571769]])"
      ]
     },
     "execution_count": 19,
     "metadata": {},
     "output_type": "execute_result"
    }
   ],
   "source": [
    "X"
   ]
  },
  {
   "cell_type": "code",
   "execution_count": 20,
   "metadata": {},
   "outputs": [
    {
     "data": {
      "text/plain": [
       "Text(0, 0.5, 'feature-2')"
      ]
     },
     "execution_count": 20,
     "metadata": {},
     "output_type": "execute_result"
    },
    {
     "data": {
      "image/png": "[encoded data removed]",
      "text/plain": [
       "<Figure size 640x480 with 1 Axes>"
      ]
     },
     "metadata": {},
     "output_type": "display_data"
    }
   ],
   "source": [
    "plt.scatter(X[:,0],X[:,1],c=dbcan.labels_)\n",
    "plt.xlabel(\"feature-1\")\n",
    "plt.ylabel(\"feature-2\")"
   ]
  },
  {
   "cell_type": "markdown",
   "metadata": {},
   "source": [
    ">Key-Takeaways\n",
    ">\n",
    ">- Strengths: Fast, scalable, works for spherical clusters.\n",
    ">\n",
    ">- Weaknesses: Needs predefined k, sensitive to initialization.\n",
    ">\n",
    ">- Use Case: Large datasets, well-separated spherical clusters."
   ]
  },
  {
   "cell_type": "markdown",
   "metadata": {},
   "source": [
    "###  **Comparing** and **Visualizing** the RUNTIMES of above 3 algorithms"
   ]
  },
  {
   "cell_type": "code",
   "execution_count": 21,
   "metadata": {},
   "outputs": [
    {
     "data": {
      "image/png": "[encoded data removed]",
      "text/plain": [
       "<Figure size 1000x600 with 1 Axes>"
      ]
     },
     "metadata": {},
     "output_type": "display_data"
    }
   ],
   "source": [
    "algorithms = ['KMeans', 'Agglomerative', 'DBSCAN']\n",
    "times = [kmeans_time, agglomerative_time, dbscan_time]\n",
    "\n",
    "plt.figure(figsize=(10, 6))\n",
    "plt.bar(algorithms, times, color=['blue', 'green', 'red'])\n",
    "plt.title('Clustering Algorithms Runtime Comparison')\n",
    "plt.xlabel('Algorithm')\n",
    "plt.ylabel('Runtime (seconds)')\n",
    "plt.grid(axis='y', linestyle='--', alpha=0.7)\n",
    "plt.show()"
   ]
  },
  {
   "cell_type": "markdown",
   "metadata": {},
   "source": [
    "With an increase in data points, k-means clustering's performance can degrade if the number of clusters is not well-suited, hierarchical clustering can become computationally expensive, and DBSCAN may struggle with varying densities, while the performance of all algorithms can be affected by the choice of parameters. Its impact on algorithm like:-\n",
    "\n",
    "> ***K-Means Clustering*** which partitions data into k clusters, can struggle when the chosen number of clusters is inappropriate for the dataset. The initial placement of centroids significantly impacts the final clustering results, and with more data points, the algorithm becomes more sensitive to these initializations. Although K-means is generally fast, its computational cost increases with the square of the number of data points, making large datasets computationally expensive. Additionally, K-means assumes clusters are spherical and well-separated, which may not hold for complex data structures, leading to poor clustering results.\n",
    "\n",
    ">***Hierarchical Clustering*** which builds a hierarchy of clusters, becomes computationally expensive with large datasets due to the need to calculate distances between all data points. The choice of distance metric significantly impacts results, and its effect becomes more pronounced as data increases. Additionally, interpreting the dendrogram can be challenging, especially with many data points, making it difficult to determine the optimal number of clusters.\n",
    "\n",
    ">***DBSCAN Clustering*** a density-based clustering algorithm, can struggle with varying data densities, potentially merging dense and sparse regions into the same cluster. Its performance is highly dependent on the correct choice of parameters (epsilon and MinPts). While effective at identifying outliers, distinguishing between true outliers and noise becomes challenging with large datasets. Although generally scalable, its computational cost increases with the number of data points, especially in high-dimensional data."
   ]
  },
  {
   "cell_type": "code",
   "execution_count": null,
   "metadata": {},
   "outputs": [],
   "source": []
  }
 ],
 "metadata": {
  "kernelspec": {
   "display_name": "Python 3",
   "language": "python",
   "name": "python3"
  },
  "language_info": {
   "codemirror_mode": {
    "name": "ipython",
    "version": 3
   },
   "file_extension": ".py",
   "mimetype": "text/x-python",
   "name": "python",
   "nbconvert_exporter": "python",
   "pygments_lexer": "ipython3",
   "version": "3.12.9"
  }
 },
 "nbformat": 4,
 "nbformat_minor": 2
}

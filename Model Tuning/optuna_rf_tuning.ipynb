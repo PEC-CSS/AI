{
 "cells": [
  {
   "cell_type": "markdown",
   "metadata": {},
   "source": [
    "Use Optuna to automate hyperparameter tuning for a Random Forest Classifier\n"
   ]
  },
  {
   "cell_type": "code",
   "execution_count": null,
   "metadata": {},
   "outputs": [
    {
     "name": "stderr",
     "output_type": "stream",
     "text": [
      "c:\\Users\\hp\\AppData\\Local\\Programs\\Python\\Python312\\Lib\\site-packages\\tqdm\\auto.py:21: TqdmWarning: IProgress not found. Please update jupyter and ipywidgets. See https://ipywidgets.readthedocs.io/en/stable/user_install.html\n",
      "  from .autonotebook import tqdm as notebook_tqdm\n"
     ]
    }
   ],
   "source": [
    "#import all the necessary libraries:\n",
    "import optuna\n",
    "import pandas as pd\n",
    "import seaborn as sns\n",
    "import matplotlib.pyplot as plt\n",
    "from sklearn.ensemble import RandomForestClassifier\n",
    "from sklearn.model_selection import train_test_split, cross_val_score\n",
    "from sklearn.metrics import accuracy_score\n",
    "from sklearn.impute import SimpleImputer\n",
    "from sklearn.preprocessing import LabelEncoder"
   ]
  },
  {
   "cell_type": "code",
   "execution_count": 2,
   "metadata": {},
   "outputs": [],
   "source": [
    "#we will load the titanic dataset\n",
    "\n",
    "data = sns.load_dataset(\"titanic\").dropna()\n"
   ]
  },
  {
   "cell_type": "markdown",
   "metadata": {},
   "source": [
    "The next step is data preprocessing before using optuna for hyperparmeter tuning."
   ]
  },
  {
   "cell_type": "code",
   "execution_count": 3,
   "metadata": {},
   "outputs": [],
   "source": [
    "X = data.drop(columns=[\"survived\"])\n",
    "y = data[\"survived\"]\n",
    "X = pd.get_dummies(X, drop_first=True) #converts categorical variables into a numerical format using one-hot encoding.\n",
    "\n",
    "X_train, X_test, y_train, y_test = train_test_split(X, y, test_size=0.3, random_state=42) \n",
    "#splitting the dataset into 30-70 ratio for testing and training.\n",
    "\n",
    "def objective(trial):\n",
    "    n_estimators = trial.suggest_int(\"n_estimators\", 10, 200)\n",
    "    max_features = trial.suggest_categorical(\"max_features\", [\"sqrt\", \"log2\", None])\n",
    "    min_samples_split = trial.suggest_int(\"min_samples_split\", 2, 10)\n",
    "    \n",
    "    model = RandomForestClassifier(\n",
    "        n_estimators=n_estimators, \n",
    "        max_features=max_features,\n",
    "        min_samples_split=min_samples_split,\n",
    "        random_state=42\n",
    "    )\n",
    "    \n",
    "    score = cross_val_score(model, X_train, y_train, cv=5, scoring='accuracy').mean()\n",
    "    return score\n"
   ]
  },
  {
   "cell_type": "markdown",
   "metadata": {},
   "source": [
    "Now we will use Optuna to automate the hyperparamter tuning \n",
    "The code works here in the following manner:\n",
    "1.Optuna starts with a random set of hyperparameters.\n",
    "2.It evaluates model accuracy using cross-validation. (here, not always)\n",
    "3.It uses Bayesian optimization to explore better hyperparameters in later trials.\n",
    "4.After 20 trials, it finds the best hyperparameter combination. (you can adjust the number of trials as per convenience.)\n"
   ]
  },
  {
   "cell_type": "code",
   "execution_count": 5,
   "metadata": {},
   "outputs": [
    {
     "name": "stderr",
     "output_type": "stream",
     "text": [
      "[I 2025-03-30 19:07:06,926] A new study created in memory with name: no-name-cd278da1-dbd2-4985-b886-0beaca36b9db\n"
     ]
    },
    {
     "name": "stderr",
     "output_type": "stream",
     "text": [
      "[I 2025-03-30 19:07:08,844] Trial 0 finished with value: 0.976 and parameters: {'n_estimators': 178, 'max_features': 'sqrt', 'min_samples_split': 8}. Best is trial 0 with value: 0.976.\n",
      "[I 2025-03-30 19:07:11,854] Trial 1 finished with value: 0.976 and parameters: {'n_estimators': 191, 'max_features': 'sqrt', 'min_samples_split': 10}. Best is trial 0 with value: 0.976.\n",
      "[I 2025-03-30 19:07:14,313] Trial 2 finished with value: 0.984 and parameters: {'n_estimators': 137, 'max_features': 'log2', 'min_samples_split': 5}. Best is trial 2 with value: 0.984.\n",
      "[I 2025-03-30 19:07:16,831] Trial 3 finished with value: 0.984 and parameters: {'n_estimators': 161, 'max_features': 'sqrt', 'min_samples_split': 6}. Best is trial 2 with value: 0.984.\n",
      "[I 2025-03-30 19:07:17,707] Trial 4 finished with value: 1.0 and parameters: {'n_estimators': 82, 'max_features': None, 'min_samples_split': 7}. Best is trial 4 with value: 1.0.\n",
      "[I 2025-03-30 19:07:19,372] Trial 5 finished with value: 1.0 and parameters: {'n_estimators': 170, 'max_features': None, 'min_samples_split': 3}. Best is trial 4 with value: 1.0.\n",
      "[I 2025-03-30 19:07:20,204] Trial 6 finished with value: 0.976 and parameters: {'n_estimators': 69, 'max_features': 'sqrt', 'min_samples_split': 10}. Best is trial 4 with value: 1.0.\n",
      "[I 2025-03-30 19:07:22,411] Trial 7 finished with value: 0.984 and parameters: {'n_estimators': 199, 'max_features': 'log2', 'min_samples_split': 5}. Best is trial 4 with value: 1.0.\n",
      "[I 2025-03-30 19:07:23,743] Trial 8 finished with value: 1.0 and parameters: {'n_estimators': 145, 'max_features': None, 'min_samples_split': 3}. Best is trial 4 with value: 1.0.\n",
      "[I 2025-03-30 19:07:25,092] Trial 9 finished with value: 1.0 and parameters: {'n_estimators': 174, 'max_features': None, 'min_samples_split': 8}. Best is trial 4 with value: 1.0.\n",
      "[I 2025-03-30 19:07:25,263] Trial 10 finished with value: 1.0 and parameters: {'n_estimators': 13, 'max_features': None, 'min_samples_split': 8}. Best is trial 4 with value: 1.0.\n",
      "[I 2025-03-30 19:07:26,092] Trial 11 finished with value: 1.0 and parameters: {'n_estimators': 93, 'max_features': None, 'min_samples_split': 2}. Best is trial 4 with value: 1.0.\n",
      "[I 2025-03-30 19:07:26,624] Trial 12 finished with value: 1.0 and parameters: {'n_estimators': 48, 'max_features': None, 'min_samples_split': 4}. Best is trial 4 with value: 1.0.\n",
      "[I 2025-03-30 19:07:27,864] Trial 13 finished with value: 1.0 and parameters: {'n_estimators': 112, 'max_features': None, 'min_samples_split': 6}. Best is trial 4 with value: 1.0.\n",
      "[I 2025-03-30 19:07:29,202] Trial 14 finished with value: 1.0 and parameters: {'n_estimators': 111, 'max_features': None, 'min_samples_split': 2}. Best is trial 4 with value: 1.0.\n",
      "[I 2025-03-30 19:07:30,511] Trial 15 finished with value: 1.0 and parameters: {'n_estimators': 84, 'max_features': None, 'min_samples_split': 7}. Best is trial 4 with value: 1.0.\n",
      "[I 2025-03-30 19:07:31,391] Trial 16 finished with value: 0.984 and parameters: {'n_estimators': 48, 'max_features': 'log2', 'min_samples_split': 4}. Best is trial 4 with value: 1.0.\n",
      "[I 2025-03-30 19:07:32,536] Trial 17 finished with value: 1.0 and parameters: {'n_estimators': 134, 'max_features': None, 'min_samples_split': 7}. Best is trial 4 with value: 1.0.\n",
      "[I 2025-03-30 19:07:33,088] Trial 18 finished with value: 1.0 and parameters: {'n_estimators': 60, 'max_features': None, 'min_samples_split': 4}. Best is trial 4 with value: 1.0.\n",
      "[I 2025-03-30 19:07:34,377] Trial 19 finished with value: 0.984 and parameters: {'n_estimators': 123, 'max_features': 'log2', 'min_samples_split': 3}. Best is trial 4 with value: 1.0.\n"
     ]
    }
   ],
   "source": [
    "study = optuna.create_study(direction=\"maximize\") \n",
    "#maximize because we have accuracy as the objective function here, if it had been loss we would use minimize.\n",
    "study.optimize(objective, n_trials=20) #run 20 trials."
   ]
  },
  {
   "cell_type": "code",
   "execution_count": 6,
   "metadata": {},
   "outputs": [],
   "source": [
    "#now we train the model on the best parameters\n",
    "\n",
    "best_params = study.best_params\n",
    "best_model = RandomForestClassifier(**best_params, random_state=42)\n",
    "best_model.fit(X_train, y_train)\n",
    "y_pred = best_model.predict(X_test)\n",
    "accuracy = accuracy_score(y_test, y_pred)"
   ]
  },
  {
   "cell_type": "code",
   "execution_count": 10,
   "metadata": {},
   "outputs": [
    {
     "name": "stderr",
     "output_type": "stream",
     "text": [
      "C:\\Users\\hp\\AppData\\Local\\Temp\\ipykernel_3036\\119804481.py:2: ExperimentalWarning: plot_param_importances is experimental (supported from v2.2.0). The interface can change in the future.\n",
      "  optuna.visualization.matplotlib.plot_param_importances(study)\n"
     ]
    },
    {
     "data": {
      "image/png": "[encoded data removed]",
      "text/plain": [
       "<Figure size 640x480 with 1 Axes>"
      ]
     },
     "metadata": {},
     "output_type": "display_data"
    }
   ],
   "source": [
    "#Plot the results \n",
    "optuna.visualization.matplotlib.plot_param_importances(study)\n",
    "plt.show()"
   ]
  },
  {
   "cell_type": "markdown",
   "metadata": {},
   "source": [
    "This is important because:\n",
    "Helps you focus on the most important hyperparameters and You can reduce tuning time by ignoring less impactful parameters."
   ]
  },
  {
   "cell_type": "code",
   "execution_count": 8,
   "metadata": {},
   "outputs": [
    {
     "name": "stdout",
     "output_type": "stream",
     "text": [
      "Best hyperparameters: {'n_estimators': 82, 'max_features': None, 'min_samples_split': 7}\n",
      "Test Accuracy: 1.0\n"
     ]
    }
   ],
   "source": [
    "\n",
    "print(\"Best hyperparameters:\", best_params)\n",
    "print(\"Test Accuracy:\", accuracy)\n"
   ]
  }
 ],
 "metadata": {
  "kernelspec": {
   "display_name": "Python 3",
   "language": "python",
   "name": "python3"
  },
  "language_info": {
   "codemirror_mode": {
    "name": "ipython",
    "version": 3
   },
   "file_extension": ".py",
   "mimetype": "text/x-python",
   "name": "python",
   "nbconvert_exporter": "python",
   "pygments_lexer": "ipython3",
   "version": "3.12.5"
  }
 },
 "nbformat": 4,
 "nbformat_minor": 2
}

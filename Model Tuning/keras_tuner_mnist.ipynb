{
  "cells": [
    {
      "cell_type": "markdown",
      "metadata": {},
      "source": [
        "# Tuning Neural Networks with Keras Tuner"
      ]
    },
    {
      "cell_type": "markdown",
      "metadata": {},
      "source": [
        "STEP 1: INSTALL REQUIRED LIBRARIES"
      ]
    },
    {
      "cell_type": "markdown",
      "metadata": {},
      "source": [
        " TensorFlow is the main library for deep learning.\n",
        " keras-tuner helps us automatically find the best hyperparameters for our model.\n",
        " If you don't have them installed, run this command in Jupyter Notebook or Colab:"
      ]
    },
    {
      "cell_type": "code",
      "execution_count": null,
      "metadata": {},
      "outputs": [],
      "source": [
        "!pip install tensorflow keras-tuner"
      ]
    },
    {
      "cell_type": "markdown",
      "metadata": {},
      "source": [
        "STEP 2: IMPORT NECESSARY LIBRARIES"
      ]
    },
    {
      "cell_type": "code",
      "execution_count": null,
      "metadata": {},
      "outputs": [],
      "source": [
        "import tensorflow as tf  # Import the TensorFlow library\n",
        "from tensorflow import keras  # Import Keras (a high-level API for TensorFlow)\n",
        "from tensorflow.keras import layers  # Import layers to build our neural network\n",
        "import keras_tuner as kt  # Import Keras Tuner for hyperparameter tuning\n",
        "\n",
        "import numpy as np  # Used for numerical operations\n",
        "import matplotlib.pyplot as plt  # Used to plot graphs"
      ]
    },
    {
      "cell_type": "markdown",
      "metadata": {},
      "source": [
        " STEP 3: LOAD & PREPROCESS MNIST DATASET\n",
        "\n",
        " \n",
        " The MNIST dataset consists of 70,000 images of handwritten digits (0-9)\n",
        " These are grayscale images of size 28x28 pixels.\n",
        "\n",
        " Load dataset directly from Keras (it will automatically download if not available)"
      ]
    },
    {
      "cell_type": "code",
      "execution_count": null,
      "metadata": {},
      "outputs": [],
      "source": [
        "(x_train, y_train), (x_test, y_test) = keras.datasets.mnist.load_data()\n",
        "\n",
        "# Normalize pixel values to be between 0 and 1 (this helps the model learn better)\n",
        "x_train = x_train / 255.0\n",
        "x_test = x_test / 255.0\n",
        "\n",
        "# Neural networks expect images to have a \"channel\" dimension (e.g., grayscale has 1 channel).\n",
        "# Our dataset has shape (60000, 28, 28), but we need (60000, 28, 28, 1).\n",
        "x_train = np.expand_dims(x_train, axis=-1)\n",
        "x_test = np.expand_dims(x_test, axis=-1)\n",
        "# Let's print the shape to confirm\n",
        "print(\"Training data shape:\", x_train.shape)  # Expected: (60000, 28, 28, 1)\n",
        "print(\"Test data shape:\", x_test.shape)  # Expected: (10000, 28, 28, 1)"
      ]
    },
    {
      "cell_type": "markdown",
      "metadata": {},
      "source": [
        "STEP 4: DEFINE A MODEL FOR HYPERPARAMETER TUNING\n",
        "\n",
        "In deep learning, choosing the right settings (e.g., number of neurons, learning rate) can be tricky. Instead of guessing, we use Keras Tuner to automatically find the best ones."
      ]
    },
    {
      "cell_type": "code",
      "execution_count": null,
      "metadata": {},
      "outputs": [],
      "source": [
        "# This function builds a Convolutional Neural Network (CNN) model and lets us tune hyperparameters\n",
        "def build_model(hp):  # 'hp' stands for hyperparameters\n",
        "    model = keras.Sequential()  # Create a sequential (layer-by-layer) model\n",
        "\n",
        "    # First convolutional layer (extracts patterns from images)\n",
        "    # We let Keras Tuner decide whether to use 32 or 64 filters\n",
        "    model.add(layers.Conv2D(\n",
        "        filters=hp.Choice('conv1_filters', values=[32, 64]),\n",
        "        kernel_size=(3,3),  # 3x3 filter size\n",
        "        activation='relu',   # ReLU activation makes training more efficient\n",
        "        input_shape=(28, 28, 1)  # Input shape: 28x28 images with 1 color channel\n",
        "    ))\n",
        "    model.add(layers.MaxPooling2D(pool_size=(2,2)))  # Reduces image size to avoid overfitting\n",
        "\n",
        "    # Second convolutional layer (extracts more detailed patterns)\n",
        "    model.add(layers.Conv2D(\n",
        "        filters=hp.Choice('conv2_filters', values=[32, 64]),\n",
        "        kernel_size=(3,3),\n",
        "        activation='relu'\n",
        "    ))\n",
        "    model.add(layers.MaxPooling2D(pool_size=(2,2)))  # Again, reduces size for efficiency\n",
        "\n",
        "    model.add(layers.Flatten())  # Flattens 2D images into a 1D array for the dense layer\n",
        "\n",
        "    # Fully connected (dense) layer with tunable dropout to reduce overfitting\n",
        "    model.add(layers.Dense(64, activation='relu'))\n",
        "    model.add(layers.Dropout(hp.Float('dropout_rate', min_value=0.2, max_value=0.3, step=0.1)))\n",
        "\n",
        "    # Output layer - 10 neurons (one for each digit 0-9), using softmax to get probabilities\n",
        "    model.add(layers.Dense(10, activation='softmax'))\n",
        "\n",
        "    # Compile the model with a tunable learning rate\n",
        "    model.compile(\n",
        "        optimizer=keras.optimizers.Adam(hp.Choice('learning_rate', values=[0.001, 0.0005])),\n",
        "        loss='sparse_categorical_crossentropy',  # Loss function for classification\n",
        "        metrics=['accuracy']  # Track accuracy during training\n",
        "    )\n",
        "\n",
        "    print(\"Model built with hyperparameters:\", hp.values)  # Debugging print statement\n",
        "    return model"
      ]
    },
    {
      "cell_type": "markdown",
      "metadata": {},
      "source": [
        "\n",
        " STEP 5: RUN KERAS TUNER TO FIND BEST HYPERPARAMETERS\n",
        "\n",
        " Keras Tuner will try different hyperparameter combinations and find the best one."
      ]
    },
    {
      "cell_type": "code",
      "execution_count": null,
      "metadata": {},
      "outputs": [],
      "source": [
        "tuner = kt.RandomSearch(\n",
        "    build_model,\n",
        "    objective='val_accuracy',  # We want to maximize validation accuracy\n",
        "    max_trials=5,  # Try 5 different sets of hyperparameters\n",
        "    executions_per_trial=1,  # Run each model once (increase for stability)\n",
        "    directory='kt_mnist',  # Directory where results are stored\n",
        "    project_name='mnist_cnn'  # Name of the tuning project\n",
        ")\n",
        "\n",
        "# Stop training early if validation loss stops improving (prevents unnecessary training)\n",
        "early_stopping = keras.callbacks.EarlyStopping(monitor='val_loss', patience=2)\n",
        "\n",
        "# Start the tuning process (this will take some time)\n",
        "print(\"Starting hyperparameter tuning...\")\n",
        "tuner.search(x_train, y_train, epochs=3, validation_split=0.2, callbacks=[early_stopping])"
      ]
    },
    {
      "cell_type": "markdown",
      "metadata": {},
      "source": [
        " STEP 6: RETRIEVE AND TRAIN THE BEST MODEL"
      ]
    },
    {
      "cell_type": "code",
      "execution_count": null,
      "metadata": {},
      "outputs": [],
      "source": [
        "# Once tuning is complete, we get the best hyperparameter combination found.\n",
        "best_hps = tuner.get_best_hyperparameters(num_trials=1)[0]\n",
        "print(f\"Best Hyperparameters Found: {best_hps.values}\")\n",
        "\n",
        "# Build the best model using these hyperparameters\n",
        "model = tuner.hypermodel.build(best_hps)\n",
        "\n",
        "# Train the final model using the best hyperparameters\n",
        "print(\"Training final model with best hyperparameters...\")\n",
        "history = model.fit(x_train, y_train, epochs=3, validation_data=(x_test, y_test))"
      ]
    },
    {
      "cell_type": "markdown",
      "metadata": {},
      "source": [
        "STEP 7: PLOT TRAINING LOSS BEFORE AND AFTER TUNING"
      ]
    },
    {
      "cell_type": "code",
      "execution_count": null,
      "metadata": {},
      "outputs": [],
      "source": [
        "# This graph shows how well the model is learning over time.\n",
        "plt.plot(history.history['loss'], label='Tuned Model Loss')\n",
        "plt.xlabel('Epochs')  # X-axis label\n",
        "plt.ylabel('Loss')  # Y-axis label\n",
        "plt.legend()\n",
        "plt.show()"
      ]
    },
    {
      "cell_type": "markdown",
      "metadata": {},
      "source": [
        "STEP 8: EVALUATE THE FINAL MODEL ON TEST DATA"
      ]
    },
    {
      "cell_type": "code",
      "execution_count": null,
      "metadata": {
        "colab": {
          "base_uri": "https://localhost:8080/",
          "height": 679
        },
        "id": "ZhbGleHUVHz_",
        "outputId": "47c7e154-a559-44c5-86c6-dbb9e60ba72b"
      },
      "outputs": [
        {
          "name": "stdout",
          "output_type": "stream",
          "text": [
            "Trial 5 Complete [00h 03m 33s]\n",
            "val_accuracy: 0.9859166741371155\n",
            "\n",
            "Best val_accuracy So Far: 0.9883333444595337\n",
            "Total elapsed time: 00h 16m 48s\n",
            "Epoch 1/3\n",
            "\u001b[1m1875/1875\u001b[0m \u001b[32m━━━━━━━━━━━━━━━━━━━━\u001b[0m\u001b[37m\u001b[0m \u001b[1m58s\u001b[0m 30ms/step - accuracy: 0.8834 - loss: 0.3736 - val_accuracy: 0.9846 - val_loss: 0.0486\n",
            "Epoch 2/3\n",
            "\u001b[1m1875/1875\u001b[0m \u001b[32m━━━━━━━━━━━━━━━━━━━━\u001b[0m\u001b[37m\u001b[0m \u001b[1m79s\u001b[0m 29ms/step - accuracy: 0.9801 - loss: 0.0669 - val_accuracy: 0.9902 - val_loss: 0.0319\n",
            "Epoch 3/3\n",
            "\u001b[1m1875/1875\u001b[0m \u001b[32m━━━━━━━━━━━━━━━━━━━━\u001b[0m\u001b[37m\u001b[0m \u001b[1m82s\u001b[0m 29ms/step - accuracy: 0.9862 - loss: 0.0467 - val_accuracy: 0.9880 - val_loss: 0.0428\n"
          ]
        },
        {
          "data": {
            "image/png": "[encoded data removed]",
            "text/plain": [
              "<Figure size 640x480 with 1 Axes>"
            ]
          },
          "metadata": {},
          "output_type": "display_data"
        },
        {
          "name": "stdout",
          "output_type": "stream",
          "text": [
            "\u001b[1m313/313\u001b[0m \u001b[32m━━━━━━━━━━━━━━━━━━━━\u001b[0m\u001b[37m\u001b[0m \u001b[1m3s\u001b[0m 8ms/step - accuracy: 0.9846 - loss: 0.0542\n",
            "Tuned Model Accuracy: 98.80%\n"
          ]
        }
      ],
      "source": [
        "\n",
        "# Now that training is done, let's see how well our model performs on real test images.\n",
        "\n",
        "loss, accuracy = model.evaluate(x_test, y_test)  # Evaluate the model\n",
        "print(f'Tuned Model Accuracy: {accuracy * 100:.2f}%')  # Print accuracy as a percentage\n"
      ]
    },
    {
      "cell_type": "markdown",
      "metadata": {},
      "source": []
    },
    {
      "cell_type": "markdown",
      "metadata": {},
      "source": [
        "## 📝 Assignment: Hyperparameter Tuning with Keras Tuner\n",
        "\n",
        "### Objective:\n",
        "Learn how to use **Keras Tuner** to optimize the hyperparameters of a simple Convolutional Neural Network (CNN) on the MNIST dataset.\n",
        "\n",
        "---\n",
        "\n",
        "### 🚀 Tasks:\n",
        "\n",
        "1. **Install Keras Tuner**  \n",
        "   - Ensure you have `keras-tuner` installed using:  \n",
        "     ```\n",
        "     !pip install keras-tuner\n",
        "     ```\n",
        "   \n",
        "2. **Load and Normalize MNIST Dataset**  \n",
        "   - Load the MNIST dataset using `keras.datasets.mnist.load_data()`.  \n",
        "   - Normalize pixel values between `0` and `1`.  \n",
        "   - Expand dimensions to match CNN input format.\n",
        "\n",
        "3. **Define a CNN Model for Hyperparameter Tuning**  \n",
        "   - Use `keras.Sequential()` to define a CNN.  \n",
        "   - Add two `Conv2D` layers with tunable filter sizes (`hp.Choice()`).\n",
        "   - Add a `Dropout` layer with a tunable dropout rate.\n",
        "   - Compile the model with a tunable learning rate.\n",
        "\n",
        "4. **Use Keras Tuner to Find the Best Hyperparameters**  \n",
        "   - Use `kt.RandomSearch` to optimize hyperparameters.  \n",
        "   - Run the search for `3` trials to save time.  \n",
        "   - Set `epochs=2` during tuning.\n",
        "\n",
        "5. **Train the Best Model**  \n",
        "   - Retrieve the best hyperparameters using `tuner.get_best_hyperparameters(num_trials=1)`.  \n",
        "   - Train the best model on the dataset for `3` epochs.  \n",
        "\n",
        "6. **Compare Results Before and After Tuning**  \n",
        "   - Print the **accuracy** before and after tuning.  \n",
        "   - Plot the loss curves using `matplotlib`.\n",
        "\n",
        "---\n",
        "\n",
        "### 📌 Bonus Challenge:\n",
        "- Try using **Hyperband Tuner** instead of `RandomSearch` and compare results.\n",
        "- Adjust `max_trials` and `executions_per_trial` to see how it impacts training time.\n",
        "\n",
        "---\n",
        "\n",
        "💡 **Hint:** Refer to the main notebook for code structure. Modify parameters and observe the impact on model accuracy! 🎯\n"
      ]
    },
    {
      "cell_type": "markdown",
      "metadata": {},
      "source": []
    }
  ],
  "metadata": {
    "colab": {
      "provenance": []
    },
    "kernelspec": {
      "display_name": "Python 3",
      "name": "python3"
    },
    "language_info": {
      "name": "python"
    }
  },
  "nbformat": 4,
  "nbformat_minor": 0
}

{
  "cells": [
    {
      "cell_type": "markdown",
      "metadata": {
        "id": "ARxdJFLluPkq"
      },
      "source": [
        "## Deep Neural Network (DNN)\n",
        "A **Deep Neural Network (DNN)** is a type of **Artificial Neural Network (ANN)** with multiple hidden layers between the input and output. It is used for complex tasks like **image recognition**, **natural language processing (NLP)**, and more.\n",
        "\n",
        "### How Does a DNN Work?\n",
        "1. **Input Layer**  \n",
        "    - Takes raw data (e.g., images, text, numbers).\n",
        "2. **Hidden Layers**  \n",
        "    - Multiple layers process the data using weights and activation functions like **ReLU**.\n",
        "3. **Output Layer**  \n",
        "    - Provides predictions (e.g., classification using **Softmax**).\n",
        "\n",
        "### Early Stopping\n",
        "**Early Stopping** is a technique to prevent overfitting by stopping training when the model stops improving on validation data."
      ]
    },
    {
      "cell_type": "code",
      "execution_count": null,
      "metadata": {
        "_cell_guid": "b1076dfc-b9ad-4769-8c92-a6c4dae69d19",
        "_uuid": "8f2839f25d086af736a60e9eeb907d3b93b6e0e5",
        "execution": {
          "iopub.execute_input": "2025-03-20T08:22:03.966656Z",
          "iopub.status.busy": "2025-03-20T08:22:03.966266Z",
          "iopub.status.idle": "2025-03-20T08:22:24.993123Z",
          "shell.execute_reply": "2025-03-20T08:22:24.992201Z",
          "shell.execute_reply.started": "2025-03-20T08:22:03.966625Z"
        },
        "id": "mFkIBSjhuPku",
        "trusted": true
      },
      "outputs": [],
      "source": [
        "import tensorflow as tf\n",
        "from tensorflow.keras.datasets import cifar10\n",
        "from tensorflow.keras.models import Sequential\n",
        "from tensorflow.keras.layers import Dense, Flatten\n",
        "from tensorflow.keras.optimizers import Adam\n",
        "import matplotlib.pyplot as plt\n",
        "from tensorflow.keras.callbacks import EarlyStopping\n",
        "import matplotlib.pyplot as plt\n",
        "import tensorflow_datasets as tfds\n",
        "import time"
      ]
    },
    {
      "cell_type": "code",
      "execution_count": null,
      "metadata": {
        "execution": {
          "iopub.execute_input": "2025-03-20T08:22:24.995198Z",
          "iopub.status.busy": "2025-03-20T08:22:24.994427Z",
          "iopub.status.idle": "2025-03-20T08:22:45.215185Z",
          "shell.execute_reply": "2025-03-20T08:22:45.214078Z",
          "shell.execute_reply.started": "2025-03-20T08:22:24.995154Z"
        },
        "id": "e_3CyGJZuPk2",
        "outputId": "2c839d95-a685-4b92-94da-08aa214ea231",
        "trusted": true
      },
      "outputs": [
        {
          "name": "stdout",
          "output_type": "stream",
          "text": [
            "Downloading data from https://www.cs.toronto.edu/~kriz/cifar-10-python.tar.gz\n",
            "\u001b[1m170498071/170498071\u001b[0m \u001b[32m━━━━━━━━━━━━━━━━━━━━\u001b[0m\u001b[37m\u001b[0m \u001b[1m17s\u001b[0m 0us/step\n"
          ]
        }
      ],
      "source": [
        "# Load and preprocess the dataset\n",
        "(x_train, y_train), (x_test, y_test) = cifar10.load_data()\n",
        "y_train = tf.keras.utils.to_categorical(y_train, 10)\n",
        "y_test = tf.keras.utils.to_categorical(y_test, 10)"
      ]
    },
    {
      "cell_type": "code",
      "execution_count": null,
      "metadata": {
        "execution": {
          "iopub.execute_input": "2025-03-20T08:22:45.21708Z",
          "iopub.status.busy": "2025-03-20T08:22:45.216781Z",
          "iopub.status.idle": "2025-03-20T08:22:45.222329Z",
          "shell.execute_reply": "2025-03-20T08:22:45.221163Z",
          "shell.execute_reply.started": "2025-03-20T08:22:45.217054Z"
        },
        "id": "amqcVCD9uPk4",
        "trusted": true
      },
      "outputs": [],
      "source": [
        "#DNN model\n",
        "def create_model():\n",
        "    model = Sequential([\n",
        "        Flatten(input_shape=(32, 32, 3)),\n",
        "        Dense(512, activation='relu'),\n",
        "        Dense(256, activation='relu'),\n",
        "        Dense(128, activation='relu'),\n",
        "        Dense(10, activation='softmax')\n",
        "    ])\n",
        "    model.compile(optimizer=Adam(), loss='categorical_crossentropy', metrics=['accuracy'])\n",
        "    return model"
      ]
    },
    {
      "cell_type": "markdown",
      "metadata": {},
      "source": [
        "### ReLU (Rectified Linear Unit) Activation Function\n",
        "ReLU is an activation function commonly used in hidden layers to introduce non-linearity. This is used at the hidden intermediate layers.\n",
        "### Formula:\n",
        "f(x) = max(0, x)\n",
        "\n",
        "- If (x > 0\\): Output is \\(x\\)  \n",
        "- If \\(x <= 0\\): Output is 0  \n",
        "\n",
        "### Softmax\n",
        "Softmax converts numbers into probabilities so the model can pick the most likely class.\n",
        "This is used at the output layer\n",
        "\n",
        "### Optimizer: Adam\n",
        "\n",
        "**Adam (Adaptive Moment Estimation)** is an advanced optimization algorithm that combines the benefits of:\n",
        "\n",
        "1. **Momentum-based Optimization**:  \n",
        "    - Smooths weight updates in neural networks, helping them converge faster and avoid getting stuck in local minima.  \n",
        "    - Instead of updating weights using only the current gradient, momentum keeps track of past gradients to maintain direction and speed up learning.\n",
        "\n",
        "2. **Adaptive Learning Rate**:  \n",
        "    - Dynamically adjusts the learning rate for each parameter.\n"
      ]
    },
    {
      "cell_type": "code",
      "execution_count": null,
      "metadata": {
        "execution": {
          "iopub.execute_input": "2025-03-20T08:22:45.224299Z",
          "iopub.status.busy": "2025-03-20T08:22:45.223928Z",
          "iopub.status.idle": "2025-03-20T08:29:13.831252Z",
          "shell.execute_reply": "2025-03-20T08:29:13.830304Z",
          "shell.execute_reply.started": "2025-03-20T08:22:45.224271Z"
        },
        "id": "c4_hd1-fuPk6",
        "outputId": "2c8bf8b6-6bdc-498d-d471-43ba453c5009",
        "trusted": true
      },
      "outputs": [
        {
          "name": "stderr",
          "output_type": "stream",
          "text": [
            "/usr/local/lib/python3.10/dist-packages/keras/src/layers/reshaping/flatten.py:37: UserWarning: Do not pass an `input_shape`/`input_dim` argument to a layer. When using Sequential models, prefer using an `Input(shape)` object as the first layer in the model instead.\n",
            "  super().__init__(**kwargs)\n"
          ]
        },
        {
          "name": "stdout",
          "output_type": "stream",
          "text": [
            "Epoch 1/50\n",
            "\u001b[1m391/391\u001b[0m \u001b[32m━━━━━━━━━━━━━━━━━━━━\u001b[0m\u001b[37m\u001b[0m \u001b[1m9s\u001b[0m 20ms/step - accuracy: 0.1667 - loss: 110.4007 - val_accuracy: 0.2470 - val_loss: 3.5174\n",
            "Epoch 2/50\n",
            "\u001b[1m391/391\u001b[0m \u001b[32m━━━━━━━━━━━━━━━━━━━━\u001b[0m\u001b[37m\u001b[0m \u001b[1m8s\u001b[0m 19ms/step - accuracy: 0.2561 - loss: 3.5456 - val_accuracy: 0.2895 - val_loss: 2.3031\n",
            "Epoch 3/50\n",
            "\u001b[1m391/391\u001b[0m \u001b[32m━━━━━━━━━━━━━━━━━━━━\u001b[0m\u001b[37m\u001b[0m \u001b[1m7s\u001b[0m 19ms/step - accuracy: 0.3072 - loss: 2.2500 - val_accuracy: 0.2816 - val_loss: 2.2134\n",
            "Epoch 4/50\n",
            "\u001b[1m391/391\u001b[0m \u001b[32m━━━━━━━━━━━━━━━━━━━━\u001b[0m\u001b[37m\u001b[0m \u001b[1m8s\u001b[0m 20ms/step - accuracy: 0.3289 - loss: 2.0573 - val_accuracy: 0.3175 - val_loss: 2.0515\n",
            "Epoch 5/50\n",
            "\u001b[1m391/391\u001b[0m \u001b[32m━━━━━━━━━━━━━━━━━━━━\u001b[0m\u001b[37m\u001b[0m \u001b[1m7s\u001b[0m 19ms/step - accuracy: 0.3499 - loss: 1.9133 - val_accuracy: 0.3216 - val_loss: 1.9472\n",
            "Epoch 6/50\n",
            "\u001b[1m391/391\u001b[0m \u001b[32m━━━━━━━━━━━━━━━━━━━━\u001b[0m\u001b[37m\u001b[0m \u001b[1m7s\u001b[0m 19ms/step - accuracy: 0.3597 - loss: 1.8516 - val_accuracy: 0.3489 - val_loss: 1.8582\n",
            "Epoch 7/50\n",
            "\u001b[1m391/391\u001b[0m \u001b[32m━━━━━━━━━━━━━━━━━━━━\u001b[0m\u001b[37m\u001b[0m \u001b[1m7s\u001b[0m 19ms/step - accuracy: 0.3772 - loss: 1.7859 - val_accuracy: 0.3654 - val_loss: 1.7806\n",
            "Epoch 8/50\n",
            "\u001b[1m391/391\u001b[0m \u001b[32m━━━━━━━━━━━━━━━━━━━━\u001b[0m\u001b[37m\u001b[0m \u001b[1m11s\u001b[0m 20ms/step - accuracy: 0.3844 - loss: 1.7552 - val_accuracy: 0.3608 - val_loss: 1.7903\n",
            "Epoch 9/50\n",
            "\u001b[1m391/391\u001b[0m \u001b[32m━━━━━━━━━━━━━━━━━━━━\u001b[0m\u001b[37m\u001b[0m \u001b[1m7s\u001b[0m 19ms/step - accuracy: 0.3865 - loss: 1.7506 - val_accuracy: 0.3719 - val_loss: 1.7917\n",
            "Epoch 10/50\n",
            "\u001b[1m391/391\u001b[0m \u001b[32m━━━━━━━━━━━━━━━━━━━━\u001b[0m\u001b[37m\u001b[0m \u001b[1m7s\u001b[0m 19ms/step - accuracy: 0.3978 - loss: 1.7030 - val_accuracy: 0.3848 - val_loss: 1.7437\n",
            "Epoch 11/50\n",
            "\u001b[1m391/391\u001b[0m \u001b[32m━━━━━━━━━━━━━━━━━━━━\u001b[0m\u001b[37m\u001b[0m \u001b[1m7s\u001b[0m 19ms/step - accuracy: 0.3926 - loss: 1.7224 - val_accuracy: 0.4110 - val_loss: 1.6633\n",
            "Epoch 12/50\n",
            "\u001b[1m391/391\u001b[0m \u001b[32m━━━━━━━━━━━━━━━━━━━━\u001b[0m\u001b[37m\u001b[0m \u001b[1m8s\u001b[0m 20ms/step - accuracy: 0.4041 - loss: 1.6821 - val_accuracy: 0.4028 - val_loss: 1.7137\n",
            "Epoch 13/50\n",
            "\u001b[1m391/391\u001b[0m \u001b[32m━━━━━━━━━━━━━━━━━━━━\u001b[0m\u001b[37m\u001b[0m \u001b[1m7s\u001b[0m 19ms/step - accuracy: 0.3986 - loss: 1.7040 - val_accuracy: 0.3667 - val_loss: 1.8499\n",
            "Epoch 14/50\n",
            "\u001b[1m391/391\u001b[0m \u001b[32m━━━━━━━━━━━━━━━━━━━━\u001b[0m\u001b[37m\u001b[0m \u001b[1m7s\u001b[0m 19ms/step - accuracy: 0.3889 - loss: 1.7373 - val_accuracy: 0.3977 - val_loss: 1.7027\n",
            "Epoch 15/50\n",
            "\u001b[1m391/391\u001b[0m \u001b[32m━━━━━━━━━━━━━━━━━━━━\u001b[0m\u001b[37m\u001b[0m \u001b[1m7s\u001b[0m 19ms/step - accuracy: 0.4056 - loss: 1.6816 - val_accuracy: 0.3925 - val_loss: 1.7259\n",
            "Epoch 16/50\n",
            "\u001b[1m391/391\u001b[0m \u001b[32m━━━━━━━━━━━━━━━━━━━━\u001b[0m\u001b[37m\u001b[0m \u001b[1m8s\u001b[0m 19ms/step - accuracy: 0.4037 - loss: 1.6835 - val_accuracy: 0.4312 - val_loss: 1.6157\n",
            "Epoch 17/50\n",
            "\u001b[1m391/391\u001b[0m \u001b[32m━━━━━━━━━━━━━━━━━━━━\u001b[0m\u001b[37m\u001b[0m \u001b[1m8s\u001b[0m 19ms/step - accuracy: 0.4079 - loss: 1.6706 - val_accuracy: 0.4068 - val_loss: 1.6779\n",
            "Epoch 18/50\n",
            "\u001b[1m391/391\u001b[0m \u001b[32m━━━━━━━━━━━━━━━━━━━━\u001b[0m\u001b[37m\u001b[0m \u001b[1m7s\u001b[0m 19ms/step - accuracy: 0.4147 - loss: 1.6383 - val_accuracy: 0.4031 - val_loss: 1.6666\n",
            "Epoch 19/50\n",
            "\u001b[1m391/391\u001b[0m \u001b[32m━━━━━━━━━━━━━━━━━━━━\u001b[0m\u001b[37m\u001b[0m \u001b[1m7s\u001b[0m 19ms/step - accuracy: 0.4150 - loss: 1.6278 - val_accuracy: 0.4384 - val_loss: 1.5982\n",
            "Epoch 20/50\n",
            "\u001b[1m391/391\u001b[0m \u001b[32m━━━━━━━━━━━━━━━━━━━━\u001b[0m\u001b[37m\u001b[0m \u001b[1m7s\u001b[0m 19ms/step - accuracy: 0.4241 - loss: 1.6208 - val_accuracy: 0.4256 - val_loss: 1.6106\n",
            "Epoch 21/50\n",
            "\u001b[1m391/391\u001b[0m \u001b[32m━━━━━━━━━━━━━━━━━━━━\u001b[0m\u001b[37m\u001b[0m \u001b[1m8s\u001b[0m 20ms/step - accuracy: 0.4332 - loss: 1.5987 - val_accuracy: 0.4136 - val_loss: 1.6419\n",
            "Epoch 22/50\n",
            "\u001b[1m391/391\u001b[0m \u001b[32m━━━━━━━━━━━━━━━━━━━━\u001b[0m\u001b[37m\u001b[0m \u001b[1m7s\u001b[0m 19ms/step - accuracy: 0.4474 - loss: 1.5553 - val_accuracy: 0.4075 - val_loss: 1.6279\n",
            "Epoch 23/50\n",
            "\u001b[1m391/391\u001b[0m \u001b[32m━━━━━━━━━━━━━━━━━━━━\u001b[0m\u001b[37m\u001b[0m \u001b[1m7s\u001b[0m 19ms/step - accuracy: 0.4355 - loss: 1.5773 - val_accuracy: 0.4262 - val_loss: 1.5970\n",
            "Epoch 24/50\n",
            "\u001b[1m391/391\u001b[0m \u001b[32m━━━━━━━━━━━━━━━━━━━━\u001b[0m\u001b[37m\u001b[0m \u001b[1m7s\u001b[0m 19ms/step - accuracy: 0.4412 - loss: 1.5647 - val_accuracy: 0.4354 - val_loss: 1.6071\n",
            "Epoch 25/50\n",
            "\u001b[1m391/391\u001b[0m \u001b[32m━━━━━━━━━━━━━━━━━━━━\u001b[0m\u001b[37m\u001b[0m \u001b[1m8s\u001b[0m 20ms/step - accuracy: 0.4422 - loss: 1.5610 - val_accuracy: 0.4313 - val_loss: 1.6013\n",
            "Epoch 26/50\n",
            "\u001b[1m391/391\u001b[0m \u001b[32m━━━━━━━━━━━━━━━━━━━━\u001b[0m\u001b[37m\u001b[0m \u001b[1m7s\u001b[0m 19ms/step - accuracy: 0.4489 - loss: 1.5442 - val_accuracy: 0.4427 - val_loss: 1.5607\n",
            "Epoch 27/50\n",
            "\u001b[1m391/391\u001b[0m \u001b[32m━━━━━━━━━━━━━━━━━━━━\u001b[0m\u001b[37m\u001b[0m \u001b[1m7s\u001b[0m 19ms/step - accuracy: 0.4507 - loss: 1.5416 - val_accuracy: 0.4170 - val_loss: 1.6665\n",
            "Epoch 28/50\n",
            "\u001b[1m391/391\u001b[0m \u001b[32m━━━━━━━━━━━━━━━━━━━━\u001b[0m\u001b[37m\u001b[0m \u001b[1m7s\u001b[0m 19ms/step - accuracy: 0.4561 - loss: 1.5284 - val_accuracy: 0.4546 - val_loss: 1.5503\n",
            "Epoch 29/50\n",
            "\u001b[1m391/391\u001b[0m \u001b[32m━━━━━━━━━━━━━━━━━━━━\u001b[0m\u001b[37m\u001b[0m \u001b[1m11s\u001b[0m 20ms/step - accuracy: 0.4592 - loss: 1.5100 - val_accuracy: 0.4593 - val_loss: 1.5318\n",
            "Epoch 30/50\n",
            "\u001b[1m391/391\u001b[0m \u001b[32m━━━━━━━━━━━━━━━━━━━━\u001b[0m\u001b[37m\u001b[0m \u001b[1m7s\u001b[0m 19ms/step - accuracy: 0.4543 - loss: 1.5194 - val_accuracy: 0.4417 - val_loss: 1.6110\n",
            "Epoch 31/50\n",
            "\u001b[1m391/391\u001b[0m \u001b[32m━━━━━━━━━━━━━━━━━━━━\u001b[0m\u001b[37m\u001b[0m \u001b[1m7s\u001b[0m 19ms/step - accuracy: 0.4506 - loss: 1.5382 - val_accuracy: 0.4274 - val_loss: 1.5829\n",
            "Epoch 32/50\n",
            "\u001b[1m391/391\u001b[0m \u001b[32m━━━━━━━━━━━━━━━━━━━━\u001b[0m\u001b[37m\u001b[0m \u001b[1m7s\u001b[0m 19ms/step - accuracy: 0.4558 - loss: 1.5117 - val_accuracy: 0.4502 - val_loss: 1.5524\n",
            "Epoch 33/50\n",
            "\u001b[1m391/391\u001b[0m \u001b[32m━━━━━━━━━━━━━━━━━━━━\u001b[0m\u001b[37m\u001b[0m \u001b[1m8s\u001b[0m 19ms/step - accuracy: 0.4613 - loss: 1.5024 - val_accuracy: 0.4620 - val_loss: 1.5193\n",
            "Epoch 34/50\n",
            "\u001b[1m391/391\u001b[0m \u001b[32m━━━━━━━━━━━━━━━━━━━━\u001b[0m\u001b[37m\u001b[0m \u001b[1m8s\u001b[0m 19ms/step - accuracy: 0.4668 - loss: 1.4826 - val_accuracy: 0.4496 - val_loss: 1.5835\n",
            "Epoch 35/50\n",
            "\u001b[1m391/391\u001b[0m \u001b[32m━━━━━━━━━━━━━━━━━━━━\u001b[0m\u001b[37m\u001b[0m \u001b[1m10s\u001b[0m 19ms/step - accuracy: 0.4728 - loss: 1.4805 - val_accuracy: 0.4680 - val_loss: 1.5230\n",
            "Epoch 36/50\n",
            "\u001b[1m391/391\u001b[0m \u001b[32m━━━━━━━━━━━━━━━━━━━━\u001b[0m\u001b[37m\u001b[0m \u001b[1m7s\u001b[0m 19ms/step - accuracy: 0.4704 - loss: 1.4801 - val_accuracy: 0.4440 - val_loss: 1.5503\n",
            "Epoch 37/50\n",
            "\u001b[1m391/391\u001b[0m \u001b[32m━━━━━━━━━━━━━━━━━━━━\u001b[0m\u001b[37m\u001b[0m \u001b[1m7s\u001b[0m 19ms/step - accuracy: 0.4829 - loss: 1.4490 - val_accuracy: 0.4407 - val_loss: 1.5893\n",
            "Epoch 38/50\n",
            "\u001b[1m391/391\u001b[0m \u001b[32m━━━━━━━━━━━━━━━━━━━━\u001b[0m\u001b[37m\u001b[0m \u001b[1m8s\u001b[0m 19ms/step - accuracy: 0.4800 - loss: 1.4567 - val_accuracy: 0.4416 - val_loss: 1.5801\n",
            "Epoch 39/50\n",
            "\u001b[1m391/391\u001b[0m \u001b[32m━━━━━━━━━━━━━━━━━━━━\u001b[0m\u001b[37m\u001b[0m \u001b[1m7s\u001b[0m 19ms/step - accuracy: 0.4881 - loss: 1.4440 - val_accuracy: 0.4617 - val_loss: 1.5323\n",
            "Epoch 40/50\n",
            "\u001b[1m391/391\u001b[0m \u001b[32m━━━━━━━━━━━━━━━━━━━━\u001b[0m\u001b[37m\u001b[0m \u001b[1m7s\u001b[0m 19ms/step - accuracy: 0.4835 - loss: 1.4465 - val_accuracy: 0.4699 - val_loss: 1.4966\n",
            "Epoch 41/50\n",
            "\u001b[1m391/391\u001b[0m \u001b[32m━━━━━━━━━━━━━━━━━━━━\u001b[0m\u001b[37m\u001b[0m \u001b[1m7s\u001b[0m 19ms/step - accuracy: 0.4916 - loss: 1.4235 - val_accuracy: 0.4676 - val_loss: 1.5135\n",
            "Epoch 42/50\n",
            "\u001b[1m391/391\u001b[0m \u001b[32m━━━━━━━━━━━━━━━━━━━━\u001b[0m\u001b[37m\u001b[0m \u001b[1m8s\u001b[0m 20ms/step - accuracy: 0.4902 - loss: 1.4244 - val_accuracy: 0.4576 - val_loss: 1.5393\n",
            "Epoch 43/50\n",
            "\u001b[1m391/391\u001b[0m \u001b[32m━━━━━━━━━━━━━━━━━━━━\u001b[0m\u001b[37m\u001b[0m \u001b[1m10s\u001b[0m 19ms/step - accuracy: 0.4976 - loss: 1.4068 - val_accuracy: 0.4748 - val_loss: 1.4979\n",
            "Epoch 44/50\n",
            "\u001b[1m391/391\u001b[0m \u001b[32m━━━━━━━━━━━━━━━━━━━━\u001b[0m\u001b[37m\u001b[0m \u001b[1m7s\u001b[0m 19ms/step - accuracy: 0.4946 - loss: 1.4175 - val_accuracy: 0.4623 - val_loss: 1.5266\n",
            "Epoch 45/50\n",
            "\u001b[1m391/391\u001b[0m \u001b[32m━━━━━━━━━━━━━━━━━━━━\u001b[0m\u001b[37m\u001b[0m \u001b[1m7s\u001b[0m 19ms/step - accuracy: 0.4975 - loss: 1.4087 - val_accuracy: 0.4629 - val_loss: 1.5068\n",
            "Epoch 46/50\n",
            "\u001b[1m391/391\u001b[0m \u001b[32m━━━━━━━━━━━━━━━━━━━━\u001b[0m\u001b[37m\u001b[0m \u001b[1m8s\u001b[0m 20ms/step - accuracy: 0.4965 - loss: 1.4133 - val_accuracy: 0.4562 - val_loss: 1.5238\n",
            "Epoch 47/50\n",
            "\u001b[1m391/391\u001b[0m \u001b[32m━━━━━━━━━━━━━━━━━━━━\u001b[0m\u001b[37m\u001b[0m \u001b[1m7s\u001b[0m 19ms/step - accuracy: 0.4937 - loss: 1.4102 - val_accuracy: 0.4657 - val_loss: 1.5237\n",
            "Epoch 48/50\n",
            "\u001b[1m391/391\u001b[0m \u001b[32m━━━━━━━━━━━━━━━━━━━━\u001b[0m\u001b[37m\u001b[0m \u001b[1m7s\u001b[0m 19ms/step - accuracy: 0.5056 - loss: 1.3835 - val_accuracy: 0.4597 - val_loss: 1.5197\n",
            "Epoch 49/50\n",
            "\u001b[1m391/391\u001b[0m \u001b[32m━━━━━━━━━━━━━━━━━━━━\u001b[0m\u001b[37m\u001b[0m \u001b[1m7s\u001b[0m 19ms/step - accuracy: 0.5053 - loss: 1.3857 - val_accuracy: 0.4597 - val_loss: 1.5210\n",
            "Epoch 50/50\n",
            "\u001b[1m391/391\u001b[0m \u001b[32m━━━━━━━━━━━━━━━━━━━━\u001b[0m\u001b[37m\u001b[0m \u001b[1m8s\u001b[0m 20ms/step - accuracy: 0.5037 - loss: 1.3812 - val_accuracy: 0.4759 - val_loss: 1.4883\n"
          ]
        }
      ],
      "source": [
        "# Train model without Early Stopping\n",
        "model = create_model()\n",
        "start_time = time.time()\n",
        "history_no_es = model.fit(x_train, y_train, validation_data=(x_test, y_test), epochs=50, batch_size=128, verbose=1)\n",
        "time_no_es = time.time() - start_time"
      ]
    },
    {
      "cell_type": "markdown",
      "metadata": {},
      "source": [
        "**history_es** stores the training history of the model, including loss, accuracy, validation loss, and validation accuracy at each epoch."
      ]
    },
    {
      "cell_type": "code",
      "execution_count": null,
      "metadata": {
        "execution": {
          "iopub.execute_input": "2025-03-20T08:29:13.832284Z",
          "iopub.status.busy": "2025-03-20T08:29:13.831968Z",
          "iopub.status.idle": "2025-03-20T08:32:24.974806Z",
          "shell.execute_reply": "2025-03-20T08:32:24.973639Z",
          "shell.execute_reply.started": "2025-03-20T08:29:13.832257Z"
        },
        "id": "eeOI6xrTuPk9",
        "outputId": "80287dbe-e038-40aa-8af3-f2633847e575",
        "trusted": true
      },
      "outputs": [
        {
          "name": "stdout",
          "output_type": "stream",
          "text": [
            "Epoch 1/50\n",
            "\u001b[1m391/391\u001b[0m \u001b[32m━━━━━━━━━━━━━━━━━━━━\u001b[0m\u001b[37m\u001b[0m \u001b[1m9s\u001b[0m 19ms/step - accuracy: 0.1685 - loss: 99.7915 - val_accuracy: 0.1690 - val_loss: 7.4917\n",
            "Epoch 2/50\n",
            "\u001b[1m391/391\u001b[0m \u001b[32m━━━━━━━━━━━━━━━━━━━━\u001b[0m\u001b[37m\u001b[0m \u001b[1m7s\u001b[0m 19ms/step - accuracy: 0.2535 - loss: 3.8725 - val_accuracy: 0.2828 - val_loss: 2.4957\n",
            "Epoch 3/50\n",
            "\u001b[1m391/391\u001b[0m \u001b[32m━━━━━━━━━━━━━━━━━━━━\u001b[0m\u001b[37m\u001b[0m \u001b[1m7s\u001b[0m 19ms/step - accuracy: 0.3042 - loss: 2.2491 - val_accuracy: 0.3187 - val_loss: 2.0725\n",
            "Epoch 4/50\n",
            "\u001b[1m391/391\u001b[0m \u001b[32m━━━━━━━━━━━━━━━━━━━━\u001b[0m\u001b[37m\u001b[0m \u001b[1m8s\u001b[0m 20ms/step - accuracy: 0.3178 - loss: 2.0810 - val_accuracy: 0.3289 - val_loss: 2.0097\n",
            "Epoch 5/50\n",
            "\u001b[1m391/391\u001b[0m \u001b[32m━━━━━━━━━━━━━━━━━━━━\u001b[0m\u001b[37m\u001b[0m \u001b[1m7s\u001b[0m 19ms/step - accuracy: 0.3423 - loss: 1.9443 - val_accuracy: 0.3530 - val_loss: 1.8604\n",
            "Epoch 6/50\n",
            "\u001b[1m391/391\u001b[0m \u001b[32m━━━━━━━━━━━━━━━━━━━━\u001b[0m\u001b[37m\u001b[0m \u001b[1m7s\u001b[0m 19ms/step - accuracy: 0.3628 - loss: 1.8489 - val_accuracy: 0.3591 - val_loss: 1.8856\n",
            "Epoch 7/50\n",
            "\u001b[1m391/391\u001b[0m \u001b[32m━━━━━━━━━━━━━━━━━━━━\u001b[0m\u001b[37m\u001b[0m \u001b[1m10s\u001b[0m 19ms/step - accuracy: 0.3766 - loss: 1.7865 - val_accuracy: 0.3579 - val_loss: 1.8543\n",
            "Epoch 8/50\n",
            "\u001b[1m391/391\u001b[0m \u001b[32m━━━━━━━━━━━━━━━━━━━━\u001b[0m\u001b[37m\u001b[0m \u001b[1m8s\u001b[0m 20ms/step - accuracy: 0.3854 - loss: 1.7493 - val_accuracy: 0.3810 - val_loss: 1.7453\n",
            "Epoch 9/50\n",
            "\u001b[1m391/391\u001b[0m \u001b[32m━━━━━━━━━━━━━━━━━━━━\u001b[0m\u001b[37m\u001b[0m \u001b[1m7s\u001b[0m 19ms/step - accuracy: 0.3904 - loss: 1.7379 - val_accuracy: 0.3725 - val_loss: 1.7760\n",
            "Epoch 10/50\n",
            "\u001b[1m391/391\u001b[0m \u001b[32m━━━━━━━━━━━━━━━━━━━━\u001b[0m\u001b[37m\u001b[0m \u001b[1m7s\u001b[0m 19ms/step - accuracy: 0.3853 - loss: 1.7464 - val_accuracy: 0.3670 - val_loss: 1.8017\n",
            "Epoch 11/50\n",
            "\u001b[1m391/391\u001b[0m \u001b[32m━━━━━━━━━━━━━━━━━━━━\u001b[0m\u001b[37m\u001b[0m \u001b[1m7s\u001b[0m 19ms/step - accuracy: 0.3933 - loss: 1.7272 - val_accuracy: 0.3378 - val_loss: 1.8682\n",
            "Epoch 12/50\n",
            "\u001b[1m391/391\u001b[0m \u001b[32m━━━━━━━━━━━━━━━━━━━━\u001b[0m\u001b[37m\u001b[0m \u001b[1m8s\u001b[0m 20ms/step - accuracy: 0.3839 - loss: 1.7584 - val_accuracy: 0.3907 - val_loss: 1.7298\n",
            "Epoch 13/50\n",
            "\u001b[1m391/391\u001b[0m \u001b[32m━━━━━━━━━━━━━━━━━━━━\u001b[0m\u001b[37m\u001b[0m \u001b[1m7s\u001b[0m 19ms/step - accuracy: 0.3956 - loss: 1.7002 - val_accuracy: 0.3823 - val_loss: 1.7376\n",
            "Epoch 14/50\n",
            "\u001b[1m391/391\u001b[0m \u001b[32m━━━━━━━━━━━━━━━━━━━━\u001b[0m\u001b[37m\u001b[0m \u001b[1m7s\u001b[0m 19ms/step - accuracy: 0.3998 - loss: 1.6828 - val_accuracy: 0.3880 - val_loss: 1.7324\n",
            "Epoch 15/50\n",
            "\u001b[1m391/391\u001b[0m \u001b[32m━━━━━━━━━━━━━━━━━━━━\u001b[0m\u001b[37m\u001b[0m \u001b[1m7s\u001b[0m 19ms/step - accuracy: 0.4012 - loss: 1.6942 - val_accuracy: 0.3770 - val_loss: 1.7429\n",
            "Epoch 16/50\n",
            "\u001b[1m391/391\u001b[0m \u001b[32m━━━━━━━━━━━━━━━━━━━━\u001b[0m\u001b[37m\u001b[0m \u001b[1m7s\u001b[0m 19ms/step - accuracy: 0.3978 - loss: 1.6940 - val_accuracy: 0.4028 - val_loss: 1.6867\n",
            "Epoch 17/50\n",
            "\u001b[1m391/391\u001b[0m \u001b[32m━━━━━━━━━━━━━━━━━━━━\u001b[0m\u001b[37m\u001b[0m \u001b[1m8s\u001b[0m 20ms/step - accuracy: 0.3925 - loss: 1.7177 - val_accuracy: 0.4012 - val_loss: 1.6931\n",
            "Epoch 18/50\n",
            "\u001b[1m391/391\u001b[0m \u001b[32m━━━━━━━━━━━━━━━━━━━━\u001b[0m\u001b[37m\u001b[0m \u001b[1m7s\u001b[0m 19ms/step - accuracy: 0.4025 - loss: 1.6787 - val_accuracy: 0.3706 - val_loss: 1.7432\n",
            "Epoch 19/50\n",
            "\u001b[1m391/391\u001b[0m \u001b[32m━━━━━━━━━━━━━━━━━━━━\u001b[0m\u001b[37m\u001b[0m \u001b[1m7s\u001b[0m 19ms/step - accuracy: 0.4053 - loss: 1.6483 - val_accuracy: 0.3901 - val_loss: 1.6992\n",
            "Epoch 20/50\n",
            "\u001b[1m391/391\u001b[0m \u001b[32m━━━━━━━━━━━━━━━━━━━━\u001b[0m\u001b[37m\u001b[0m \u001b[1m7s\u001b[0m 19ms/step - accuracy: 0.4152 - loss: 1.6330 - val_accuracy: 0.4126 - val_loss: 1.6165\n",
            "Epoch 21/50\n",
            "\u001b[1m391/391\u001b[0m \u001b[32m━━━━━━━━━━━━━━━━━━━━\u001b[0m\u001b[37m\u001b[0m \u001b[1m8s\u001b[0m 20ms/step - accuracy: 0.4216 - loss: 1.6218 - val_accuracy: 0.4026 - val_loss: 1.6627\n",
            "Epoch 22/50\n",
            "\u001b[1m391/391\u001b[0m \u001b[32m━━━━━━━━━━━━━━━━━━━━\u001b[0m\u001b[37m\u001b[0m \u001b[1m7s\u001b[0m 19ms/step - accuracy: 0.4103 - loss: 1.6394 - val_accuracy: 0.4139 - val_loss: 1.6399\n",
            "Epoch 23/50\n",
            "\u001b[1m391/391\u001b[0m \u001b[32m━━━━━━━━━━━━━━━━━━━━\u001b[0m\u001b[37m\u001b[0m \u001b[1m7s\u001b[0m 19ms/step - accuracy: 0.4277 - loss: 1.5951 - val_accuracy: 0.4202 - val_loss: 1.6333\n",
            "Epoch 24/50\n",
            "\u001b[1m391/391\u001b[0m \u001b[32m━━━━━━━━━━━━━━━━━━━━\u001b[0m\u001b[37m\u001b[0m \u001b[1m7s\u001b[0m 19ms/step - accuracy: 0.4337 - loss: 1.5759 - val_accuracy: 0.4045 - val_loss: 1.6511\n",
            "Epoch 25/50\n",
            "\u001b[1m391/391\u001b[0m \u001b[32m━━━━━━━━━━━━━━━━━━━━\u001b[0m\u001b[37m\u001b[0m \u001b[1m8s\u001b[0m 19ms/step - accuracy: 0.4216 - loss: 1.6153 - val_accuracy: 0.3872 - val_loss: 1.7586\n"
          ]
        }
      ],
      "source": [
        "#train model with early stopping\n",
        "early_stopping = EarlyStopping(monitor='val_loss', patience=5, restore_best_weights=True)\n",
        "# This line stops training early if the validation loss doesn’t improve for a set number of epochs.\n",
        "# The patience parameter is the number of epochs to wait before stopping.\n",
        "model_es = create_model()\n",
        "start_time_es = time.time()\n",
        "history_es = model_es.fit(x_train, y_train, validation_data=(x_test, y_test), epochs=50, batch_size=128, verbose=1, callbacks=[early_stopping])\n",
        "time_es = time.time() - start_time_es"
      ]
    },
    {
      "cell_type": "code",
      "execution_count": null,
      "metadata": {
        "execution": {
          "iopub.execute_input": "2025-03-20T08:34:42.547345Z",
          "iopub.status.busy": "2025-03-20T08:34:42.546881Z",
          "iopub.status.idle": "2025-03-20T08:34:44.979527Z",
          "shell.execute_reply": "2025-03-20T08:34:44.978592Z",
          "shell.execute_reply.started": "2025-03-20T08:34:42.547303Z"
        },
        "id": "0lgYdeMnuPlC",
        "outputId": "e3009002-eb66-495c-a24c-6b024b90951f",
        "trusted": true
      },
      "outputs": [
        {
          "name": "stdout",
          "output_type": "stream",
          "text": [
            "Without Early Stopping -> Time: 388.47s, Accuracy: 0.4759\n",
            "With Early Stopping -> Time: 191.09s, Accuracy: 0.4126\n"
          ]
        }
      ],
      "source": [
        "# Evaluating\n",
        "test_loss, test_acc = model.evaluate(x_test, y_test, verbose=0)\n",
        "test_loss_es, test_acc_es = model_es.evaluate(x_test, y_test, verbose=0)\n",
        "\n",
        "print(f\"Without Early Stopping -> Time: {time_no_es:.2f}s, Accuracy: {test_acc:.4f}\")\n",
        "print(f\"With Early Stopping -> Time: {time_es:.2f}s, Accuracy: {test_acc_es:.4f}\")"
      ]
    },
    {
      "cell_type": "markdown",
      "metadata": {},
      "source": [
        "### Early Stopping vs. No Early Stopping  \n",
        "\n",
        "- **Without Early Stopping**: Training takes **longer** as the model continues learning until the max epochs. \n",
        " \n",
        "- **With Early Stopping**: Training **stops earlier** when validation loss stops improving, saving time.  \n",
        "\n",
        "- If accuracy is similar, **Early Stopping is better** as it reduces computation. \n",
        "\n",
        "- If accuracy drops, the stopping criteria might be **too strict**, needing fine-tuning.  "
      ]
    },
    {
      "cell_type": "code",
      "execution_count": null,
      "metadata": {
        "execution": {
          "iopub.execute_input": "2025-03-20T08:34:56.655022Z",
          "iopub.status.busy": "2025-03-20T08:34:56.654712Z",
          "iopub.status.idle": "2025-03-20T08:34:57.104547Z",
          "shell.execute_reply": "2025-03-20T08:34:57.103547Z",
          "shell.execute_reply.started": "2025-03-20T08:34:56.654998Z"
        },
        "id": "2tEcKDcOuPlD",
        "outputId": "de210ab4-c565-4d75-d5d8-dd844c8acab7",
        "trusted": true
      },
      "outputs": [
        {
          "data": {
            "image/png": "[encoded data removed]",
            "text/plain": [
              "<Figure size 1000x500 with 1 Axes>"
            ]
          },
          "metadata": {},
          "output_type": "display_data"
        }
      ],
      "source": [
        "plt.figure(figsize=(10, 5))\n",
        "\n",
        "# Loss without Early Stopping\n",
        "plt.plot(history_no_es.history['loss'], label='Train Loss (No ES)', linestyle='-', marker='o', linewidth=2, markersize=4, alpha=0.8)\n",
        "plt.plot(history_no_es.history['val_loss'], label='Val Loss (No ES)', linestyle='--', marker='s', linewidth=2, markersize=4, alpha=0.8)\n",
        "\n",
        "# Loss with Early Stopping\n",
        "plt.plot(history_es.history['loss'], label='Train Loss (ES)', linestyle='-', marker='^', linewidth=2, markersize=4, alpha=0.8)\n",
        "plt.plot(history_es.history['val_loss'], label='Val Loss (ES)', linestyle='--', marker='d', linewidth=2, markersize=4, alpha=0.8)\n",
        "\n",
        "plt.xlabel(\"Epochs\", fontsize=12)\n",
        "plt.ylabel(\"Loss\", fontsize=12)\n",
        "plt.title(\"Loss Curves: With and Without Early Stopping\", fontsize=14, fontweight='bold')\n",
        "plt.legend(fontsize=10)\n",
        "plt.grid(True, linestyle='--', alpha=0.5)\n",
        "\n",
        "plt.show()\n",
        "\n"
      ]
    },
    {
      "cell_type": "markdown",
      "metadata": {
        "id": "Hz6ZiASVuPlI"
      },
      "source": [
        "* Early Stopping helped reduce unnecessary training while achieving similar performance.\n",
        "* No significant overfitting, as validation loss remains stable.\n",
        "* Both models converge to a similar loss value, meaning training longer (without ES) didn't provide major benefits.\n",
        "* As there is no major benefit in training longer for this dataset, Early Stopping can be used without affecting the results, saving time and computational resources.\n"
      ]
    }
  ],
  "metadata": {
    "colab": {
      "name": "early_stopping_dnn",
      "provenance": []
    },
    "kaggle": {
      "accelerator": "none",
      "dataSources": [],
      "dockerImageVersionId": 30918,
      "isGpuEnabled": false,
      "isInternetEnabled": true,
      "language": "python",
      "sourceType": "notebook"
    },
    "kernelspec": {
      "display_name": "Python 3",
      "language": "python",
      "name": "python3"
    },
    "language_info": {
      "codemirror_mode": {
        "name": "ipython",
        "version": 3
      },
      "file_extension": ".py",
      "mimetype": "text/x-python",
      "name": "python",
      "nbconvert_exporter": "python",
      "pygments_lexer": "ipython3",
      "version": "3.11.8"
    }
  },
  "nbformat": 4,
  "nbformat_minor": 0
}

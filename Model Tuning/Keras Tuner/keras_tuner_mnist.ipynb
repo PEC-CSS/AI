{
  "cells": [
    {
      "cell_type": "markdown",
      "metadata": {
        "id": "eQPpB3dyrWGn"
      },
      "source": [
        "# Tuning Neural Networks with Keras Tuner"
      ]
    },
    {
      "cell_type": "markdown",
      "metadata": {
        "id": "93q76h2GrWGq"
      },
      "source": [
        "STEP 1: INSTALL REQUIRED LIBRARIES"
      ]
    },
    {
      "cell_type": "markdown",
      "metadata": {
        "id": "QyprynckrWGr"
      },
      "source": [
        " TensorFlow is the main library for deep learning.\n",
        " keras-tuner helps us automatically find the best hyperparameters for our model.\n",
        " If you don't have them installed, run this command in Jupyter Notebook or Colab:"
      ]
    },
    {
      "cell_type": "code",
      "execution_count": 1,
      "metadata": {
        "colab": {
          "base_uri": "https://localhost:8080/"
        },
        "id": "Xenu3-2VrWGs",
        "outputId": "fc00e932-cd4f-482a-d23a-dd15f3f3d025"
      },
      "outputs": [
        {
          "name": "stdout",
          "output_type": "stream",
          "text": [
            "Requirement already satisfied: tensorflow in /usr/local/lib/python3.11/dist-packages (2.18.0)\n",
            "Collecting keras-tuner\n",
            "  Downloading keras_tuner-1.4.7-py3-none-any.whl.metadata (5.4 kB)\n",
            "Requirement already satisfied: absl-py>=1.0.0 in /usr/local/lib/python3.11/dist-packages (from tensorflow) (1.4.0)\n",
            "Requirement already satisfied: astunparse>=1.6.0 in /usr/local/lib/python3.11/dist-packages (from tensorflow) (1.6.3)\n",
            "Requirement already satisfied: flatbuffers>=24.3.25 in /usr/local/lib/python3.11/dist-packages (from tensorflow) (25.2.10)\n",
            "Requirement already satisfied: gast!=0.5.0,!=0.5.1,!=0.5.2,>=0.2.1 in /usr/local/lib/python3.11/dist-packages (from tensorflow) (0.6.0)\n",
            "Requirement already satisfied: google-pasta>=0.1.1 in /usr/local/lib/python3.11/dist-packages (from tensorflow) (0.2.0)\n",
            "Requirement already satisfied: libclang>=13.0.0 in /usr/local/lib/python3.11/dist-packages (from tensorflow) (18.1.1)\n",
            "Requirement already satisfied: opt-einsum>=2.3.2 in /usr/local/lib/python3.11/dist-packages (from tensorflow) (3.4.0)\n",
            "Requirement already satisfied: packaging in /usr/local/lib/python3.11/dist-packages (from tensorflow) (24.2)\n",
            "Requirement already satisfied: protobuf!=4.21.0,!=4.21.1,!=4.21.2,!=4.21.3,!=4.21.4,!=4.21.5,<6.0.0dev,>=3.20.3 in /usr/local/lib/python3.11/dist-packages (from tensorflow) (5.29.4)\n",
            "Requirement already satisfied: requests<3,>=2.21.0 in /usr/local/lib/python3.11/dist-packages (from tensorflow) (2.32.3)\n",
            "Requirement already satisfied: setuptools in /usr/local/lib/python3.11/dist-packages (from tensorflow) (75.2.0)\n",
            "Requirement already satisfied: six>=1.12.0 in /usr/local/lib/python3.11/dist-packages (from tensorflow) (1.17.0)\n",
            "Requirement already satisfied: termcolor>=1.1.0 in /usr/local/lib/python3.11/dist-packages (from tensorflow) (2.5.0)\n",
            "Requirement already satisfied: typing-extensions>=3.6.6 in /usr/local/lib/python3.11/dist-packages (from tensorflow) (4.13.0)\n",
            "Requirement already satisfied: wrapt>=1.11.0 in /usr/local/lib/python3.11/dist-packages (from tensorflow) (1.17.2)\n",
            "Requirement already satisfied: grpcio<2.0,>=1.24.3 in /usr/local/lib/python3.11/dist-packages (from tensorflow) (1.71.0)\n",
            "Requirement already satisfied: tensorboard<2.19,>=2.18 in /usr/local/lib/python3.11/dist-packages (from tensorflow) (2.18.0)\n",
            "Requirement already satisfied: keras>=3.5.0 in /usr/local/lib/python3.11/dist-packages (from tensorflow) (3.8.0)\n",
            "Requirement already satisfied: numpy<2.1.0,>=1.26.0 in /usr/local/lib/python3.11/dist-packages (from tensorflow) (2.0.2)\n",
            "Requirement already satisfied: h5py>=3.11.0 in /usr/local/lib/python3.11/dist-packages (from tensorflow) (3.13.0)\n",
            "Requirement already satisfied: ml-dtypes<0.5.0,>=0.4.0 in /usr/local/lib/python3.11/dist-packages (from tensorflow) (0.4.1)\n",
            "Requirement already satisfied: tensorflow-io-gcs-filesystem>=0.23.1 in /usr/local/lib/python3.11/dist-packages (from tensorflow) (0.37.1)\n",
            "Collecting kt-legacy (from keras-tuner)\n",
            "  Downloading kt_legacy-1.0.5-py3-none-any.whl.metadata (221 bytes)\n",
            "Requirement already satisfied: wheel<1.0,>=0.23.0 in /usr/local/lib/python3.11/dist-packages (from astunparse>=1.6.0->tensorflow) (0.45.1)\n",
            "Requirement already satisfied: rich in /usr/local/lib/python3.11/dist-packages (from keras>=3.5.0->tensorflow) (13.9.4)\n",
            "Requirement already satisfied: namex in /usr/local/lib/python3.11/dist-packages (from keras>=3.5.0->tensorflow) (0.0.8)\n",
            "Requirement already satisfied: optree in /usr/local/lib/python3.11/dist-packages (from keras>=3.5.0->tensorflow) (0.14.1)\n",
            "Requirement already satisfied: charset-normalizer<4,>=2 in /usr/local/lib/python3.11/dist-packages (from requests<3,>=2.21.0->tensorflow) (3.4.1)\n",
            "Requirement already satisfied: idna<4,>=2.5 in /usr/local/lib/python3.11/dist-packages (from requests<3,>=2.21.0->tensorflow) (3.10)\n",
            "Requirement already satisfied: urllib3<3,>=1.21.1 in /usr/local/lib/python3.11/dist-packages (from requests<3,>=2.21.0->tensorflow) (2.3.0)\n",
            "Requirement already satisfied: certifi>=2017.4.17 in /usr/local/lib/python3.11/dist-packages (from requests<3,>=2.21.0->tensorflow) (2025.1.31)\n",
            "Requirement already satisfied: markdown>=2.6.8 in /usr/local/lib/python3.11/dist-packages (from tensorboard<2.19,>=2.18->tensorflow) (3.7)\n",
            "Requirement already satisfied: tensorboard-data-server<0.8.0,>=0.7.0 in /usr/local/lib/python3.11/dist-packages (from tensorboard<2.19,>=2.18->tensorflow) (0.7.2)\n",
            "Requirement already satisfied: werkzeug>=1.0.1 in /usr/local/lib/python3.11/dist-packages (from tensorboard<2.19,>=2.18->tensorflow) (3.1.3)\n",
            "Requirement already satisfied: MarkupSafe>=2.1.1 in /usr/local/lib/python3.11/dist-packages (from werkzeug>=1.0.1->tensorboard<2.19,>=2.18->tensorflow) (3.0.2)\n",
            "Requirement already satisfied: markdown-it-py>=2.2.0 in /usr/local/lib/python3.11/dist-packages (from rich->keras>=3.5.0->tensorflow) (3.0.0)\n",
            "Requirement already satisfied: pygments<3.0.0,>=2.13.0 in /usr/local/lib/python3.11/dist-packages (from rich->keras>=3.5.0->tensorflow) (2.18.0)\n",
            "Requirement already satisfied: mdurl~=0.1 in /usr/local/lib/python3.11/dist-packages (from markdown-it-py>=2.2.0->rich->keras>=3.5.0->tensorflow) (0.1.2)\n",
            "Downloading keras_tuner-1.4.7-py3-none-any.whl (129 kB)\n",
            "\u001b[2K   \u001b[90m━━━━━━━━━━━━━━━━━━━━━━━━━━━━━━━━━━━━━━━━\u001b[0m \u001b[32m129.1/129.1 kB\u001b[0m \u001b[31m1.8 MB/s\u001b[0m eta \u001b[36m0:00:00\u001b[0m\n",
            "\u001b[?25hDownloading kt_legacy-1.0.5-py3-none-any.whl (9.6 kB)\n",
            "Installing collected packages: kt-legacy, keras-tuner\n",
            "Successfully installed keras-tuner-1.4.7 kt-legacy-1.0.5\n"
          ]
        }
      ],
      "source": [
        "!pip install tensorflow keras-tuner"
      ]
    },
    {
      "cell_type": "markdown",
      "metadata": {
        "id": "7pLp_pCOrWGt"
      },
      "source": [
        "STEP 2: IMPORT NECESSARY LIBRARIES"
      ]
    },
    {
      "cell_type": "code",
      "execution_count": 2,
      "metadata": {
        "id": "pfy-ulZtrWGu"
      },
      "outputs": [],
      "source": [
        "import tensorflow as tf  # Import the TensorFlow library\n",
        "from tensorflow import keras  # Import Keras (a high-level API for TensorFlow)\n",
        "from tensorflow.keras import layers  # Import layers to build our neural network\n",
        "import keras_tuner as kt  # Import Keras Tuner for hyperparameter tuning\n",
        "\n",
        "import numpy as np  # Used for numerical operations\n",
        "import matplotlib.pyplot as plt  # Used to plot graphs"
      ]
    },
    {
      "cell_type": "markdown",
      "metadata": {
        "id": "ySdcVHjYrWGu"
      },
      "source": [
        " STEP 3: LOAD & PREPROCESS MNIST DATASET\n",
        "\n",
        "\n",
        " The MNIST dataset consists of 70,000 images of handwritten digits (0-9)\n",
        " These are grayscale images of size 28x28 pixels.\n",
        "\n",
        " Load dataset directly from Keras (it will automatically download if not available)"
      ]
    },
    {
      "cell_type": "code",
      "execution_count": 3,
      "metadata": {
        "colab": {
          "base_uri": "https://localhost:8080/"
        },
        "id": "cprKusFSrWGu",
        "outputId": "1d53a750-97b6-4196-9e4d-934fd66b0fd9"
      },
      "outputs": [
        {
          "name": "stdout",
          "output_type": "stream",
          "text": [
            "Downloading data from https://storage.googleapis.com/tensorflow/tf-keras-datasets/mnist.npz\n",
            "\u001b[1m11490434/11490434\u001b[0m \u001b[32m━━━━━━━━━━━━━━━━━━━━\u001b[0m\u001b[37m\u001b[0m \u001b[1m0s\u001b[0m 0us/step\n",
            "Training data shape: (60000, 28, 28, 1)\n",
            "Test data shape: (10000, 28, 28, 1)\n"
          ]
        }
      ],
      "source": [
        "(x_train, y_train), (x_test, y_test) = keras.datasets.mnist.load_data()\n",
        "\n",
        "# Normalize pixel values to be between 0 and 1 (this helps the model learn better)\n",
        "x_train = x_train / 255.0\n",
        "x_test = x_test / 255.0\n",
        "\n",
        "# Neural networks expect images to have a \"channel\" dimension (e.g., grayscale has 1 channel).\n",
        "# Our dataset has shape (60000, 28, 28), but we need (60000, 28, 28, 1).\n",
        "x_train = np.expand_dims(x_train, axis=-1)\n",
        "x_test = np.expand_dims(x_test, axis=-1)\n",
        "# Let's print the shape to confirm\n",
        "print(\"Training data shape:\", x_train.shape)  # Expected: (60000, 28, 28, 1)\n",
        "print(\"Test data shape:\", x_test.shape)  # Expected: (10000, 28, 28, 1)"
      ]
    },
    {
      "cell_type": "markdown",
      "metadata": {
        "id": "7sn7bu35rWGv"
      },
      "source": [
        "STEP 4: DEFINE A MODEL FOR HYPERPARAMETER TUNING\n",
        "\n",
        "In deep learning, choosing the right settings (e.g., number of neurons, learning rate) can be tricky. Instead of guessing, we use Keras Tuner to automatically find the best ones."
      ]
    },
    {
      "cell_type": "code",
      "execution_count": 4,
      "metadata": {
        "id": "SLakt3q3rWGv"
      },
      "outputs": [],
      "source": [
        "# This function builds a Convolutional Neural Network (CNN) model and lets us tune hyperparameters\n",
        "def build_model(hp):  # 'hp' stands for hyperparameters\n",
        "    model = keras.Sequential()  # Create a sequential (layer-by-layer) model\n",
        "\n",
        "    # First convolutional layer (extracts patterns from images)\n",
        "    # We let Keras Tuner decide whether to use 32 or 64 filters\n",
        "    model.add(layers.Conv2D(\n",
        "        filters=hp.Choice('conv1_filters', values=[32, 64]),\n",
        "        kernel_size=(3,3),  # 3x3 filter size\n",
        "        activation='relu',   # ReLU activation makes training more efficient\n",
        "        input_shape=(28, 28, 1)  # Input shape: 28x28 images with 1 color channel\n",
        "    ))\n",
        "    model.add(layers.MaxPooling2D(pool_size=(2,2)))  # Reduces image size to avoid overfitting\n",
        "\n",
        "    # Second convolutional layer (extracts more detailed patterns)\n",
        "    model.add(layers.Conv2D(\n",
        "        filters=hp.Choice('conv2_filters', values=[32, 64]),\n",
        "        kernel_size=(3,3),\n",
        "        activation='relu'\n",
        "    ))\n",
        "    model.add(layers.MaxPooling2D(pool_size=(2,2)))  # Again, reduces size for efficiency\n",
        "\n",
        "    model.add(layers.Flatten())  # Flattens 2D images into a 1D array for the dense layer\n",
        "\n",
        "    # Fully connected (dense) layer with tunable dropout to reduce overfitting\n",
        "    model.add(layers.Dense(64, activation='relu'))\n",
        "    model.add(layers.Dropout(hp.Float('dropout_rate', min_value=0.2, max_value=0.3, step=0.1)))\n",
        "\n",
        "    # Output layer - 10 neurons (one for each digit 0-9), using softmax to get probabilities\n",
        "    model.add(layers.Dense(10, activation='softmax'))\n",
        "\n",
        "    # Compile the model with a tunable learning rate\n",
        "    model.compile(\n",
        "        optimizer=keras.optimizers.Adam(hp.Choice('learning_rate', values=[0.001, 0.0005])),\n",
        "        loss='sparse_categorical_crossentropy',  # Loss function for classification\n",
        "        metrics=['accuracy']  # Track accuracy during training\n",
        "    )\n",
        "\n",
        "    print(\"Model built with hyperparameters:\", hp.values)  # Debugging print statement\n",
        "    return model"
      ]
    },
    {
      "cell_type": "markdown",
      "metadata": {
        "id": "SOFcKXO6rWGv"
      },
      "source": [
        "\n",
        " STEP 5: RUN KERAS TUNER TO FIND BEST HYPERPARAMETERS\n",
        "\n",
        " Keras Tuner will try different hyperparameter combinations and find the best one."
      ]
    },
    {
      "cell_type": "code",
      "execution_count": 5,
      "metadata": {
        "colab": {
          "base_uri": "https://localhost:8080/"
        },
        "id": "YYs3KreirWGw",
        "outputId": "75de392a-26f3-4519-a3b5-ef96dc05ef93"
      },
      "outputs": [
        {
          "name": "stdout",
          "output_type": "stream",
          "text": [
            "Trial 5 Complete [00h 01m 55s]\n",
            "val_accuracy: 0.9862499833106995\n",
            "\n",
            "Best val_accuracy So Far: 0.9879999756813049\n",
            "Total elapsed time: 00h 12m 56s\n"
          ]
        }
      ],
      "source": [
        "tuner = kt.RandomSearch(\n",
        "    build_model,\n",
        "    objective='val_accuracy',  # We want to maximize validation accuracy\n",
        "    max_trials=5,  # Try 5 different sets of hyperparameters\n",
        "    executions_per_trial=1,  # Run each model once (increase for stability)\n",
        "    directory='kt_mnist',  # Directory where results are stored\n",
        "    project_name='mnist_cnn'  # Name of the tuning project\n",
        ")\n",
        "\n",
        "# Stop training early if validation loss stops improving (prevents unnecessary training)\n",
        "early_stopping = keras.callbacks.EarlyStopping(monitor='val_loss', patience=2)\n",
        "\n",
        "# Start the tuning process (this will take some time)\n",
        "print(\"Starting hyperparameter tuning...\")\n",
        "tuner.search(x_train, y_train, epochs=3, validation_split=0.2, callbacks=[early_stopping])"
      ]
    },
    {
      "cell_type": "markdown",
      "metadata": {
        "id": "5p_G6Be3rWGw"
      },
      "source": [
        " STEP 6: RETRIEVE AND TRAIN THE BEST MODEL"
      ]
    },
    {
      "cell_type": "code",
      "execution_count": 6,
      "metadata": {
        "colab": {
          "base_uri": "https://localhost:8080/"
        },
        "id": "5e4LX3TurWGw",
        "outputId": "e4fbaef9-4092-4b7d-a8fd-7204d7ead728"
      },
      "outputs": [
        {
          "name": "stdout",
          "output_type": "stream",
          "text": [
            "Best Hyperparameters Found: {'conv1_filters': 32, 'conv2_filters': 64, 'dropout_rate': 0.2, 'learning_rate': 0.001}\n",
            "Model built with hyperparameters: {'conv1_filters': 32, 'conv2_filters': 64, 'dropout_rate': 0.2, 'learning_rate': 0.001}\n",
            "Training final model with best hyperparameters...\n",
            "Epoch 1/3\n",
            "\u001b[1m1875/1875\u001b[0m \u001b[32m━━━━━━━━━━━━━━━━━━━━\u001b[0m\u001b[37m\u001b[0m \u001b[1m52s\u001b[0m 27ms/step - accuracy: 0.8823 - loss: 0.3723 - val_accuracy: 0.9835 - val_loss: 0.0467\n",
            "Epoch 2/3\n",
            "\u001b[1m1875/1875\u001b[0m \u001b[32m━━━━━━━━━━━━━━━━━━━━\u001b[0m\u001b[37m\u001b[0m \u001b[1m50s\u001b[0m 26ms/step - accuracy: 0.9786 - loss: 0.0698 - val_accuracy: 0.9877 - val_loss: 0.0358\n",
            "Epoch 3/3\n",
            "\u001b[1m1875/1875\u001b[0m \u001b[32m━━━━━━━━━━━━━━━━━━━━\u001b[0m\u001b[37m\u001b[0m \u001b[1m84s\u001b[0m 28ms/step - accuracy: 0.9864 - loss: 0.0466 - val_accuracy: 0.9887 - val_loss: 0.0333\n"
          ]
        }
      ],
      "source": [
        "# Once tuning is complete, we get the best hyperparameter combination found.\n",
        "best_hps = tuner.get_best_hyperparameters(num_trials=1)[0]\n",
        "print(f\"Best Hyperparameters Found: {best_hps.values}\")\n",
        "\n",
        "# Build the best model using these hyperparameters\n",
        "model = tuner.hypermodel.build(best_hps)\n",
        "\n",
        "# Train the final model using the best hyperparameters\n",
        "print(\"Training final model with best hyperparameters...\")\n",
        "history = model.fit(x_train, y_train, epochs=3, validation_data=(x_test, y_test))"
      ]
    },
    {
      "cell_type": "markdown",
      "metadata": {
        "id": "lDG4mvSjrWGw"
      },
      "source": [
        "STEP 7: PLOT TRAINING LOSS BEFORE AND AFTER TUNING"
      ]
    },
    {
      "cell_type": "code",
      "execution_count": 7,
      "metadata": {
        "colab": {
          "base_uri": "https://localhost:8080/",
          "height": 449
        },
        "id": "Jce5bWtorWGw",
        "outputId": "17ae8576-89a7-40de-d89f-5faf0aabc048"
      },
      "outputs": [
        {
          "data": {
            "image/png": "[encoded data removed]",
            "text/plain": [
              "<Figure size 640x480 with 1 Axes>"
            ]
          },
          "metadata": {},
          "output_type": "display_data"
        }
      ],
      "source": [
        "# This graph shows how well the model is learning over time.\n",
        "plt.plot(history.history['loss'], label='Tuned Model Loss')\n",
        "plt.xlabel('Epochs')  # X-axis label\n",
        "plt.ylabel('Loss')  # Y-axis label\n",
        "plt.legend()\n",
        "plt.show()"
      ]
    },
    {
      "cell_type": "markdown",
      "metadata": {
        "id": "aIupWQ8WrWGw"
      },
      "source": [
        "STEP 8: EVALUATE THE FINAL MODEL ON TEST DATA"
      ]
    },
    {
      "cell_type": "code",
      "execution_count": 8,
      "metadata": {
        "colab": {
          "base_uri": "https://localhost:8080/"
        },
        "id": "ZhbGleHUVHz_",
        "outputId": "5c7aeb33-6a97-442e-a29f-50751611b461"
      },
      "outputs": [
        {
          "name": "stdout",
          "output_type": "stream",
          "text": [
            "\u001b[1m313/313\u001b[0m \u001b[32m━━━━━━━━━━━━━━━━━━━━\u001b[0m\u001b[37m\u001b[0m \u001b[1m2s\u001b[0m 8ms/step - accuracy: 0.9859 - loss: 0.0427\n",
            "Tuned Model Accuracy: 98.87%\n"
          ]
        }
      ],
      "source": [
        "\n",
        "# Now that training is done, let's see how well our model performs on real test images.\n",
        "\n",
        "loss, accuracy = model.evaluate(x_test, y_test)  # Evaluate the model\n",
        "print(f'Tuned Model Accuracy: {accuracy * 100:.2f}%')  # Print accuracy as a percentage\n"
      ]
    }
  ],
  "metadata": {
    "colab": {
      "provenance": []
    },
    "kernelspec": {
      "display_name": "Python 3",
      "name": "python3"
    },
    "language_info": {
      "codemirror_mode": {
        "name": "ipython",
        "version": 3
      },
      "file_extension": ".py",
      "mimetype": "text/x-python",
      "name": "python",
      "nbconvert_exporter": "python",
      "pygments_lexer": "ipython3",
      "version": "3.13.1"
    }
  },
  "nbformat": 4,
  "nbformat_minor": 0
}
